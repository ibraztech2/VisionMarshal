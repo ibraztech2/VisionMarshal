{
  "cells": [
    {
      "cell_type": "markdown",
      "metadata": {
        "id": "view-in-github",
        "colab_type": "text"
      },
      "source": [
        "<a href=\"https://colab.research.google.com/github/ibraztech2/traffic_violator_detector/blob/main/traffic_violator_dedetctor.ipynb\" target=\"_parent\"><img src=\"https://colab.research.google.com/assets/colab-badge.svg\" alt=\"Open In Colab\"/></a>"
      ]
    },
    {
      "cell_type": "markdown",
      "source": [],
      "metadata": {
        "id": "PqaagEV1-tG5"
      }
    },
    {
      "cell_type": "markdown",
      "metadata": {
        "id": "M5TMspYIHY3F"
      },
      "source": [
        "#  ***Backend Setup***"
      ]
    },
    {
      "cell_type": "code",
      "source": [
        "!rm -rf /content/smart_traffic_detector"
      ],
      "metadata": {
        "id": "Yu_BxP0rqL--"
      },
      "execution_count": 3,
      "outputs": []
    },
    {
      "cell_type": "markdown",
      "metadata": {
        "id": "-vooaEa-rSl4"
      },
      "source": [
        "## `1. Drive Mount`"
      ]
    },
    {
      "cell_type": "code",
      "execution_count": 4,
      "metadata": {
        "colab": {
          "base_uri": "https://localhost:8080/"
        },
        "id": "zbK7jJIk-y3U",
        "outputId": "6ba25701-956a-4a6c-f3c1-7df13e997fd4"
      },
      "outputs": [
        {
          "output_type": "stream",
          "name": "stdout",
          "text": [
            "nvcc: NVIDIA (R) Cuda compiler driver\n",
            "Copyright (c) 2005-2024 NVIDIA Corporation\n",
            "Built on Thu_Jun__6_02:18:23_PDT_2024\n",
            "Cuda compilation tools, release 12.5, V12.5.82\n",
            "Build cuda_12.5.r12.5/compiler.34385749_0\n"
          ]
        }
      ],
      "source": [
        "# Check the version of cuda compiler available\n",
        "!nvcc --version"
      ]
    },
    {
      "cell_type": "code",
      "execution_count": 5,
      "metadata": {
        "colab": {
          "base_uri": "https://localhost:8080/"
        },
        "id": "C9uqNh2lL89Q",
        "outputId": "954f7f0d-05da-4cad-dd85-1a75b8567861"
      },
      "outputs": [
        {
          "output_type": "stream",
          "name": "stdout",
          "text": [
            "CPU times: user 3 µs, sys: 0 ns, total: 3 µs\n",
            "Wall time: 6.91 µs\n"
          ]
        }
      ],
      "source": [
        "%%time\n",
        "#Mount drive to get acces to video input\n",
        "\n",
        "#from google.colab import drive\n",
        "#drive.mount('/content/drive')"
      ]
    },
    {
      "cell_type": "markdown",
      "metadata": {
        "id": "DqR0Y-0drcLB"
      },
      "source": [
        "## `2. MMAction2 installation And Dependencies Resolution`"
      ]
    },
    {
      "cell_type": "markdown",
      "metadata": {
        "id": "bzXxVY5ak_Ke"
      },
      "source": [
        "### 1. Downgrade Pytorch, Numpy, Transformers, Torchvision, Torchaudio to compatible Version\n"
      ]
    },
    {
      "cell_type": "code",
      "execution_count": 6,
      "metadata": {
        "colab": {
          "base_uri": "https://localhost:8080/",
          "height": 1000
        },
        "id": "B05-Bl_b9mOy",
        "outputId": "33e400fa-48e6-4505-e6e5-020312524421"
      },
      "outputs": [
        {
          "output_type": "stream",
          "name": "stdout",
          "text": [
            "Found existing installation: torch 2.6.0+cu124\n",
            "Uninstalling torch-2.6.0+cu124:\n",
            "  Successfully uninstalled torch-2.6.0+cu124\n",
            "Found existing installation: torchvision 0.21.0+cu124\n",
            "Uninstalling torchvision-0.21.0+cu124:\n",
            "  Successfully uninstalled torchvision-0.21.0+cu124\n",
            "Found existing installation: torchaudio 2.6.0+cu124\n",
            "Uninstalling torchaudio-2.6.0+cu124:\n",
            "  Successfully uninstalled torchaudio-2.6.0+cu124\n",
            "Found existing installation: numpy 2.0.2\n",
            "Uninstalling numpy-2.0.2:\n",
            "  Successfully uninstalled numpy-2.0.2\n",
            "Found existing installation: transformers 4.53.2\n",
            "Uninstalling transformers-4.53.2:\n",
            "  Successfully uninstalled transformers-4.53.2\n",
            "Looking in indexes: https://download.pytorch.org/whl/cu118\n",
            "Collecting torch==2.1.0+cu118\n",
            "  Downloading https://download.pytorch.org/whl/cu118/torch-2.1.0%2Bcu118-cp311-cp311-linux_x86_64.whl (2325.9 MB)\n",
            "\u001b[2K     \u001b[90m━━━━━━━━━━━━━━━━━━━━━━━━━━━━━━━━━━━━━━━━\u001b[0m \u001b[32m2.3/2.3 GB\u001b[0m \u001b[31m543.0 kB/s\u001b[0m eta \u001b[36m0:00:00\u001b[0m\n",
            "\u001b[?25hCollecting torchvision==0.16.0+cu118\n",
            "  Downloading https://download.pytorch.org/whl/cu118/torchvision-0.16.0%2Bcu118-cp311-cp311-linux_x86_64.whl (6.2 MB)\n",
            "\u001b[2K     \u001b[90m━━━━━━━━━━━━━━━━━━━━━━━━━━━━━━━━━━━━━━━━\u001b[0m \u001b[32m6.2/6.2 MB\u001b[0m \u001b[31m114.3 MB/s\u001b[0m eta \u001b[36m0:00:00\u001b[0m\n",
            "\u001b[?25hCollecting torchaudio==2.1.0\n",
            "  Downloading https://download.pytorch.org/whl/cu118/torchaudio-2.1.0%2Bcu118-cp311-cp311-linux_x86_64.whl (3.2 MB)\n",
            "\u001b[2K     \u001b[90m━━━━━━━━━━━━━━━━━━━━━━━━━━━━━━━━━━━━━━━━\u001b[0m \u001b[32m3.2/3.2 MB\u001b[0m \u001b[31m76.6 MB/s\u001b[0m eta \u001b[36m0:00:00\u001b[0m\n",
            "\u001b[?25hRequirement already satisfied: filelock in /usr/local/lib/python3.11/dist-packages (from torch==2.1.0+cu118) (3.18.0)\n",
            "Requirement already satisfied: typing-extensions in /usr/local/lib/python3.11/dist-packages (from torch==2.1.0+cu118) (4.14.1)\n",
            "Requirement already satisfied: sympy in /usr/local/lib/python3.11/dist-packages (from torch==2.1.0+cu118) (1.13.1)\n",
            "Requirement already satisfied: networkx in /usr/local/lib/python3.11/dist-packages (from torch==2.1.0+cu118) (3.5)\n",
            "Requirement already satisfied: jinja2 in /usr/local/lib/python3.11/dist-packages (from torch==2.1.0+cu118) (3.1.6)\n",
            "Requirement already satisfied: fsspec in /usr/local/lib/python3.11/dist-packages (from torch==2.1.0+cu118) (2025.3.2)\n",
            "Collecting triton==2.1.0 (from torch==2.1.0+cu118)\n",
            "  Downloading https://download.pytorch.org/whl/triton-2.1.0-0-cp311-cp311-manylinux2014_x86_64.manylinux_2_17_x86_64.whl (89.2 MB)\n",
            "\u001b[2K     \u001b[90m━━━━━━━━━━━━━━━━━━━━━━━━━━━━━━━━━━━━━━━━\u001b[0m \u001b[32m89.2/89.2 MB\u001b[0m \u001b[31m10.4 MB/s\u001b[0m eta \u001b[36m0:00:00\u001b[0m\n",
            "\u001b[?25hCollecting numpy (from torchvision==0.16.0+cu118)\n",
            "  Downloading https://download.pytorch.org/whl/numpy-2.1.2-cp311-cp311-manylinux_2_17_x86_64.manylinux2014_x86_64.whl.metadata (60 kB)\n",
            "\u001b[2K     \u001b[90m━━━━━━━━━━━━━━━━━━━━━━━━━━━━━━━━━━━━━━━━\u001b[0m \u001b[32m60.9/60.9 kB\u001b[0m \u001b[31m5.3 MB/s\u001b[0m eta \u001b[36m0:00:00\u001b[0m\n",
            "\u001b[?25hRequirement already satisfied: requests in /usr/local/lib/python3.11/dist-packages (from torchvision==0.16.0+cu118) (2.32.3)\n",
            "Requirement already satisfied: pillow!=8.3.*,>=5.3.0 in /usr/local/lib/python3.11/dist-packages (from torchvision==0.16.0+cu118) (11.2.1)\n",
            "Requirement already satisfied: MarkupSafe>=2.0 in /usr/local/lib/python3.11/dist-packages (from jinja2->torch==2.1.0+cu118) (3.0.2)\n",
            "Requirement already satisfied: charset-normalizer<4,>=2 in /usr/local/lib/python3.11/dist-packages (from requests->torchvision==0.16.0+cu118) (3.4.2)\n",
            "Requirement already satisfied: idna<4,>=2.5 in /usr/local/lib/python3.11/dist-packages (from requests->torchvision==0.16.0+cu118) (3.10)\n",
            "Requirement already satisfied: urllib3<3,>=1.21.1 in /usr/local/lib/python3.11/dist-packages (from requests->torchvision==0.16.0+cu118) (2.4.0)\n",
            "Requirement already satisfied: certifi>=2017.4.17 in /usr/local/lib/python3.11/dist-packages (from requests->torchvision==0.16.0+cu118) (2025.7.14)\n",
            "Requirement already satisfied: mpmath<1.4,>=1.1.0 in /usr/local/lib/python3.11/dist-packages (from sympy->torch==2.1.0+cu118) (1.3.0)\n",
            "Downloading https://download.pytorch.org/whl/numpy-2.1.2-cp311-cp311-manylinux_2_17_x86_64.manylinux2014_x86_64.whl (16.3 MB)\n",
            "\u001b[2K   \u001b[90m━━━━━━━━━━━━━━━━━━━━━━━━━━━━━━━━━━━━━━━━\u001b[0m \u001b[32m16.3/16.3 MB\u001b[0m \u001b[31m120.2 MB/s\u001b[0m eta \u001b[36m0:00:00\u001b[0m\n",
            "\u001b[?25hInstalling collected packages: triton, numpy, torch, torchvision, torchaudio\n",
            "  Attempting uninstall: triton\n",
            "    Found existing installation: triton 3.2.0\n",
            "    Uninstalling triton-3.2.0:\n",
            "      Successfully uninstalled triton-3.2.0\n",
            "\u001b[31mERROR: pip's dependency resolver does not currently take into account all the packages that are installed. This behaviour is the source of the following dependency conflicts.\n",
            "sentence-transformers 4.1.0 requires transformers<5.0.0,>=4.41.0, which is not installed.\n",
            "peft 0.16.0 requires transformers, which is not installed.\n",
            "numba 0.60.0 requires numpy<2.1,>=1.22, but you have numpy 2.1.2 which is incompatible.\n",
            "tensorflow 2.18.0 requires numpy<2.1.0,>=1.26.0, but you have numpy 2.1.2 which is incompatible.\u001b[0m\u001b[31m\n",
            "\u001b[0mSuccessfully installed numpy-2.1.2 torch-2.1.0+cu118 torchaudio-2.1.0+cu118 torchvision-0.16.0+cu118 triton-2.1.0\n"
          ]
        },
        {
          "output_type": "display_data",
          "data": {
            "application/vnd.colab-display-data+json": {
              "pip_warning": {
                "packages": [
                  "numpy"
                ]
              },
              "id": "0aae45fe21a54d24b0004121781bd519"
            }
          },
          "metadata": {}
        },
        {
          "output_type": "stream",
          "name": "stdout",
          "text": [
            "CPU times: user 2.58 s, sys: 1.11 s, total: 3.69 s\n",
            "Wall time: 2min 25s\n"
          ]
        }
      ],
      "source": [
        "%%time\n",
        "\n",
        "# !pip uninstall -y torch torchvision torchaudio mmcv mmcv-full mmengine numpy torchao transformers\n",
        "!pip uninstall -y torch torchvision torchaudio numpy transformers\n",
        "\n",
        "\n",
        "# Install PyTorch 2.1.0 with CUDA 11.8\n",
        "!pip install torch==2.1.0+cu118 torchvision==0.16.0+cu118 torchaudio==2.1.0 --index-url https://download.pytorch.org/whl/cu118\n"
      ]
    },
    {
      "cell_type": "markdown",
      "metadata": {
        "id": "G5OPOlpVshkG"
      },
      "source": [
        "### 2. Install MMCV and MMengine"
      ]
    },
    {
      "cell_type": "code",
      "execution_count": 7,
      "metadata": {
        "colab": {
          "base_uri": "https://localhost:8080/"
        },
        "id": "gGWv3BSN_OVN",
        "outputId": "4824a08f-779a-46fc-ca6b-9bac4c9a6884"
      },
      "outputs": [
        {
          "output_type": "stream",
          "name": "stdout",
          "text": [
            "Looking in links: https://download.openmmlab.com/mmcv/dist/cu118/torch2.1/index.html\n",
            "Collecting mmcv==2.1.0\n",
            "  Downloading https://download.openmmlab.com/mmcv/dist/cu118/torch2.1.0/mmcv-2.1.0-cp311-cp311-manylinux1_x86_64.whl (99.4 MB)\n",
            "\u001b[2K     \u001b[90m━━━━━━━━━━━━━━━━━━━━━━━━━━━━━━━━━━━━━━━━\u001b[0m \u001b[32m99.4/99.4 MB\u001b[0m \u001b[31m8.6 MB/s\u001b[0m eta \u001b[36m0:00:00\u001b[0m\n",
            "\u001b[?25hCollecting addict (from mmcv==2.1.0)\n",
            "  Downloading addict-2.4.0-py3-none-any.whl.metadata (1.0 kB)\n",
            "Collecting mmengine>=0.3.0 (from mmcv==2.1.0)\n",
            "  Downloading mmengine-0.10.7-py3-none-any.whl.metadata (20 kB)\n",
            "Requirement already satisfied: numpy in /usr/local/lib/python3.11/dist-packages (from mmcv==2.1.0) (2.1.2)\n",
            "Requirement already satisfied: packaging in /usr/local/lib/python3.11/dist-packages (from mmcv==2.1.0) (25.0)\n",
            "Requirement already satisfied: Pillow in /usr/local/lib/python3.11/dist-packages (from mmcv==2.1.0) (11.2.1)\n",
            "Requirement already satisfied: pyyaml in /usr/local/lib/python3.11/dist-packages (from mmcv==2.1.0) (6.0.2)\n",
            "Collecting yapf (from mmcv==2.1.0)\n",
            "  Downloading yapf-0.43.0-py3-none-any.whl.metadata (46 kB)\n",
            "\u001b[2K     \u001b[90m━━━━━━━━━━━━━━━━━━━━━━━━━━━━━━━━━━━━━━━━\u001b[0m \u001b[32m46.8/46.8 kB\u001b[0m \u001b[31m4.2 MB/s\u001b[0m eta \u001b[36m0:00:00\u001b[0m\n",
            "\u001b[?25hRequirement already satisfied: opencv-python>=3 in /usr/local/lib/python3.11/dist-packages (from mmcv==2.1.0) (4.11.0.86)\n",
            "Requirement already satisfied: matplotlib in /usr/local/lib/python3.11/dist-packages (from mmengine>=0.3.0->mmcv==2.1.0) (3.10.0)\n",
            "Requirement already satisfied: rich in /usr/local/lib/python3.11/dist-packages (from mmengine>=0.3.0->mmcv==2.1.0) (13.9.4)\n",
            "Requirement already satisfied: termcolor in /usr/local/lib/python3.11/dist-packages (from mmengine>=0.3.0->mmcv==2.1.0) (3.1.0)\n",
            "Requirement already satisfied: platformdirs>=3.5.1 in /usr/local/lib/python3.11/dist-packages (from yapf->mmcv==2.1.0) (4.3.8)\n",
            "Requirement already satisfied: contourpy>=1.0.1 in /usr/local/lib/python3.11/dist-packages (from matplotlib->mmengine>=0.3.0->mmcv==2.1.0) (1.3.2)\n",
            "Requirement already satisfied: cycler>=0.10 in /usr/local/lib/python3.11/dist-packages (from matplotlib->mmengine>=0.3.0->mmcv==2.1.0) (0.12.1)\n",
            "Requirement already satisfied: fonttools>=4.22.0 in /usr/local/lib/python3.11/dist-packages (from matplotlib->mmengine>=0.3.0->mmcv==2.1.0) (4.58.5)\n",
            "Requirement already satisfied: kiwisolver>=1.3.1 in /usr/local/lib/python3.11/dist-packages (from matplotlib->mmengine>=0.3.0->mmcv==2.1.0) (1.4.8)\n",
            "Requirement already satisfied: pyparsing>=2.3.1 in /usr/local/lib/python3.11/dist-packages (from matplotlib->mmengine>=0.3.0->mmcv==2.1.0) (3.2.3)\n",
            "Requirement already satisfied: python-dateutil>=2.7 in /usr/local/lib/python3.11/dist-packages (from matplotlib->mmengine>=0.3.0->mmcv==2.1.0) (2.9.0.post0)\n",
            "Requirement already satisfied: markdown-it-py>=2.2.0 in /usr/local/lib/python3.11/dist-packages (from rich->mmengine>=0.3.0->mmcv==2.1.0) (3.0.0)\n",
            "Requirement already satisfied: pygments<3.0.0,>=2.13.0 in /usr/local/lib/python3.11/dist-packages (from rich->mmengine>=0.3.0->mmcv==2.1.0) (2.19.2)\n",
            "Requirement already satisfied: mdurl~=0.1 in /usr/local/lib/python3.11/dist-packages (from markdown-it-py>=2.2.0->rich->mmengine>=0.3.0->mmcv==2.1.0) (0.1.2)\n",
            "Requirement already satisfied: six>=1.5 in /usr/local/lib/python3.11/dist-packages (from python-dateutil>=2.7->matplotlib->mmengine>=0.3.0->mmcv==2.1.0) (1.17.0)\n",
            "Downloading mmengine-0.10.7-py3-none-any.whl (452 kB)\n",
            "\u001b[2K   \u001b[90m━━━━━━━━━━━━━━━━━━━━━━━━━━━━━━━━━━━━━━━━\u001b[0m \u001b[32m452.7/452.7 kB\u001b[0m \u001b[31m33.7 MB/s\u001b[0m eta \u001b[36m0:00:00\u001b[0m\n",
            "\u001b[?25hDownloading addict-2.4.0-py3-none-any.whl (3.8 kB)\n",
            "Downloading yapf-0.43.0-py3-none-any.whl (256 kB)\n",
            "\u001b[2K   \u001b[90m━━━━━━━━━━━━━━━━━━━━━━━━━━━━━━━━━━━━━━━━\u001b[0m \u001b[32m256.2/256.2 kB\u001b[0m \u001b[31m10.5 MB/s\u001b[0m eta \u001b[36m0:00:00\u001b[0m\n",
            "\u001b[?25hInstalling collected packages: addict, yapf, mmengine, mmcv\n",
            "Successfully installed addict-2.4.0 mmcv-2.1.0 mmengine-0.10.7 yapf-0.43.0\n",
            "Collecting mmengine==0.10.3\n",
            "  Downloading mmengine-0.10.3-py3-none-any.whl.metadata (20 kB)\n",
            "Requirement already satisfied: addict in /usr/local/lib/python3.11/dist-packages (from mmengine==0.10.3) (2.4.0)\n",
            "Requirement already satisfied: matplotlib in /usr/local/lib/python3.11/dist-packages (from mmengine==0.10.3) (3.10.0)\n",
            "Requirement already satisfied: numpy in /usr/local/lib/python3.11/dist-packages (from mmengine==0.10.3) (2.1.2)\n",
            "Requirement already satisfied: pyyaml in /usr/local/lib/python3.11/dist-packages (from mmengine==0.10.3) (6.0.2)\n",
            "Requirement already satisfied: rich in /usr/local/lib/python3.11/dist-packages (from mmengine==0.10.3) (13.9.4)\n",
            "Requirement already satisfied: termcolor in /usr/local/lib/python3.11/dist-packages (from mmengine==0.10.3) (3.1.0)\n",
            "Requirement already satisfied: yapf in /usr/local/lib/python3.11/dist-packages (from mmengine==0.10.3) (0.43.0)\n",
            "Requirement already satisfied: opencv-python>=3 in /usr/local/lib/python3.11/dist-packages (from mmengine==0.10.3) (4.11.0.86)\n",
            "Requirement already satisfied: contourpy>=1.0.1 in /usr/local/lib/python3.11/dist-packages (from matplotlib->mmengine==0.10.3) (1.3.2)\n",
            "Requirement already satisfied: cycler>=0.10 in /usr/local/lib/python3.11/dist-packages (from matplotlib->mmengine==0.10.3) (0.12.1)\n",
            "Requirement already satisfied: fonttools>=4.22.0 in /usr/local/lib/python3.11/dist-packages (from matplotlib->mmengine==0.10.3) (4.58.5)\n",
            "Requirement already satisfied: kiwisolver>=1.3.1 in /usr/local/lib/python3.11/dist-packages (from matplotlib->mmengine==0.10.3) (1.4.8)\n",
            "Requirement already satisfied: packaging>=20.0 in /usr/local/lib/python3.11/dist-packages (from matplotlib->mmengine==0.10.3) (25.0)\n",
            "Requirement already satisfied: pillow>=8 in /usr/local/lib/python3.11/dist-packages (from matplotlib->mmengine==0.10.3) (11.2.1)\n",
            "Requirement already satisfied: pyparsing>=2.3.1 in /usr/local/lib/python3.11/dist-packages (from matplotlib->mmengine==0.10.3) (3.2.3)\n",
            "Requirement already satisfied: python-dateutil>=2.7 in /usr/local/lib/python3.11/dist-packages (from matplotlib->mmengine==0.10.3) (2.9.0.post0)\n",
            "Requirement already satisfied: markdown-it-py>=2.2.0 in /usr/local/lib/python3.11/dist-packages (from rich->mmengine==0.10.3) (3.0.0)\n",
            "Requirement already satisfied: pygments<3.0.0,>=2.13.0 in /usr/local/lib/python3.11/dist-packages (from rich->mmengine==0.10.3) (2.19.2)\n",
            "Requirement already satisfied: platformdirs>=3.5.1 in /usr/local/lib/python3.11/dist-packages (from yapf->mmengine==0.10.3) (4.3.8)\n",
            "Requirement already satisfied: mdurl~=0.1 in /usr/local/lib/python3.11/dist-packages (from markdown-it-py>=2.2.0->rich->mmengine==0.10.3) (0.1.2)\n",
            "Requirement already satisfied: six>=1.5 in /usr/local/lib/python3.11/dist-packages (from python-dateutil>=2.7->matplotlib->mmengine==0.10.3) (1.17.0)\n",
            "Downloading mmengine-0.10.3-py3-none-any.whl (451 kB)\n",
            "\u001b[2K   \u001b[90m━━━━━━━━━━━━━━━━━━━━━━━━━━━━━━━━━━━━━━━━\u001b[0m \u001b[32m451.7/451.7 kB\u001b[0m \u001b[31m30.1 MB/s\u001b[0m eta \u001b[36m0:00:00\u001b[0m\n",
            "\u001b[?25hInstalling collected packages: mmengine\n",
            "  Attempting uninstall: mmengine\n",
            "    Found existing installation: mmengine 0.10.7\n",
            "    Uninstalling mmengine-0.10.7:\n",
            "      Successfully uninstalled mmengine-0.10.7\n",
            "Successfully installed mmengine-0.10.3\n",
            "CPU times: user 2.96 s, sys: 629 ms, total: 3.59 s\n",
            "Wall time: 24.5 s\n"
          ]
        }
      ],
      "source": [
        "%%time\n",
        "\n",
        "# Install MMCV 2.1.0 and mmengine\n",
        "!pip install mmcv==2.1.0 -f https://download.openmmlab.com/mmcv/dist/cu118/torch2.1/index.html\n",
        "!pip install mmengine==0.10.3\n",
        "\n",
        "\n"
      ]
    },
    {
      "cell_type": "markdown",
      "metadata": {
        "id": "M2ZJwIFIs9yW"
      },
      "source": [
        "### 3. Install OpenMIM ( command line tool for MMAction and  MMdetection )"
      ]
    },
    {
      "cell_type": "code",
      "execution_count": 8,
      "metadata": {
        "colab": {
          "base_uri": "https://localhost:8080/",
          "height": 1000
        },
        "id": "Wol3TNb__iO8",
        "outputId": "6ba57405-5d99-4ee4-f7d3-4ec90e3c7231"
      },
      "outputs": [
        {
          "output_type": "stream",
          "name": "stdout",
          "text": [
            "Collecting openmim\n",
            "  Downloading openmim-0.3.9-py2.py3-none-any.whl.metadata (16 kB)\n",
            "Requirement already satisfied: Click in /usr/local/lib/python3.11/dist-packages (from openmim) (8.2.1)\n",
            "Collecting colorama (from openmim)\n",
            "  Downloading colorama-0.4.6-py2.py3-none-any.whl.metadata (17 kB)\n",
            "Collecting model-index (from openmim)\n",
            "  Downloading model_index-0.1.11-py3-none-any.whl.metadata (3.9 kB)\n",
            "Collecting opendatalab (from openmim)\n",
            "  Downloading opendatalab-0.0.10-py3-none-any.whl.metadata (6.4 kB)\n",
            "Requirement already satisfied: pandas in /usr/local/lib/python3.11/dist-packages (from openmim) (2.2.2)\n",
            "Requirement already satisfied: pip>=19.3 in /usr/local/lib/python3.11/dist-packages (from openmim) (24.1.2)\n",
            "Requirement already satisfied: requests in /usr/local/lib/python3.11/dist-packages (from openmim) (2.32.3)\n",
            "Requirement already satisfied: rich in /usr/local/lib/python3.11/dist-packages (from openmim) (13.9.4)\n",
            "Requirement already satisfied: tabulate in /usr/local/lib/python3.11/dist-packages (from openmim) (0.9.0)\n",
            "Requirement already satisfied: pyyaml in /usr/local/lib/python3.11/dist-packages (from model-index->openmim) (6.0.2)\n",
            "Requirement already satisfied: markdown in /usr/local/lib/python3.11/dist-packages (from model-index->openmim) (3.8.2)\n",
            "Collecting ordered-set (from model-index->openmim)\n",
            "  Downloading ordered_set-4.1.0-py3-none-any.whl.metadata (5.3 kB)\n",
            "Collecting pycryptodome (from opendatalab->openmim)\n",
            "  Downloading pycryptodome-3.23.0-cp37-abi3-manylinux_2_17_x86_64.manylinux2014_x86_64.whl.metadata (3.4 kB)\n",
            "Requirement already satisfied: tqdm in /usr/local/lib/python3.11/dist-packages (from opendatalab->openmim) (4.67.1)\n",
            "Collecting openxlab (from opendatalab->openmim)\n",
            "  Downloading openxlab-0.1.2-py3-none-any.whl.metadata (3.8 kB)\n",
            "Requirement already satisfied: charset-normalizer<4,>=2 in /usr/local/lib/python3.11/dist-packages (from requests->openmim) (3.4.2)\n",
            "Requirement already satisfied: idna<4,>=2.5 in /usr/local/lib/python3.11/dist-packages (from requests->openmim) (3.10)\n",
            "Requirement already satisfied: urllib3<3,>=1.21.1 in /usr/local/lib/python3.11/dist-packages (from requests->openmim) (2.4.0)\n",
            "Requirement already satisfied: certifi>=2017.4.17 in /usr/local/lib/python3.11/dist-packages (from requests->openmim) (2025.7.14)\n",
            "Requirement already satisfied: numpy>=1.23.2 in /usr/local/lib/python3.11/dist-packages (from pandas->openmim) (2.1.2)\n",
            "Requirement already satisfied: python-dateutil>=2.8.2 in /usr/local/lib/python3.11/dist-packages (from pandas->openmim) (2.9.0.post0)\n",
            "Requirement already satisfied: pytz>=2020.1 in /usr/local/lib/python3.11/dist-packages (from pandas->openmim) (2025.2)\n",
            "Requirement already satisfied: tzdata>=2022.7 in /usr/local/lib/python3.11/dist-packages (from pandas->openmim) (2025.2)\n",
            "Requirement already satisfied: markdown-it-py>=2.2.0 in /usr/local/lib/python3.11/dist-packages (from rich->openmim) (3.0.0)\n",
            "Requirement already satisfied: pygments<3.0.0,>=2.13.0 in /usr/local/lib/python3.11/dist-packages (from rich->openmim) (2.19.2)\n",
            "Requirement already satisfied: mdurl~=0.1 in /usr/local/lib/python3.11/dist-packages (from markdown-it-py>=2.2.0->rich->openmim) (0.1.2)\n",
            "Requirement already satisfied: six>=1.5 in /usr/local/lib/python3.11/dist-packages (from python-dateutil>=2.8.2->pandas->openmim) (1.17.0)\n",
            "Collecting filelock~=3.14.0 (from openxlab->opendatalab->openmim)\n",
            "  Downloading filelock-3.14.0-py3-none-any.whl.metadata (2.8 kB)\n",
            "Collecting oss2~=2.17.0 (from openxlab->opendatalab->openmim)\n",
            "  Downloading oss2-2.17.0.tar.gz (259 kB)\n",
            "\u001b[2K     \u001b[90m━━━━━━━━━━━━━━━━━━━━━━━━━━━━━━━━━━━━━━\u001b[0m \u001b[32m259.5/259.5 kB\u001b[0m \u001b[31m22.3 MB/s\u001b[0m eta \u001b[36m0:00:00\u001b[0m\n",
            "\u001b[?25h  Preparing metadata (setup.py) ... \u001b[?25l\u001b[?25hdone\n",
            "Collecting packaging~=24.0 (from openxlab->opendatalab->openmim)\n",
            "  Downloading packaging-24.2-py3-none-any.whl.metadata (3.2 kB)\n",
            "Collecting pytz>=2020.1 (from pandas->openmim)\n",
            "  Downloading pytz-2023.4-py2.py3-none-any.whl.metadata (22 kB)\n",
            "Collecting requests (from openmim)\n",
            "  Downloading requests-2.28.2-py3-none-any.whl.metadata (4.6 kB)\n",
            "Collecting rich (from openmim)\n",
            "  Downloading rich-13.4.2-py3-none-any.whl.metadata (18 kB)\n",
            "Collecting setuptools~=60.2.0 (from openxlab->opendatalab->openmim)\n",
            "  Downloading setuptools-60.2.0-py3-none-any.whl.metadata (5.1 kB)\n",
            "Collecting tqdm (from opendatalab->openmim)\n",
            "  Downloading tqdm-4.65.2-py3-none-any.whl.metadata (56 kB)\n",
            "\u001b[2K     \u001b[90m━━━━━━━━━━━━━━━━━━━━━━━━━━━━━━━━━━━━━━━━\u001b[0m \u001b[32m57.0/57.0 kB\u001b[0m \u001b[31m2.1 MB/s\u001b[0m eta \u001b[36m0:00:00\u001b[0m\n",
            "\u001b[?25hCollecting urllib3<1.27,>=1.21.1 (from requests->openmim)\n",
            "  Downloading urllib3-1.26.20-py2.py3-none-any.whl.metadata (50 kB)\n",
            "\u001b[2K     \u001b[90m━━━━━━━━━━━━━━━━━━━━━━━━━━━━━━━━━━━━━━━━\u001b[0m \u001b[32m50.1/50.1 kB\u001b[0m \u001b[31m4.3 MB/s\u001b[0m eta \u001b[36m0:00:00\u001b[0m\n",
            "\u001b[?25hCollecting crcmod>=1.7 (from oss2~=2.17.0->openxlab->opendatalab->openmim)\n",
            "  Downloading crcmod-1.7.tar.gz (89 kB)\n",
            "\u001b[2K     \u001b[90m━━━━━━━━━━━━━━━━━━━━━━━━━━━━━━━━━━━━━━━━\u001b[0m \u001b[32m89.7/89.7 kB\u001b[0m \u001b[31m5.0 MB/s\u001b[0m eta \u001b[36m0:00:00\u001b[0m\n",
            "\u001b[?25h  Preparing metadata (setup.py) ... \u001b[?25l\u001b[?25hdone\n",
            "Collecting aliyun-python-sdk-kms>=2.4.1 (from oss2~=2.17.0->openxlab->opendatalab->openmim)\n",
            "  Downloading aliyun_python_sdk_kms-2.16.5-py2.py3-none-any.whl.metadata (1.5 kB)\n",
            "Collecting aliyun-python-sdk-core>=2.13.12 (from oss2~=2.17.0->openxlab->opendatalab->openmim)\n",
            "  Downloading aliyun-python-sdk-core-2.16.0.tar.gz (449 kB)\n",
            "\u001b[2K     \u001b[90m━━━━━━━━━━━━━━━━━━━━━━━━━━━━━━━━━━━━━━\u001b[0m \u001b[32m449.6/449.6 kB\u001b[0m \u001b[31m16.0 MB/s\u001b[0m eta \u001b[36m0:00:00\u001b[0m\n",
            "\u001b[?25h  Preparing metadata (setup.py) ... \u001b[?25l\u001b[?25hdone\n",
            "Collecting jmespath<1.0.0,>=0.9.3 (from aliyun-python-sdk-core>=2.13.12->oss2~=2.17.0->openxlab->opendatalab->openmim)\n",
            "  Downloading jmespath-0.10.0-py2.py3-none-any.whl.metadata (8.0 kB)\n",
            "Requirement already satisfied: cryptography>=3.0.0 in /usr/local/lib/python3.11/dist-packages (from aliyun-python-sdk-core>=2.13.12->oss2~=2.17.0->openxlab->opendatalab->openmim) (43.0.3)\n",
            "Requirement already satisfied: cffi>=1.12 in /usr/local/lib/python3.11/dist-packages (from cryptography>=3.0.0->aliyun-python-sdk-core>=2.13.12->oss2~=2.17.0->openxlab->opendatalab->openmim) (1.17.1)\n",
            "Requirement already satisfied: pycparser in /usr/local/lib/python3.11/dist-packages (from cffi>=1.12->cryptography>=3.0.0->aliyun-python-sdk-core>=2.13.12->oss2~=2.17.0->openxlab->opendatalab->openmim) (2.22)\n",
            "Downloading openmim-0.3.9-py2.py3-none-any.whl (52 kB)\n",
            "\u001b[2K   \u001b[90m━━━━━━━━━━━━━━━━━━━━━━━━━━━━━━━━━━━━━━━━\u001b[0m \u001b[32m52.7/52.7 kB\u001b[0m \u001b[31m2.7 MB/s\u001b[0m eta \u001b[36m0:00:00\u001b[0m\n",
            "\u001b[?25hDownloading colorama-0.4.6-py2.py3-none-any.whl (25 kB)\n",
            "Downloading model_index-0.1.11-py3-none-any.whl (34 kB)\n",
            "Downloading opendatalab-0.0.10-py3-none-any.whl (29 kB)\n",
            "Downloading openxlab-0.1.2-py3-none-any.whl (311 kB)\n",
            "\u001b[2K   \u001b[90m━━━━━━━━━━━━━━━━━━━━━━━━━━━━━━━━━━━━━━━━\u001b[0m \u001b[32m311.5/311.5 kB\u001b[0m \u001b[31m21.4 MB/s\u001b[0m eta \u001b[36m0:00:00\u001b[0m\n",
            "\u001b[?25hDownloading requests-2.28.2-py3-none-any.whl (62 kB)\n",
            "\u001b[2K   \u001b[90m━━━━━━━━━━━━━━━━━━━━━━━━━━━━━━━━━━━━━━━━\u001b[0m \u001b[32m62.8/62.8 kB\u001b[0m \u001b[31m5.8 MB/s\u001b[0m eta \u001b[36m0:00:00\u001b[0m\n",
            "\u001b[?25hDownloading rich-13.4.2-py3-none-any.whl (239 kB)\n",
            "\u001b[2K   \u001b[90m━━━━━━━━━━━━━━━━━━━━━━━━━━━━━━━━━━━━━━━━\u001b[0m \u001b[32m239.4/239.4 kB\u001b[0m \u001b[31m22.5 MB/s\u001b[0m eta \u001b[36m0:00:00\u001b[0m\n",
            "\u001b[?25hDownloading pytz-2023.4-py2.py3-none-any.whl (506 kB)\n",
            "\u001b[2K   \u001b[90m━━━━━━━━━━━━━━━━━━━━━━━━━━━━━━━━━━━━━━━━\u001b[0m \u001b[32m506.5/506.5 kB\u001b[0m \u001b[31m35.5 MB/s\u001b[0m eta \u001b[36m0:00:00\u001b[0m\n",
            "\u001b[?25hDownloading tqdm-4.65.2-py3-none-any.whl (77 kB)\n",
            "\u001b[2K   \u001b[90m━━━━━━━━━━━━━━━━━━━━━━━━━━━━━━━━━━━━━━━━\u001b[0m \u001b[32m77.1/77.1 kB\u001b[0m \u001b[31m5.6 MB/s\u001b[0m eta \u001b[36m0:00:00\u001b[0m\n",
            "\u001b[?25hDownloading urllib3-1.26.20-py2.py3-none-any.whl (144 kB)\n",
            "\u001b[2K   \u001b[90m━━━━━━━━━━━━━━━━━━━━━━━━━━━━━━━━━━━━━━━━\u001b[0m \u001b[32m144.2/144.2 kB\u001b[0m \u001b[31m14.1 MB/s\u001b[0m eta \u001b[36m0:00:00\u001b[0m\n",
            "\u001b[?25hDownloading ordered_set-4.1.0-py3-none-any.whl (7.6 kB)\n",
            "Downloading pycryptodome-3.23.0-cp37-abi3-manylinux_2_17_x86_64.manylinux2014_x86_64.whl (2.3 MB)\n",
            "\u001b[2K   \u001b[90m━━━━━━━━━━━━━━━━━━━━━━━━━━━━━━━━━━━━━━━━\u001b[0m \u001b[32m2.3/2.3 MB\u001b[0m \u001b[31m27.0 MB/s\u001b[0m eta \u001b[36m0:00:00\u001b[0m\n",
            "\u001b[?25hDownloading filelock-3.14.0-py3-none-any.whl (12 kB)\n",
            "Downloading packaging-24.2-py3-none-any.whl (65 kB)\n",
            "\u001b[2K   \u001b[90m━━━━━━━━━━━━━━━━━━━━━━━━━━━━━━━━━━━━━━━━\u001b[0m \u001b[32m65.5/65.5 kB\u001b[0m \u001b[31m5.4 MB/s\u001b[0m eta \u001b[36m0:00:00\u001b[0m\n",
            "\u001b[?25hDownloading setuptools-60.2.0-py3-none-any.whl (953 kB)\n",
            "\u001b[2K   \u001b[90m━━━━━━━━━━━━━━━━━━━━━━━━━━━━━━━━━━━━━━━━\u001b[0m \u001b[32m953.1/953.1 kB\u001b[0m \u001b[31m31.9 MB/s\u001b[0m eta \u001b[36m0:00:00\u001b[0m\n",
            "\u001b[?25hDownloading aliyun_python_sdk_kms-2.16.5-py2.py3-none-any.whl (99 kB)\n",
            "\u001b[2K   \u001b[90m━━━━━━━━━━━━━━━━━━━━━━━━━━━━━━━━━━━━━━━━\u001b[0m \u001b[32m99.5/99.5 kB\u001b[0m \u001b[31m9.0 MB/s\u001b[0m eta \u001b[36m0:00:00\u001b[0m\n",
            "\u001b[?25hDownloading jmespath-0.10.0-py2.py3-none-any.whl (24 kB)\n",
            "Building wheels for collected packages: oss2, aliyun-python-sdk-core, crcmod\n",
            "  Building wheel for oss2 (setup.py) ... \u001b[?25l\u001b[?25hdone\n",
            "  Created wheel for oss2: filename=oss2-2.17.0-py3-none-any.whl size=112371 sha256=447f415dcf1527f2dde9e19bd7a4d2c8b7c5a0186eafa5c170ccc15a6e0bc117\n",
            "  Stored in directory: /root/.cache/pip/wheels/42/79/aa/3671e313c27de35211d345d7a9d8ccb7dde515cf05edba75df\n",
            "  Building wheel for aliyun-python-sdk-core (setup.py) ... \u001b[?25l\u001b[?25hdone\n",
            "  Created wheel for aliyun-python-sdk-core: filename=aliyun_python_sdk_core-2.16.0-py3-none-any.whl size=535315 sha256=1571fb40f377f8340a48642d522cff9a70bb56433e55fff12ee38bce4e773efa\n",
            "  Stored in directory: /root/.cache/pip/wheels/2b/9a/95/60f111d2a488c5f7f7ed2a96ce407ea57ec7393ddfdec8c956\n",
            "  Building wheel for crcmod (setup.py) ... \u001b[?25l\u001b[?25hdone\n",
            "  Created wheel for crcmod: filename=crcmod-1.7-cp311-cp311-linux_x86_64.whl size=31658 sha256=daa0903ef1847e936d9c6cae838afda84b370c741b48ea97577d24e6d8080327\n",
            "  Stored in directory: /root/.cache/pip/wheels/23/94/7a/8cb7d14597e6395ce969933f01aed9ea8fa5f5b4d4c8a61e99\n",
            "Successfully built oss2 aliyun-python-sdk-core crcmod\n",
            "Installing collected packages: pytz, crcmod, urllib3, tqdm, setuptools, pycryptodome, packaging, ordered-set, jmespath, filelock, colorama, rich, requests, model-index, aliyun-python-sdk-core, aliyun-python-sdk-kms, oss2, openxlab, opendatalab, openmim\n",
            "  Attempting uninstall: pytz\n",
            "    Found existing installation: pytz 2025.2\n",
            "    Uninstalling pytz-2025.2:\n",
            "      Successfully uninstalled pytz-2025.2\n",
            "  Attempting uninstall: urllib3\n",
            "    Found existing installation: urllib3 2.4.0\n",
            "    Uninstalling urllib3-2.4.0:\n",
            "      Successfully uninstalled urllib3-2.4.0\n",
            "  Attempting uninstall: tqdm\n",
            "    Found existing installation: tqdm 4.67.1\n",
            "    Uninstalling tqdm-4.67.1:\n",
            "      Successfully uninstalled tqdm-4.67.1\n",
            "  Attempting uninstall: setuptools\n",
            "    Found existing installation: setuptools 75.2.0\n",
            "    Uninstalling setuptools-75.2.0:\n",
            "      Successfully uninstalled setuptools-75.2.0\n",
            "  Attempting uninstall: packaging\n",
            "    Found existing installation: packaging 25.0\n",
            "    Uninstalling packaging-25.0:\n",
            "      Successfully uninstalled packaging-25.0\n",
            "  Attempting uninstall: filelock\n",
            "    Found existing installation: filelock 3.18.0\n",
            "    Uninstalling filelock-3.18.0:\n",
            "      Successfully uninstalled filelock-3.18.0\n",
            "  Attempting uninstall: rich\n",
            "    Found existing installation: rich 13.9.4\n",
            "    Uninstalling rich-13.9.4:\n",
            "      Successfully uninstalled rich-13.9.4\n",
            "  Attempting uninstall: requests\n",
            "    Found existing installation: requests 2.32.3\n",
            "    Uninstalling requests-2.32.3:\n",
            "      Successfully uninstalled requests-2.32.3\n",
            "\u001b[31mERROR: pip's dependency resolver does not currently take into account all the packages that are installed. This behaviour is the source of the following dependency conflicts.\n",
            "sentence-transformers 4.1.0 requires transformers<5.0.0,>=4.41.0, which is not installed.\n",
            "ipython 7.34.0 requires jedi>=0.16, which is not installed.\n",
            "peft 0.16.0 requires transformers, which is not installed.\n",
            "google-colab 1.0.0 requires requests==2.32.3, but you have requests 2.28.2 which is incompatible.\n",
            "pymc 5.23.0 requires rich>=13.7.1, but you have rich 13.4.2 which is incompatible.\n",
            "dataproc-spark-connect 0.8.2 requires tqdm>=4.67, but you have tqdm 4.65.2 which is incompatible.\n",
            "sphinx 8.2.3 requires requests>=2.30.0, but you have requests 2.28.2 which is incompatible.\n",
            "yfinance 0.2.65 requires requests>=2.31, but you have requests 2.28.2 which is incompatible.\n",
            "tensorflow 2.18.0 requires numpy<2.1.0,>=1.26.0, but you have numpy 2.1.2 which is incompatible.\n",
            "pytensor 2.31.7 requires filelock>=3.15, but you have filelock 3.14.0 which is incompatible.\u001b[0m\u001b[31m\n",
            "\u001b[0mSuccessfully installed aliyun-python-sdk-core-2.16.0 aliyun-python-sdk-kms-2.16.5 colorama-0.4.6 crcmod-1.7 filelock-3.14.0 jmespath-0.10.0 model-index-0.1.11 opendatalab-0.0.10 openmim-0.3.9 openxlab-0.1.2 ordered-set-4.1.0 oss2-2.17.0 packaging-24.2 pycryptodome-3.23.0 pytz-2023.4 requests-2.28.2 rich-13.4.2 setuptools-60.2.0 tqdm-4.65.2 urllib3-1.26.20\n"
          ]
        },
        {
          "output_type": "display_data",
          "data": {
            "application/vnd.colab-display-data+json": {
              "pip_warning": {
                "packages": [
                  "_distutils_hack",
                  "packaging",
                  "pkg_resources"
                ]
              },
              "id": "2e65975ba7594b7dbdd98dcdd593f500"
            }
          },
          "metadata": {}
        },
        {
          "output_type": "stream",
          "name": "stdout",
          "text": [
            "CPU times: user 1.55 s, sys: 330 ms, total: 1.88 s\n",
            "Wall time: 26.9 s\n"
          ]
        }
      ],
      "source": [
        "%%time\n",
        "\n",
        "# Install OpenMIM\n",
        "!pip install -U openmim"
      ]
    },
    {
      "cell_type": "markdown",
      "metadata": {
        "id": "InmJuwGAwGG8"
      },
      "source": [
        "### 4. Build MMaction   from source"
      ]
    },
    {
      "cell_type": "code",
      "execution_count": 9,
      "metadata": {
        "colab": {
          "base_uri": "https://localhost:8080/",
          "height": 1000
        },
        "id": "V9i7z6gE_yTO",
        "outputId": "959a117d-525e-4104-e391-66cdab935069"
      },
      "outputs": [
        {
          "output_type": "stream",
          "name": "stdout",
          "text": [
            "Cloning into 'mmaction2'...\n",
            "remote: Enumerating objects: 22864, done.\u001b[K\n",
            "remote: Total 22864 (delta 0), reused 0 (delta 0), pack-reused 22864 (from 1)\u001b[K\n",
            "Receiving objects: 100% (22864/22864), 69.65 MiB | 11.01 MiB/s, done.\n",
            "Resolving deltas: 100% (16122/16122), done.\n",
            "/content/mmaction2\n",
            "Obtaining file:///content/mmaction2\n",
            "  Preparing metadata (setup.py) ... \u001b[?25l\u001b[?25hdone\n",
            "Collecting decord>=0.4.1 (from mmaction2==1.2.0)\n",
            "  Downloading decord-0.6.0-py3-none-manylinux2010_x86_64.whl.metadata (422 bytes)\n",
            "Requirement already satisfied: einops in /usr/local/lib/python3.11/dist-packages (from mmaction2==1.2.0) (0.8.1)\n",
            "Requirement already satisfied: matplotlib in /usr/local/lib/python3.11/dist-packages (from mmaction2==1.2.0) (3.10.0)\n",
            "Requirement already satisfied: numpy in /usr/local/lib/python3.11/dist-packages (from mmaction2==1.2.0) (2.1.2)\n",
            "Requirement already satisfied: opencv-contrib-python in /usr/local/lib/python3.11/dist-packages (from mmaction2==1.2.0) (4.11.0.86)\n",
            "Requirement already satisfied: Pillow in /usr/local/lib/python3.11/dist-packages (from mmaction2==1.2.0) (11.2.1)\n",
            "Requirement already satisfied: scipy in /usr/local/lib/python3.11/dist-packages (from mmaction2==1.2.0) (1.15.3)\n",
            "Requirement already satisfied: torch>=1.3 in /usr/local/lib/python3.11/dist-packages (from mmaction2==1.2.0) (2.1.0+cu118)\n",
            "Requirement already satisfied: filelock in /usr/local/lib/python3.11/dist-packages (from torch>=1.3->mmaction2==1.2.0) (3.14.0)\n",
            "Requirement already satisfied: typing-extensions in /usr/local/lib/python3.11/dist-packages (from torch>=1.3->mmaction2==1.2.0) (4.14.1)\n",
            "Requirement already satisfied: sympy in /usr/local/lib/python3.11/dist-packages (from torch>=1.3->mmaction2==1.2.0) (1.13.1)\n",
            "Requirement already satisfied: networkx in /usr/local/lib/python3.11/dist-packages (from torch>=1.3->mmaction2==1.2.0) (3.5)\n",
            "Requirement already satisfied: jinja2 in /usr/local/lib/python3.11/dist-packages (from torch>=1.3->mmaction2==1.2.0) (3.1.6)\n",
            "Requirement already satisfied: fsspec in /usr/local/lib/python3.11/dist-packages (from torch>=1.3->mmaction2==1.2.0) (2025.3.2)\n",
            "Requirement already satisfied: triton==2.1.0 in /usr/local/lib/python3.11/dist-packages (from torch>=1.3->mmaction2==1.2.0) (2.1.0)\n",
            "Requirement already satisfied: contourpy>=1.0.1 in /usr/local/lib/python3.11/dist-packages (from matplotlib->mmaction2==1.2.0) (1.3.2)\n",
            "Requirement already satisfied: cycler>=0.10 in /usr/local/lib/python3.11/dist-packages (from matplotlib->mmaction2==1.2.0) (0.12.1)\n",
            "Requirement already satisfied: fonttools>=4.22.0 in /usr/local/lib/python3.11/dist-packages (from matplotlib->mmaction2==1.2.0) (4.58.5)\n",
            "Requirement already satisfied: kiwisolver>=1.3.1 in /usr/local/lib/python3.11/dist-packages (from matplotlib->mmaction2==1.2.0) (1.4.8)\n",
            "Requirement already satisfied: packaging>=20.0 in /usr/local/lib/python3.11/dist-packages (from matplotlib->mmaction2==1.2.0) (24.2)\n",
            "Requirement already satisfied: pyparsing>=2.3.1 in /usr/local/lib/python3.11/dist-packages (from matplotlib->mmaction2==1.2.0) (3.2.3)\n",
            "Requirement already satisfied: python-dateutil>=2.7 in /usr/local/lib/python3.11/dist-packages (from matplotlib->mmaction2==1.2.0) (2.9.0.post0)\n",
            "Requirement already satisfied: six>=1.5 in /usr/local/lib/python3.11/dist-packages (from python-dateutil>=2.7->matplotlib->mmaction2==1.2.0) (1.17.0)\n",
            "Requirement already satisfied: MarkupSafe>=2.0 in /usr/local/lib/python3.11/dist-packages (from jinja2->torch>=1.3->mmaction2==1.2.0) (3.0.2)\n",
            "Requirement already satisfied: mpmath<1.4,>=1.1.0 in /usr/local/lib/python3.11/dist-packages (from sympy->torch>=1.3->mmaction2==1.2.0) (1.3.0)\n",
            "Downloading decord-0.6.0-py3-none-manylinux2010_x86_64.whl (13.6 MB)\n",
            "\u001b[2K   \u001b[90m━━━━━━━━━━━━━━━━━━━━━━━━━━━━━━━━━━━━━━━━\u001b[0m \u001b[32m13.6/13.6 MB\u001b[0m \u001b[31m60.1 MB/s\u001b[0m eta \u001b[36m0:00:00\u001b[0m\n",
            "\u001b[?25hInstalling collected packages: decord, mmaction2\n",
            "  Running setup.py develop for mmaction2\n",
            "Successfully installed decord-0.6.0 mmaction2-1.2.0\n",
            "/content\n",
            "Cloning into 'mmdetection'...\n",
            "remote: Enumerating objects: 38023, done.\u001b[K\n",
            "remote: Total 38023 (delta 0), reused 0 (delta 0), pack-reused 38023 (from 1)\u001b[K\n",
            "Receiving objects: 100% (38023/38023), 63.19 MiB | 14.17 MiB/s, done.\n",
            "Resolving deltas: 100% (26217/26217), done.\n",
            "/content/mmdetection\n",
            "Requirement already satisfied: cython in /usr/local/lib/python3.11/dist-packages (from -r requirements/build.txt (line 2)) (3.0.12)\n",
            "Requirement already satisfied: numpy in /usr/local/lib/python3.11/dist-packages (from -r requirements/build.txt (line 3)) (2.1.2)\n",
            "Collecting cityscapesscripts (from -r requirements/optional.txt (line 1))\n",
            "  Downloading cityscapesScripts-2.2.4-py3-none-any.whl.metadata (9.8 kB)\n",
            "Collecting emoji (from -r requirements/optional.txt (line 2))\n",
            "  Downloading emoji-2.14.1-py3-none-any.whl.metadata (5.7 kB)\n",
            "Collecting fairscale (from -r requirements/optional.txt (line 3))\n",
            "  Downloading fairscale-0.4.13.tar.gz (266 kB)\n",
            "\u001b[2K     \u001b[90m━━━━━━━━━━━━━━━━━━━━━━━━━━━━━━━━━━━━━━\u001b[0m \u001b[32m266.3/266.3 kB\u001b[0m \u001b[31m20.9 MB/s\u001b[0m eta \u001b[36m0:00:00\u001b[0m\n",
            "\u001b[?25h  Installing build dependencies ... \u001b[?25l\u001b[?25hdone\n",
            "  Getting requirements to build wheel ... \u001b[?25l\u001b[?25hdone\n",
            "  Installing backend dependencies ... \u001b[?25l\u001b[?25hdone\n",
            "  Preparing metadata (pyproject.toml) ... \u001b[?25l\u001b[?25hdone\n",
            "Collecting imagecorruptions (from -r requirements/optional.txt (line 4))\n",
            "  Downloading imagecorruptions-1.1.2-py3-none-any.whl.metadata (3.5 kB)\n",
            "Requirement already satisfied: scikit-learn in /usr/local/lib/python3.11/dist-packages (from -r requirements/optional.txt (line 5)) (1.6.1)\n",
            "Requirement already satisfied: matplotlib in /usr/local/lib/python3.11/dist-packages (from -r requirements/runtime.txt (line 1)) (3.10.0)\n",
            "Requirement already satisfied: pycocotools in /usr/local/lib/python3.11/dist-packages (from -r requirements/runtime.txt (line 3)) (2.0.10)\n",
            "Requirement already satisfied: scipy in /usr/local/lib/python3.11/dist-packages (from -r requirements/runtime.txt (line 4)) (1.15.3)\n",
            "Requirement already satisfied: shapely in /usr/local/lib/python3.11/dist-packages (from -r requirements/runtime.txt (line 5)) (2.1.1)\n",
            "Requirement already satisfied: six in /usr/local/lib/python3.11/dist-packages (from -r requirements/runtime.txt (line 6)) (1.17.0)\n",
            "Collecting terminaltables (from -r requirements/runtime.txt (line 7))\n",
            "  Downloading terminaltables-3.1.10-py2.py3-none-any.whl.metadata (3.5 kB)\n",
            "Requirement already satisfied: tqdm in /usr/local/lib/python3.11/dist-packages (from -r requirements/runtime.txt (line 8)) (4.65.2)\n",
            "Requirement already satisfied: pillow in /usr/local/lib/python3.11/dist-packages (from cityscapesscripts->-r requirements/optional.txt (line 1)) (11.2.1)\n",
            "Collecting appdirs (from cityscapesscripts->-r requirements/optional.txt (line 1))\n",
            "  Downloading appdirs-1.4.4-py2.py3-none-any.whl.metadata (9.0 kB)\n",
            "Collecting pyquaternion (from cityscapesscripts->-r requirements/optional.txt (line 1))\n",
            "  Downloading pyquaternion-0.9.9-py3-none-any.whl.metadata (1.4 kB)\n",
            "Collecting coloredlogs (from cityscapesscripts->-r requirements/optional.txt (line 1))\n",
            "  Downloading coloredlogs-15.0.1-py2.py3-none-any.whl.metadata (12 kB)\n",
            "Collecting typing (from cityscapesscripts->-r requirements/optional.txt (line 1))\n",
            "  Downloading typing-3.7.4.3.tar.gz (78 kB)\n",
            "\u001b[2K     \u001b[90m━━━━━━━━━━━━━━━━━━━━━━━━━━━━━━━━━━━━━━━━\u001b[0m \u001b[32m78.6/78.6 kB\u001b[0m \u001b[31m9.2 MB/s\u001b[0m eta \u001b[36m0:00:00\u001b[0m\n",
            "\u001b[?25h  Preparing metadata (setup.py) ... \u001b[?25l\u001b[?25hdone\n",
            "Requirement already satisfied: requests in /usr/local/lib/python3.11/dist-packages (from cityscapesscripts->-r requirements/optional.txt (line 1)) (2.28.2)\n",
            "Requirement already satisfied: torch>=1.8.0 in /usr/local/lib/python3.11/dist-packages (from fairscale->-r requirements/optional.txt (line 3)) (2.1.0+cu118)\n",
            "Requirement already satisfied: opencv-python>=3.4.5 in /usr/local/lib/python3.11/dist-packages (from imagecorruptions->-r requirements/optional.txt (line 4)) (4.11.0.86)\n",
            "Requirement already satisfied: scikit-image>=0.15 in /usr/local/lib/python3.11/dist-packages (from imagecorruptions->-r requirements/optional.txt (line 4)) (0.25.2)\n",
            "Requirement already satisfied: joblib>=1.2.0 in /usr/local/lib/python3.11/dist-packages (from scikit-learn->-r requirements/optional.txt (line 5)) (1.5.1)\n",
            "Requirement already satisfied: threadpoolctl>=3.1.0 in /usr/local/lib/python3.11/dist-packages (from scikit-learn->-r requirements/optional.txt (line 5)) (3.6.0)\n",
            "Requirement already satisfied: contourpy>=1.0.1 in /usr/local/lib/python3.11/dist-packages (from matplotlib->-r requirements/runtime.txt (line 1)) (1.3.2)\n",
            "Requirement already satisfied: cycler>=0.10 in /usr/local/lib/python3.11/dist-packages (from matplotlib->-r requirements/runtime.txt (line 1)) (0.12.1)\n",
            "Requirement already satisfied: fonttools>=4.22.0 in /usr/local/lib/python3.11/dist-packages (from matplotlib->-r requirements/runtime.txt (line 1)) (4.58.5)\n",
            "Requirement already satisfied: kiwisolver>=1.3.1 in /usr/local/lib/python3.11/dist-packages (from matplotlib->-r requirements/runtime.txt (line 1)) (1.4.8)\n",
            "Requirement already satisfied: packaging>=20.0 in /usr/local/lib/python3.11/dist-packages (from matplotlib->-r requirements/runtime.txt (line 1)) (24.2)\n",
            "Requirement already satisfied: pyparsing>=2.3.1 in /usr/local/lib/python3.11/dist-packages (from matplotlib->-r requirements/runtime.txt (line 1)) (3.2.3)\n",
            "Requirement already satisfied: python-dateutil>=2.7 in /usr/local/lib/python3.11/dist-packages (from matplotlib->-r requirements/runtime.txt (line 1)) (2.9.0.post0)\n",
            "Requirement already satisfied: networkx>=3.0 in /usr/local/lib/python3.11/dist-packages (from scikit-image>=0.15->imagecorruptions->-r requirements/optional.txt (line 4)) (3.5)\n",
            "Requirement already satisfied: imageio!=2.35.0,>=2.33 in /usr/local/lib/python3.11/dist-packages (from scikit-image>=0.15->imagecorruptions->-r requirements/optional.txt (line 4)) (2.37.0)\n",
            "Requirement already satisfied: tifffile>=2022.8.12 in /usr/local/lib/python3.11/dist-packages (from scikit-image>=0.15->imagecorruptions->-r requirements/optional.txt (line 4)) (2025.6.11)\n",
            "Requirement already satisfied: lazy-loader>=0.4 in /usr/local/lib/python3.11/dist-packages (from scikit-image>=0.15->imagecorruptions->-r requirements/optional.txt (line 4)) (0.4)\n",
            "Requirement already satisfied: filelock in /usr/local/lib/python3.11/dist-packages (from torch>=1.8.0->fairscale->-r requirements/optional.txt (line 3)) (3.14.0)\n",
            "Requirement already satisfied: typing-extensions in /usr/local/lib/python3.11/dist-packages (from torch>=1.8.0->fairscale->-r requirements/optional.txt (line 3)) (4.14.1)\n",
            "Requirement already satisfied: sympy in /usr/local/lib/python3.11/dist-packages (from torch>=1.8.0->fairscale->-r requirements/optional.txt (line 3)) (1.13.1)\n",
            "Requirement already satisfied: jinja2 in /usr/local/lib/python3.11/dist-packages (from torch>=1.8.0->fairscale->-r requirements/optional.txt (line 3)) (3.1.6)\n",
            "Requirement already satisfied: fsspec in /usr/local/lib/python3.11/dist-packages (from torch>=1.8.0->fairscale->-r requirements/optional.txt (line 3)) (2025.3.2)\n",
            "Requirement already satisfied: triton==2.1.0 in /usr/local/lib/python3.11/dist-packages (from torch>=1.8.0->fairscale->-r requirements/optional.txt (line 3)) (2.1.0)\n",
            "Collecting humanfriendly>=9.1 (from coloredlogs->cityscapesscripts->-r requirements/optional.txt (line 1))\n",
            "  Downloading humanfriendly-10.0-py2.py3-none-any.whl.metadata (9.2 kB)\n",
            "Requirement already satisfied: charset-normalizer<4,>=2 in /usr/local/lib/python3.11/dist-packages (from requests->cityscapesscripts->-r requirements/optional.txt (line 1)) (3.4.2)\n",
            "Requirement already satisfied: idna<4,>=2.5 in /usr/local/lib/python3.11/dist-packages (from requests->cityscapesscripts->-r requirements/optional.txt (line 1)) (3.10)\n",
            "Requirement already satisfied: urllib3<1.27,>=1.21.1 in /usr/local/lib/python3.11/dist-packages (from requests->cityscapesscripts->-r requirements/optional.txt (line 1)) (1.26.20)\n",
            "Requirement already satisfied: certifi>=2017.4.17 in /usr/local/lib/python3.11/dist-packages (from requests->cityscapesscripts->-r requirements/optional.txt (line 1)) (2025.7.14)\n",
            "Requirement already satisfied: MarkupSafe>=2.0 in /usr/local/lib/python3.11/dist-packages (from jinja2->torch>=1.8.0->fairscale->-r requirements/optional.txt (line 3)) (3.0.2)\n",
            "Requirement already satisfied: mpmath<1.4,>=1.1.0 in /usr/local/lib/python3.11/dist-packages (from sympy->torch>=1.8.0->fairscale->-r requirements/optional.txt (line 3)) (1.3.0)\n",
            "Downloading cityscapesScripts-2.2.4-py3-none-any.whl (473 kB)\n",
            "\u001b[2K   \u001b[90m━━━━━━━━━━━━━━━━━━━━━━━━━━━━━━━━━━━━━━━━\u001b[0m \u001b[32m473.6/473.6 kB\u001b[0m \u001b[31m38.2 MB/s\u001b[0m eta \u001b[36m0:00:00\u001b[0m\n",
            "\u001b[?25hDownloading emoji-2.14.1-py3-none-any.whl (590 kB)\n",
            "\u001b[2K   \u001b[90m━━━━━━━━━━━━━━━━━━━━━━━━━━━━━━━━━━━━━━━━\u001b[0m \u001b[32m590.6/590.6 kB\u001b[0m \u001b[31m51.2 MB/s\u001b[0m eta \u001b[36m0:00:00\u001b[0m\n",
            "\u001b[?25hDownloading imagecorruptions-1.1.2-py3-none-any.whl (2.1 MB)\n",
            "\u001b[2K   \u001b[90m━━━━━━━━━━━━━━━━━━━━━━━━━━━━━━━━━━━━━━━━\u001b[0m \u001b[32m2.1/2.1 MB\u001b[0m \u001b[31m83.6 MB/s\u001b[0m eta \u001b[36m0:00:00\u001b[0m\n",
            "\u001b[?25hDownloading terminaltables-3.1.10-py2.py3-none-any.whl (15 kB)\n",
            "Downloading appdirs-1.4.4-py2.py3-none-any.whl (9.6 kB)\n",
            "Downloading coloredlogs-15.0.1-py2.py3-none-any.whl (46 kB)\n",
            "\u001b[2K   \u001b[90m━━━━━━━━━━━━━━━━━━━━━━━━━━━━━━━━━━━━━━━━\u001b[0m \u001b[32m46.0/46.0 kB\u001b[0m \u001b[31m4.6 MB/s\u001b[0m eta \u001b[36m0:00:00\u001b[0m\n",
            "\u001b[?25hDownloading pyquaternion-0.9.9-py3-none-any.whl (14 kB)\n",
            "Downloading humanfriendly-10.0-py2.py3-none-any.whl (86 kB)\n",
            "\u001b[2K   \u001b[90m━━━━━━━━━━━━━━━━━━━━━━━━━━━━━━━━━━━━━━━━\u001b[0m \u001b[32m86.8/86.8 kB\u001b[0m \u001b[31m9.9 MB/s\u001b[0m eta \u001b[36m0:00:00\u001b[0m\n",
            "\u001b[?25hBuilding wheels for collected packages: fairscale, typing\n",
            "  Building wheel for fairscale (pyproject.toml) ... \u001b[?25l\u001b[?25hdone\n",
            "  Created wheel for fairscale: filename=fairscale-0.4.13-py3-none-any.whl size=332208 sha256=1d8ae20f8dee9050c252a53c870315b46165a556d4a85dd0eb0c0b9470855976\n",
            "  Stored in directory: /root/.cache/pip/wheels/95/ef/96/5044bde220b2ea299bdc6ec05051e0ef187fad45b341d1c273\n",
            "  Building wheel for typing (setup.py) ... \u001b[?25l\u001b[?25hdone\n",
            "  Created wheel for typing: filename=typing-3.7.4.3-py3-none-any.whl size=26323 sha256=f23bf4800d8406d895b047fa802974e32a5bde2352d3dba25a2ed4f73c4fdf7c\n",
            "  Stored in directory: /root/.cache/pip/wheels/9d/67/2f/53e3ef32ec48d11d7d60245255e2d71e908201d20c880c08ee\n",
            "Successfully built fairscale typing\n",
            "Installing collected packages: appdirs, typing, terminaltables, pyquaternion, humanfriendly, emoji, coloredlogs, imagecorruptions, fairscale, cityscapesscripts\n",
            "Successfully installed appdirs-1.4.4 cityscapesscripts-2.2.4 coloredlogs-15.0.1 emoji-2.14.1 fairscale-0.4.13 humanfriendly-10.0 imagecorruptions-1.1.2 pyquaternion-0.9.9 terminaltables-3.1.10 typing-3.7.4.3\n"
          ]
        },
        {
          "output_type": "display_data",
          "data": {
            "application/vnd.colab-display-data+json": {
              "pip_warning": {
                "packages": [
                  "typing"
                ]
              },
              "id": "094f28c57b744eb5897330f02c898bf9"
            }
          },
          "metadata": {}
        },
        {
          "output_type": "stream",
          "name": "stdout",
          "text": [
            "Using pip 24.1.2 from /usr/local/lib/python3.11/dist-packages/pip (python 3.11)\n",
            "Obtaining file:///content/mmdetection\n",
            "  Running command python setup.py egg_info\n",
            "\n",
            "  A module that was compiled using NumPy 1.x cannot be run in\n",
            "  NumPy 2.1.2 as it may crash. To support both 1.x and 2.x\n",
            "  versions of NumPy, modules must be compiled with NumPy 2.0.\n",
            "  Some module may need to rebuild instead e.g. with 'pybind11>=2.12'.\n",
            "\n",
            "  If you are a user of the module, the easiest solution will be to\n",
            "  downgrade to 'numpy<2' or try to upgrade the affected module.\n",
            "  We expect that some modules will need time to support NumPy 2.\n",
            "\n",
            "  Traceback (most recent call last):  File \"<string>\", line 2, in <module>\n",
            "    File \"<pip-setuptools-caller>\", line 34, in <module>\n",
            "    File \"/content/mmdetection/setup.py\", line 11, in <module>\n",
            "      import torch\n",
            "    File \"/usr/local/lib/python3.11/dist-packages/torch/__init__.py\", line 1382, in <module>\n",
            "      from .functional import *  # noqa: F403\n",
            "    File \"/usr/local/lib/python3.11/dist-packages/torch/functional.py\", line 7, in <module>\n",
            "      import torch.nn.functional as F\n",
            "    File \"/usr/local/lib/python3.11/dist-packages/torch/nn/__init__.py\", line 1, in <module>\n",
            "      from .modules import *  # noqa: F403\n",
            "    File \"/usr/local/lib/python3.11/dist-packages/torch/nn/modules/__init__.py\", line 35, in <module>\n",
            "      from .transformer import TransformerEncoder, TransformerDecoder, \\\n",
            "    File \"/usr/local/lib/python3.11/dist-packages/torch/nn/modules/transformer.py\", line 20, in <module>\n",
            "      device: torch.device = torch.device(torch._C._get_default_device()),  # torch.device('cpu'),\n",
            "  /usr/local/lib/python3.11/dist-packages/torch/nn/modules/transformer.py:20: UserWarning: Failed to initialize NumPy: _ARRAY_API not found (Triggered internally at ../torch/csrc/utils/tensor_numpy.cpp:84.)\n",
            "    device: torch.device = torch.device(torch._C._get_default_device()),  # torch.device('cpu'),\n",
            "  running egg_info\n",
            "  creating /tmp/pip-pip-egg-info-0sg2t2xc/mmdet.egg-info\n",
            "  writing manifest file '/tmp/pip-pip-egg-info-0sg2t2xc/mmdet.egg-info/SOURCES.txt'\n",
            "  warning: no files found matching 'mmdet/VERSION'\n",
            "  warning: no files found matching 'mmdet/.mim/model-index.yml'\n",
            "  warning: no files found matching 'mmdet/.mim/dataset-index.yml'\n",
            "  warning: no files found matching 'mmdet/.mim/demo/*/*'\n",
            "  warning: no files found matching '*.py' under directory 'mmdet/.mim/configs'\n",
            "  warning: no files found matching '*.yml' under directory 'mmdet/.mim/configs'\n",
            "  warning: no files found matching '*.sh' under directory 'mmdet/.mim/tools'\n",
            "  warning: no files found matching '*.py' under directory 'mmdet/.mim/tools'\n",
            "  writing manifest file '/tmp/pip-pip-egg-info-0sg2t2xc/mmdet.egg-info/SOURCES.txt'\n",
            "  Preparing metadata (setup.py) ... \u001b[?25l\u001b[?25hdone\n",
            "Requirement already satisfied: matplotlib in /usr/local/lib/python3.11/dist-packages (from mmdet==3.3.0) (3.10.0)\n",
            "Requirement already satisfied: numpy in /usr/local/lib/python3.11/dist-packages (from mmdet==3.3.0) (2.1.2)\n",
            "Requirement already satisfied: pycocotools in /usr/local/lib/python3.11/dist-packages (from mmdet==3.3.0) (2.0.10)\n",
            "Requirement already satisfied: scipy in /usr/local/lib/python3.11/dist-packages (from mmdet==3.3.0) (1.15.3)\n",
            "Requirement already satisfied: shapely in /usr/local/lib/python3.11/dist-packages (from mmdet==3.3.0) (2.1.1)\n",
            "Requirement already satisfied: six in /usr/local/lib/python3.11/dist-packages (from mmdet==3.3.0) (1.17.0)\n",
            "Requirement already satisfied: terminaltables in /usr/local/lib/python3.11/dist-packages (from mmdet==3.3.0) (3.1.10)\n",
            "Requirement already satisfied: tqdm in /usr/local/lib/python3.11/dist-packages (from mmdet==3.3.0) (4.65.2)\n",
            "Requirement already satisfied: contourpy>=1.0.1 in /usr/local/lib/python3.11/dist-packages (from matplotlib->mmdet==3.3.0) (1.3.2)\n",
            "Requirement already satisfied: cycler>=0.10 in /usr/local/lib/python3.11/dist-packages (from matplotlib->mmdet==3.3.0) (0.12.1)\n",
            "Requirement already satisfied: fonttools>=4.22.0 in /usr/local/lib/python3.11/dist-packages (from matplotlib->mmdet==3.3.0) (4.58.5)\n",
            "Requirement already satisfied: kiwisolver>=1.3.1 in /usr/local/lib/python3.11/dist-packages (from matplotlib->mmdet==3.3.0) (1.4.8)\n",
            "Requirement already satisfied: packaging>=20.0 in /usr/local/lib/python3.11/dist-packages (from matplotlib->mmdet==3.3.0) (24.2)\n",
            "Requirement already satisfied: pillow>=8 in /usr/local/lib/python3.11/dist-packages (from matplotlib->mmdet==3.3.0) (11.2.1)\n",
            "Requirement already satisfied: pyparsing>=2.3.1 in /usr/local/lib/python3.11/dist-packages (from matplotlib->mmdet==3.3.0) (3.2.3)\n",
            "Requirement already satisfied: python-dateutil>=2.7 in /usr/local/lib/python3.11/dist-packages (from matplotlib->mmdet==3.3.0) (2.9.0.post0)\n",
            "Installing collected packages: mmdet\n",
            "  Running setup.py develop for mmdet\n",
            "    Running command python setup.py develop\n",
            "\n",
            "    A module that was compiled using NumPy 1.x cannot be run in\n",
            "    NumPy 2.1.2 as it may crash. To support both 1.x and 2.x\n",
            "    versions of NumPy, modules must be compiled with NumPy 2.0.\n",
            "    Some module may need to rebuild instead e.g. with 'pybind11>=2.12'.\n",
            "\n",
            "    If you are a user of the module, the easiest solution will be to\n",
            "    downgrade to 'numpy<2' or try to upgrade the affected module.\n",
            "    We expect that some modules will need time to support NumPy 2.\n",
            "\n",
            "    Traceback (most recent call last):  File \"<string>\", line 2, in <module>\n",
            "      File \"<pip-setuptools-caller>\", line 34, in <module>\n",
            "      File \"/content/mmdetection/setup.py\", line 11, in <module>\n",
            "        import torch\n",
            "      File \"/usr/local/lib/python3.11/dist-packages/torch/__init__.py\", line 1382, in <module>\n",
            "        from .functional import *  # noqa: F403\n",
            "      File \"/usr/local/lib/python3.11/dist-packages/torch/functional.py\", line 7, in <module>\n",
            "        import torch.nn.functional as F\n",
            "      File \"/usr/local/lib/python3.11/dist-packages/torch/nn/__init__.py\", line 1, in <module>\n",
            "        from .modules import *  # noqa: F403\n",
            "      File \"/usr/local/lib/python3.11/dist-packages/torch/nn/modules/__init__.py\", line 35, in <module>\n",
            "        from .transformer import TransformerEncoder, TransformerDecoder, \\\n",
            "      File \"/usr/local/lib/python3.11/dist-packages/torch/nn/modules/transformer.py\", line 20, in <module>\n",
            "        device: torch.device = torch.device(torch._C._get_default_device()),  # torch.device('cpu'),\n",
            "    /usr/local/lib/python3.11/dist-packages/torch/nn/modules/transformer.py:20: UserWarning: Failed to initialize NumPy: _ARRAY_API not found (Triggered internally at ../torch/csrc/utils/tensor_numpy.cpp:84.)\n",
            "      device: torch.device = torch.device(torch._C._get_default_device()),  # torch.device('cpu'),\n",
            "    running develop\n",
            "    /usr/local/lib/python3.11/dist-packages/setuptools/command/easy_install.py:156: EasyInstallDeprecationWarning: easy_install command is deprecated. Use build and pip and other standards-based tools.\n",
            "      warnings.warn(\n",
            "    /usr/local/lib/python3.11/dist-packages/setuptools/command/install.py:34: SetuptoolsDeprecationWarning: setup.py install is deprecated. Use build and pip and other standards-based tools.\n",
            "      warnings.warn(\n",
            "    running egg_info\n",
            "    creating mmdet.egg-info\n",
            "    writing manifest file 'mmdet.egg-info/SOURCES.txt'\n",
            "    warning: no files found matching 'mmdet/VERSION'\n",
            "    warning: no files found matching 'mmdet/.mim/demo/*/*'\n",
            "    writing manifest file 'mmdet.egg-info/SOURCES.txt'\n",
            "    /usr/local/lib/python3.11/dist-packages/torch/utils/cpp_extension.py:502: UserWarning: Attempted to use ninja as the BuildExtension backend but we could not find ninja.. Falling back to using the slow distutils backend.\n",
            "      warnings.warn(msg.format('we could not find ninja.'))\n",
            "    running build_ext\n",
            "Successfully installed mmdet-3.3.0\n"
          ]
        }
      ],
      "source": [
        "# Clone MMAction from Github\n",
        "\n",
        "!git clone https://github.com/open-mmlab/mmaction2.git\n",
        "%cd mmaction2\n",
        "!pip install -e .\n",
        "\n"
      ]
    },
    {
      "cell_type": "markdown",
      "metadata": {
        "id": "5IKyEHT5wgdf"
      },
      "source": [
        "### 5. Install Numpy compatible Version"
      ]
    },
    {
      "cell_type": "code",
      "execution_count": 10,
      "metadata": {
        "colab": {
          "base_uri": "https://localhost:8080/",
          "height": 579
        },
        "id": "ut7_Epqa_24m",
        "outputId": "dca96b1c-fedf-4d11-ee23-9f4503e8b843"
      },
      "outputs": [
        {
          "output_type": "stream",
          "name": "stdout",
          "text": [
            "Collecting numpy==1.24.4\n",
            "  Downloading numpy-1.24.4-cp311-cp311-manylinux_2_17_x86_64.manylinux2014_x86_64.whl.metadata (5.6 kB)\n",
            "Downloading numpy-1.24.4-cp311-cp311-manylinux_2_17_x86_64.manylinux2014_x86_64.whl (17.3 MB)\n",
            "\u001b[?25l   \u001b[90m━━━━━━━━━━━━━━━━━━━━━━━━━━━━━━━━━━━━━━━━\u001b[0m \u001b[32m0.0/17.3 MB\u001b[0m \u001b[31m?\u001b[0m eta \u001b[36m-:--:--\u001b[0m\r\u001b[2K   \u001b[91m━━━━━━━━\u001b[0m\u001b[90m╺\u001b[0m\u001b[90m━━━━━━━━━━━━━━━━━━━━━━━━━━━━━━━\u001b[0m \u001b[32m3.5/17.3 MB\u001b[0m \u001b[31m102.3 MB/s\u001b[0m eta \u001b[36m0:00:01\u001b[0m\r\u001b[2K   \u001b[91m━━━━━━━━━━━━━━━━━━━━━━━━━\u001b[0m\u001b[91m╸\u001b[0m\u001b[90m━━━━━━━━━━━━━━\u001b[0m \u001b[32m11.2/17.3 MB\u001b[0m \u001b[31m180.0 MB/s\u001b[0m eta \u001b[36m0:00:01\u001b[0m\r\u001b[2K   \u001b[91m━━━━━━━━━━━━━━━━━━━━━━━━━━━━━━━━━━━━━━━\u001b[0m\u001b[91m╸\u001b[0m \u001b[32m17.3/17.3 MB\u001b[0m \u001b[31m237.6 MB/s\u001b[0m eta \u001b[36m0:00:01\u001b[0m\r\u001b[2K   \u001b[90m━━━━━━━━━━━━━━━━━━━━━━━━━━━━━━━━━━━━━━━━\u001b[0m \u001b[32m17.3/17.3 MB\u001b[0m \u001b[31m116.6 MB/s\u001b[0m eta \u001b[36m0:00:00\u001b[0m\n",
            "\u001b[?25hInstalling collected packages: numpy\n",
            "  Attempting uninstall: numpy\n",
            "    Found existing installation: numpy 2.1.2\n",
            "    Uninstalling numpy-2.1.2:\n",
            "      Successfully uninstalled numpy-2.1.2\n",
            "\u001b[31mERROR: pip's dependency resolver does not currently take into account all the packages that are installed. This behaviour is the source of the following dependency conflicts.\n",
            "peft 0.16.0 requires transformers, which is not installed.\n",
            "jaxlib 0.5.1 requires numpy>=1.25, but you have numpy 1.24.4 which is incompatible.\n",
            "xarray-einstats 0.9.1 requires numpy>=1.25, but you have numpy 1.24.4 which is incompatible.\n",
            "treescope 0.1.9 requires numpy>=1.25.2, but you have numpy 1.24.4 which is incompatible.\n",
            "pymc 5.23.0 requires numpy>=1.25.0, but you have numpy 1.24.4 which is incompatible.\n",
            "pymc 5.23.0 requires rich>=13.7.1, but you have rich 13.4.2 which is incompatible.\n",
            "jax 0.5.2 requires numpy>=1.25, but you have numpy 1.24.4 which is incompatible.\n",
            "opencv-python-headless 4.12.0.88 requires numpy<2.3.0,>=2; python_version >= \"3.9\", but you have numpy 1.24.4 which is incompatible.\n",
            "blosc2 3.5.1 requires numpy>=1.26, but you have numpy 1.24.4 which is incompatible.\n",
            "yfinance 0.2.65 requires requests>=2.31, but you have requests 2.28.2 which is incompatible.\n",
            "tensorflow 2.18.0 requires numpy<2.1.0,>=1.26.0, but you have numpy 1.24.4 which is incompatible.\n",
            "pytensor 2.31.7 requires filelock>=3.15, but you have filelock 3.14.0 which is incompatible.\n",
            "thinc 8.3.6 requires numpy<3.0.0,>=2.0.0, but you have numpy 1.24.4 which is incompatible.\u001b[0m\u001b[31m\n",
            "\u001b[0mSuccessfully installed numpy-1.24.4\n"
          ]
        },
        {
          "output_type": "display_data",
          "data": {
            "application/vnd.colab-display-data+json": {
              "pip_warning": {
                "packages": [
                  "numpy"
                ]
              },
              "id": "ca5ae20406fa493899283b3b1a4ae420"
            }
          },
          "metadata": {}
        }
      ],
      "source": [
        "!pip install numpy==1.24.4\n"
      ]
    },
    {
      "cell_type": "markdown",
      "metadata": {
        "id": "OzgQqkp-wuj5"
      },
      "source": [
        "### 6. Download  Temporal Segment Network ( Built on Imagenet ) configuration file and  checkpoint file"
      ]
    },
    {
      "cell_type": "code",
      "execution_count": 11,
      "metadata": {
        "id": "3vHJPxlL_-xN",
        "colab": {
          "base_uri": "https://localhost:8080/"
        },
        "outputId": "4c971b29-4c4d-4c9a-eab3-1f7bc51c25b6"
      },
      "outputs": [
        {
          "output_type": "stream",
          "name": "stdout",
          "text": [
            "processing tsn_imagenet-pretrained-r50_8xb32-1x1x8-100e_kinetics400-rgb...\n",
            "\u001b[2Kdownloading \u001b[90m━━━━━━━━━━━━━━━━━━━━━━━━━━━━━━━━\u001b[0m \u001b[32m93.1/93.1 MiB\u001b[0m \u001b[31m38.4 MB/s\u001b[0m eta \u001b[36m0:00:00\u001b[0m\n",
            "\u001b[?25h\u001b[32mSuccessfully downloaded tsn_imagenet-pretrained-r50_8xb32-1x1x8-100e_kinetics400-rgb_20220906-2692d16c.pth to /content/mmaction2\u001b[0m\n",
            "\u001b[32mSuccessfully dumped tsn_imagenet-pretrained-r50_8xb32-1x1x8-100e_kinetics400-rgb.py to /content/mmaction2\u001b[0m\n",
            "processing rtmdet_tiny_8xb32-300e_coco...\n",
            "\u001b[2Kdownloading \u001b[90m━━━━━━━━━━━━━━━━━━━━━━━━━━━━━━━\u001b[0m \u001b[32m54.9/54.9 MiB\u001b[0m \u001b[31m103.0 MB/s\u001b[0m eta \u001b[36m0:00:00\u001b[0m\n",
            "\u001b[?25h\u001b[32mSuccessfully downloaded rtmdet_tiny_8xb32-300e_coco_20220902_112414-78e30dcc.pth to /content/mmdetection\u001b[0m\n",
            "\u001b[32mSuccessfully dumped rtmdet_tiny_8xb32-300e_coco.py to /content/mmdetection\u001b[0m\n"
          ]
        }
      ],
      "source": [
        "# downloading the configuration file to the given location\n",
        "\n",
        "!mim download mmaction2 --config tsn_imagenet-pretrained-r50_8xb32-1x1x8-100e_kinetics400-rgb --dest /content/mmaction2/\n"
      ]
    },
    {
      "cell_type": "markdown",
      "metadata": {
        "id": "QYhHxFoQxqfj"
      },
      "source": [
        "### 7. Testing Setup for :"
      ]
    },
    {
      "cell_type": "markdown",
      "metadata": {
        "id": "vvqoX28CHY3L"
      },
      "source": [
        "#### 1.  MMAction Setup on a demo video"
      ]
    },
    {
      "cell_type": "code",
      "execution_count": 12,
      "metadata": {
        "id": "Hed77KcmABqv",
        "colab": {
          "base_uri": "https://localhost:8080/"
        },
        "outputId": "84c1f3ac-c467-4f34-b92f-30d24113af72"
      },
      "outputs": [
        {
          "output_type": "stream",
          "name": "stdout",
          "text": [
            "Loads checkpoint by local backend from path: /content/mmaction2/tsn_imagenet-pretrained-r50_8xb32-1x1x8-100e_kinetics400-rgb_20220906-2692d16c.pth\n",
            "07/20 17:54:46 - mmengine - \u001b[5m\u001b[4m\u001b[33mWARNING\u001b[0m - \"FileClient\" will be deprecated in future. Please use io functions in https://mmengine.readthedocs.io/en/latest/api/fileio.html#file-io\n",
            "07/20 17:54:46 - mmengine - \u001b[5m\u001b[4m\u001b[33mWARNING\u001b[0m - \"HardDiskBackend\" is the alias of \"LocalBackend\" and the former will be deprecated in future.\n",
            "The top-5 labels with corresponding scores are:\n",
            "arm wrestling:  1.0\n",
            "rock scissors paper:  9.462836601543262e-14\n",
            "massaging feet:  1.6511641839499387e-14\n",
            "stretching leg:  2.9603629982365978e-15\n",
            "opening bottle:  2.2746603930393246e-15\n"
          ]
        }
      ],
      "source": [
        "# The demo.mp4 and label_map_k400.txt are both from Kinetics-400\n",
        "!python /content/mmaction2/demo/demo.py /content/mmaction2/tsn_imagenet-pretrained-r50_8xb32-1x1x8-100e_kinetics400-rgb.py \\\n",
        "    /content/mmaction2/tsn_imagenet-pretrained-r50_8xb32-1x1x8-100e_kinetics400-rgb_20220906-2692d16c.pth \\\n",
        "    /content/mmaction2/demo/demo.mp4 /content/mmaction2/tools/data/kinetics/label_map_k400.txt"
      ]
    },
    {
      "cell_type": "markdown",
      "metadata": {
        "id": "p5mGyQQ_HY3M"
      },
      "source": [
        "#### 2. MMDetcttion on a Demo picture"
      ]
    },
    {
      "cell_type": "code",
      "execution_count": 13,
      "metadata": {
        "id": "LtrhaE-i_c1E",
        "colab": {
          "base_uri": "https://localhost:8080/"
        },
        "outputId": "89ebac3d-9998-49ee-8a61-59cdd62d88c7"
      },
      "outputs": [
        {
          "output_type": "stream",
          "name": "stdout",
          "text": [
            "Loads checkpoint by local backend from path: /content/mmdetection/rtmdet_tiny_8xb32-300e_coco_20220902_112414-78e30dcc.pth\n",
            "The model and loaded state dict do not match exactly\n",
            "\n",
            "unexpected key in source state_dict: data_preprocessor.mean, data_preprocessor.std\n",
            "\n",
            "07/20 17:55:09 - mmengine - \u001b[5m\u001b[4m\u001b[33mWARNING\u001b[0m - Failed to search registry with scope \"mmdet\" in the \"function\" registry tree. As a workaround, the current \"function\" registry in \"mmengine\" is used to build instance. This may cause unexpected failure when running the built modules. Please check whether \"mmdet\" is a correct scope, or whether the registry is initialized.\n",
            "/usr/local/lib/python3.11/dist-packages/mmengine/visualization/visualizer.py:196: UserWarning: Failed to add <class 'mmengine.visualization.vis_backend.LocalVisBackend'>, please provide the `save_dir` argument.\n",
            "  warnings.warn(f'Failed to add {vis_backend.__class__}, '\n",
            "\u001b[2K/usr/local/lib/python3.11/dist-packages/torch/functional.py:504: UserWarning: \n",
            "torch.meshgrid: in an upcoming release, it will be required to pass the indexing\n",
            "argument. (Triggered internally at \n",
            "../aten/src/ATen/native/TensorShape.cpp:3526.)\n",
            "  return _VF.meshgrid(tensors, **kwargs)  # type: ignore[attr-defined]\n",
            "\u001b[2KInference \u001b[90m━\u001b[0m\u001b[90m━\u001b[0m\u001b[90m━\u001b[0m\u001b[90m━\u001b[0m\u001b[90m━\u001b[0m\u001b[90m━\u001b[0m\u001b[90m━\u001b[0m\u001b[35m━\u001b[0m\u001b[91m━\u001b[0m\u001b[91m━\u001b[0m\u001b[91m━\u001b[0m\u001b[91m━\u001b[0m\u001b[91m━\u001b[0m\u001b[91m━\u001b[0m\u001b[91m━\u001b[0m\u001b[35m━\u001b[0m\u001b[90m━\u001b[0m\u001b[90m━\u001b[0m\u001b[90m━\u001b[0m\u001b[90m━\u001b[0m\u001b[90m━\u001b[0m\u001b[90m━\u001b[0m\u001b[90m━\u001b[0m\u001b[90m━\u001b[0m\u001b[90m━\u001b[0m\u001b[90m━\u001b[0m\u001b[90m━\u001b[0m\u001b[35m━\u001b[0m\u001b[91m━\u001b[0m\u001b[91m━\u001b[0m\u001b[91m━\u001b[0m\u001b[91m━\u001b[0m\u001b[91m━\u001b[0m\u001b[91m━\u001b[0m\u001b[91m━\u001b[0m\u001b[35m━\u001b[0m\u001b[90m━\u001b[0m\u001b[90m━\u001b[0m\u001b[90m━\u001b[0m\u001b[90m━\u001b[0m  \u001b[36m \u001b[0m\n",
            "\u001b[?25hresults have been saved at outputs\n"
          ]
        }
      ],
      "source": [
        "!python /content/mmdetection/demo/image_demo.py /content/mmdetection/demo/demo.jpg /content/mmdetection/rtmdet_tiny_8xb32-300e_coco.py --weights /content/mmdetection/rtmdet_tiny_8xb32-300e_coco_20220902_112414-78e30dcc.pth --device cpu"
      ]
    },
    {
      "cell_type": "markdown",
      "metadata": {
        "id": "TSs6O-jsdT8S"
      },
      "source": [
        "## `3.  App File, Requirement and Checkpoint setup `"
      ]
    },
    {
      "cell_type": "markdown",
      "metadata": {
        "id": "LjxwwFHdHY3N"
      },
      "source": [
        "### 1. Download Checkpoints  Files for Action recognition [Timesformer](https://mmaction2.readthedocs.io/en/latest/model_zoo/recognition.html#timesformer)"
      ]
    },
    {
      "cell_type": "code",
      "execution_count": 14,
      "metadata": {
        "id": "L193NiuPRMGR"
      },
      "outputs": [],
      "source": [
        "# Create Project  Tree Struscture\n",
        "import os\n",
        "\n",
        "os.makedirs(\"/content/smart_traffic_detector\", exist_ok=True)\n",
        "\n",
        "os.makedirs(\"/content/smart_traffic_detector/debug\", exist_ok=True)\n",
        "os.makedirs(\"/content/smart_traffic_detector/main\", exist_ok=True)\n",
        "os.makedirs(\"/content/smart_traffic_detector/checkpoints\", exist_ok=True)\n",
        "os.makedirs(\"/content/smart_traffic_detector/clips\", exist_ok=True)\n",
        "os.makedirs(\"/content/smart_traffic_detector/violations\", exist_ok=True)\n",
        "os.makedirs(\"/content/smart_traffic_detector/alerts\", exist_ok=True)"
      ]
    },
    {
      "cell_type": "code",
      "execution_count": 15,
      "metadata": {
        "id": "5NxX7Z9_dUuF",
        "colab": {
          "base_uri": "https://localhost:8080/"
        },
        "outputId": "5a79b55c-35f7-43c8-f273-1faeacb304d2",
        "collapsed": true
      },
      "outputs": [
        {
          "output_type": "stream",
          "name": "stdout",
          "text": [
            "--2025-07-20 17:55:13--  https://download.openmmlab.com/mmaction/v1.0/recognition/timesformer/timesformer_spaceOnly_8xb8-8x32x1-15e_kinetics400-rgb/timesformer_spaceOnly_8xb8-8x32x1-15e_kinetics400-rgb_20220815-78f05367.pth\n",
            "Resolving download.openmmlab.com (download.openmmlab.com)... 163.181.201.197, 163.181.201.198, 163.181.201.199, ...\n",
            "Connecting to download.openmmlab.com (download.openmmlab.com)|163.181.201.197|:443... connected.\n",
            "HTTP request sent, awaiting response... 200 OK\n",
            "Length: 344501009 (329M) [application/octet-stream]\n",
            "Saving to: ‘/content/smart_traffic_detector/checkpoints/timesformer_spaceOnly_8xb8-8x32x1-15e_kinetics400-rgb_20220815-78f05367.pth’\n",
            "\n",
            "timesformer_spaceOn 100%[===================>] 328.54M  43.4MB/s    in 6.7s    \n",
            "\n",
            "2025-07-20 17:55:20 (49.1 MB/s) - ‘/content/smart_traffic_detector/checkpoints/timesformer_spaceOnly_8xb8-8x32x1-15e_kinetics400-rgb_20220815-78f05367.pth’ saved [344501009/344501009]\n",
            "\n",
            "--2025-07-20 17:55:20--  https://github.com/open-mmlab/mmaction2/blob/main/tools/data/kinetics/label_map_k400.txt\n",
            "Resolving github.com (github.com)... 20.205.243.166\n",
            "Connecting to github.com (github.com)|20.205.243.166|:443... connected.\n",
            "HTTP request sent, awaiting response... 200 OK\n",
            "Length: unspecified [text/html]\n",
            "Saving to: ‘/content/smart_traffic_detector/label_map_k400.txt’\n",
            "\n",
            "label_map_k400.txt      [ <=>                ] 192.65K  --.-KB/s    in 0.006s  \n",
            "\n",
            "2025-07-20 17:55:21 (33.4 MB/s) - ‘/content/smart_traffic_detector/label_map_k400.txt’ saved [197269]\n",
            "\n"
          ]
        }
      ],
      "source": [
        "\n",
        "# Download Model  Checkpoint  for ACtion Recognition\n",
        "\n",
        "!wget https://download.openmmlab.com/mmaction/v1.0/recognition/timesformer/timesformer_spaceOnly_8xb8-8x32x1-15e_kinetics400-rgb/timesformer_spaceOnly_8xb8-8x32x1-15e_kinetics400-rgb_20220815-78f05367.pth -P /content/smart_traffic_detector/checkpoints\n",
        "#!wget https://download.openmmlab.com/mmaction/v1.0/recognition/slowfast/slowfast_r101_8xb8-8x8x1-256e_kinetics400-rgb/slowfast_r101_8xb8-8x8x1-256e_kinetics400-rgb_20220818-9c0e09bd.pth -P /content/smart_traffic_detector/checkpoints\n",
        "#!wget https://download.openmmlab.com/mmdetection/v2.0/faster_rcnn/faster_rcnn_r50_fpn_2x_coco/faster_rcnn_r50_fpn_2x_coco_bbox_mAP-0.384_20200504_210434-a5d8aa15.pth -P /content/smart_traffic_detector/checkpoints\n",
        "!wget https://github.com/open-mmlab/mmaction2/blob/main/tools/data/kinetics/label_map_k400.txt -P /content/smart_traffic_detector"
      ]
    },
    {
      "cell_type": "markdown",
      "metadata": {
        "id": "bFRsm2CJHY3O"
      },
      "source": [
        "### 3. Write App file and  Requirements file"
      ]
    },
    {
      "cell_type": "markdown",
      "metadata": {
        "id": "M7jptMM1HY3O"
      },
      "source": [
        "#### 1. write Requirements File"
      ]
    },
    {
      "cell_type": "code",
      "execution_count": 16,
      "metadata": {
        "id": "fOLWSZx7RzPZ",
        "colab": {
          "base_uri": "https://localhost:8080/"
        },
        "outputId": "6729bbf1-b759-4f78-dfb4-a0b6b454b7e8"
      },
      "outputs": [
        {
          "output_type": "stream",
          "name": "stdout",
          "text": [
            "Overwriting requirements.txt\n"
          ]
        }
      ],
      "source": [
        "%%writefile requirements.txt\n",
        "\n",
        "\n",
        "# Core video processing\n",
        "moviepy==1.0.3\n",
        "opencv-python==4.9.0.80\n",
        "ffmpeg-python==0.2.0\n",
        "\n",
        "# Object detection (YOLOv8)\n",
        "ultralytics==8.1.5\n",
        "\n",
        "\n",
        "# Email alerts\n",
        "certifi\n",
        "email-validator\n",
        "\n",
        "# Streamlit (optional for dashboard)\n",
        "streamlit==1.27.2\n",
        "\n",
        "# For parsing configs and data\n",
        "PyYAML==6.0\n",
        "numpy==1.24.4\n",
        "pandas\n",
        "\n",
        "# Youtube  video library\n",
        "yt-dlp\n",
        "pyngrok\n",
        "\n",
        "\n",
        "\n",
        "# frontend and tunnel library\n",
        "pyngrok\n",
        "streamlit\n",
        "ultralytics"
      ]
    },
    {
      "cell_type": "markdown",
      "source": [
        "#### 2. write App file"
      ],
      "metadata": {
        "id": "GTC6HxO8sNwW"
      }
    },
    {
      "cell_type": "code",
      "source": [
        "%%writefile /content/smart_traffic_detector/main/main_app.py\n",
        "import os\n",
        "import json\n",
        "import subprocess\n",
        "from typing import Dict, List, Any, Set\n",
        "\n",
        "import cv2\n",
        "import numpy as np\n",
        "from moviepy.editor import VideoFileClip\n",
        "from mmaction.apis import init_recognizer, inference_recognizer\n",
        "from ultralytics import YOLO\n",
        "\n",
        "\n",
        "\n",
        "\n",
        "#--------------------------------------------\n",
        "# Environment Project Tree Structure Setup\n",
        "#--------------------------------------------\n",
        "\n",
        "work_dir = \"/content/smart_traffic_detector\"\n",
        "model_config = \"/content/mmaction2/configs/recognition/timesformer/timesformer_spaceOnly_8xb8-8x32x1-15e_kinetics400-rgb.py\"\n",
        "model_checkpoints = \"/content/smart_traffic_detector/checkpoints/timesformer_spaceOnly_8xb8-8x32x1-15e_kinetics400-rgb_20220815-78f05367.pth\"\n",
        "label_map_path = \"/content/smart_traffic_detector/label_map_k400.txt\"\n",
        "\n",
        "\n",
        "\n",
        "def create_project_tree(workdir: str):\n",
        "    os.makedirs(os.path.join(workdir, \"debug\"), exist_ok=True)\n",
        "    os.makedirs(os.path.join(workdir, \"clips\"), exist_ok=True)\n",
        "    os.makedirs(os.path.join(workdir, \"violations\"), exist_ok=True)\n",
        "    os.makedirs(os.path.join(workdir, \"alerts\"), exist_ok=True)\n",
        "    os.makedirs(os.path.join(workdir, \"main\"), exist_ok=True)\n",
        "\n",
        "\n",
        "\n",
        "# ------------------------------------------------------------------\n",
        "# Video Preprocessing\n",
        "# ------------------------------------------------------------------\n",
        "def split_video_into_clips(video_path: str, output_dir: str = \"clips\", clip_length: int = 10):\n",
        "    \"\"\"Split a  video into tubelets  (smaller clips (seconds))  via ffmpeg.\"\"\"\n",
        "\n",
        "\n",
        "    # Probe duration\n",
        "    result = subprocess.run(\n",
        "        [\"ffprobe\", \"-v\", \"error\", \"-show_entries\", \"format=duration\",\n",
        "         \"-of\", \"default=noprint_wrappers=1:nokey=1\", video_path],\n",
        "        capture_output=True, text=True\n",
        "    )\n",
        "    duration = float(result.stdout.strip()) if result.stdout.strip() else 0.0\n",
        "\n",
        "    clips = []  # temorarily store splitted clips\n",
        "    for start in range(0, int(duration), clip_length):  # iterate over the clip length at a step size of 10sec\n",
        "        clip_name = f\"{output_dir}/clip_{start:04d}.mp4\"\n",
        "        subprocess.run([\n",
        "            \"ffmpeg\", \"-y\",\n",
        "            \"-ss\", str(start),\n",
        "            \"-i\", video_path,\n",
        "            \"-t\", str(clip_length),\n",
        "            \"-vf\", \"scale=640:384\",\n",
        "            \"-c:v\", \"libx264\",\n",
        "            \"-pix_fmt\", \"yuv420p\",\n",
        "            clip_name\n",
        "        ], stdout=subprocess.DEVNULL, stderr=subprocess.STDOUT)\n",
        "        clips.append((clip_name, start))\n",
        "    return clips\n",
        "\n",
        "\n",
        "# ------------------------------\n",
        "# Traffic Light Color Detection\n",
        "# ------------------------------\n",
        "\n",
        "def detect_traffic_light_color_simple(image, bbox, debug_id=None):\n",
        "    \"\"\"\n",
        "\n",
        "    Returns: 'red', 'yellow', 'green', or 'unknown'.\n",
        "    \"\"\"\n",
        "    x1, y1, x2, y2 = map(int, bbox)\n",
        "\n",
        "    # Clip to image bounds\n",
        "    h_img, w_img = image.shape[:2]\n",
        "    x1 = max(0, min(x1, w_img - 1))\n",
        "    x2 = max(0, min(x2, w_img))\n",
        "    y1 = max(0, min(y1, h_img - 1))\n",
        "    y2 = max(0, min(y2, h_img))\n",
        "    if x2 <= x1 or y2 <= y1:\n",
        "        return \"unknown\"\n",
        "\n",
        "    roi = image[y1:y2, x1:x2]  # Grab the region of interest from the Detected Traffic Light\n",
        "    if roi.size == 0:\n",
        "        return \"unknown\"\n",
        "\n",
        "    # Noise reduction\n",
        "    roi = cv2.GaussianBlur(roi, (3, 3), 0)\n",
        "\n",
        "    # increase contrast\n",
        "    lab = cv2.cvtColor(roi, cv2.COLOR_BGR2LAB)\n",
        "    l, a, b = cv2.split(lab)\n",
        "    clahe = cv2.createCLAHE(clipLimit=3.0, tileGridSize=(8, 8))\n",
        "    cl = clahe.apply(l)\n",
        "    limg = cv2.merge((cl, a, b))\n",
        "    roi = cv2.cvtColor(limg, cv2.COLOR_LAB2BGR)\n",
        "\n",
        "    # HSV  (Hue Saturation Value)\n",
        "    hsv = cv2.cvtColor(roi, cv2.COLOR_BGR2HSV)\n",
        "\n",
        "    # Split into 3 horizontal sections: Red Yellow and Green which falls in top, Mid and bottom of the traffic light respectively\n",
        "\n",
        "    h = roi.shape[0]\n",
        "    third = max(1, h // 3)\n",
        "    sections = {                     # Grab  each section and store them based on the division\n",
        "        \"red\": hsv[0:third, :],\n",
        "        \"yellow\": hsv[third:2 * third, :],\n",
        "        \"green\": hsv[2 * third:h, :]\n",
        "    }\n",
        "\n",
        "    # Broad HSV ranges (tune per camera)\n",
        "    red_lower1 = np.array([0, 50, 20])\n",
        "    red_upper1 = np.array([10, 255, 255])\n",
        "    red_lower2 = np.array([160, 50, 20])\n",
        "    red_upper2 = np.array([180, 255, 255])\n",
        "\n",
        "    yellow_lower = np.array([15, 40, 40])\n",
        "    yellow_upper = np.array([40, 255, 255])\n",
        "\n",
        "    green_lower = np.array([30, 40, 40])\n",
        "    green_upper = np.array([100, 255, 255])\n",
        "\n",
        "     # Debbug traffic light section to detetct the correct light\n",
        "    scores = {}\n",
        "    if debug_id:\n",
        "        dbg_dir = os.path.join(work_dir, \"debug\")\n",
        "        os.makedirs(dbg_dir, exist_ok=True)\n",
        "        cv2.imwrite(os.path.join(dbg_dir, f\"tl_{debug_id}.jpg\"), roi)\n",
        "    else:\n",
        "        dbg_dir = None\n",
        "\n",
        "\n",
        "    # masking ROI to get values the approximate shape and the location of the color detected\n",
        "    for color, section_hsv in sections.items():\n",
        "        if color == \"red\":\n",
        "            mask1 = cv2.inRange(section_hsv, red_lower1, red_upper1)\n",
        "            mask2 = cv2.inRange(section_hsv, red_lower2, red_upper2)\n",
        "            mask = cv2.bitwise_or(mask1, mask2)\n",
        "        elif color == \"yellow\":\n",
        "            mask = cv2.inRange(section_hsv, yellow_lower, yellow_upper)\n",
        "        else:  # green\n",
        "            mask = cv2.inRange(section_hsv, green_lower, green_upper)\n",
        "\n",
        "        scores[color] = cv2.countNonZero(mask)  # count the number of the dominant color of each pixel in each section of the traffic light\n",
        "\n",
        "        if dbg_dir:\n",
        "            cv2.imwrite(os.path.join(dbg_dir, f\"{color}_mask_{debug_id}.jpg\"), mask)   # store Detected color\n",
        "\n",
        "    dominant_color = max(scores, key=scores.get)\n",
        "    total_pixels = roi.shape[0] * roi.shape[1]\n",
        "    return dominant_color if total_pixels > 0 and (scores[dominant_color] / float(total_pixels)) > 0.002 else \"unknown\"\n",
        "\n",
        "\n",
        "# ------------------------------\n",
        "# Object Detection using Yolov8\n",
        "# ------------------------------\n",
        "_object_model = YOLO(\"yolov8n.pt\")  # pretrained COCO\n",
        "\n",
        " # Return Respective classs id for the object detcted\n",
        "if isinstance(_object_model.names, dict):\n",
        "    CLASS_NAMES: Dict[int, str] = _object_model.names\n",
        "elif isinstance(_object_model.names, (list, tuple)):\n",
        "    CLASS_NAMES = {i: n for i, n in enumerate(_object_model.names)}\n",
        "else:\n",
        "    CLASS_NAMES = {}\n",
        "\n",
        "\n",
        "def _get_cls_id(box) -> int:\n",
        "    cid = getattr(box, \"cls\", None)\n",
        "    if cid is None:\n",
        "        return -1\n",
        "    try:\n",
        "        return int(cid.item())\n",
        "    except Exception:\n",
        "        try:\n",
        "            return int(cid[0])\n",
        "        except Exception:\n",
        "            return int(cid)\n",
        "\n",
        "\n",
        "def run_object_detection(clip_path: str) -> List[Dict[str, Any]]:\n",
        "    \"\"\"Run YOLO object detection on a video file and return list of detections.\"\"\"\n",
        "    results = _object_model(clip_path, stream=True)\n",
        "    detections = []\n",
        "\n",
        "    for frame_id, res in enumerate(results):\n",
        "        frame = res.orig_img  # BGR numpy array\n",
        "\n",
        "        boxes = getattr(res, \"boxes\", None)\n",
        "        if boxes is None or len(boxes) == 0:\n",
        "            continue\n",
        "\n",
        "        for box_idx, box in enumerate(boxes):\n",
        "            cls_id = _get_cls_id(box)\n",
        "            cls_name = CLASS_NAMES.get(cls_id, f\"class_{cls_id}\")\n",
        "\n",
        "            # get bounding box cordinate\n",
        "            xyxy = box.xyxy\n",
        "            if hasattr(xyxy, \"cpu\"):\n",
        "                xyxy = xyxy.cpu().numpy()\n",
        "            xyxy = np.array(xyxy).reshape(-1, 4)[0].tolist()\n",
        "\n",
        "            # confidence check\n",
        "            conf_attr = getattr(box, \"conf\", None)\n",
        "            if conf_attr is not None:\n",
        "                try:\n",
        "                    conf_val = float(conf_attr.item())\n",
        "                except Exception:\n",
        "                    conf_val = float(conf_attr)\n",
        "            else:\n",
        "                conf_val = 0.0\n",
        "\n",
        "            det = {\n",
        "                \"frame\": frame_id,\n",
        "                \"class\": cls_name,\n",
        "                \"confidence\": conf_val,\n",
        "                \"bbox\": xyxy,\n",
        "            }\n",
        "\n",
        "            # Traffic light color classification\n",
        "            if cls_name == \"traffic light\":\n",
        "                debug_id = f\"{os.path.basename(clip_path)}_f{frame_id}_b{box_idx}\"\n",
        "                det[\"color\"] = detect_traffic_light_color_simple(frame, xyxy, debug_id=debug_id)\n",
        "\n",
        "            detections.append(det)\n",
        "\n",
        "    return detections\n",
        "\n",
        "#--------------\n",
        "# Model Loader\n",
        "#-------------\n",
        "def load_model():\n",
        "  _object_model = YOLO(\"yolov8n.pt\")\n",
        "  _action_model = init_recognizer(model_config, model_checkpoints, device=\"cpu\")\n",
        "  return _object_model, _action_model\n",
        "\n",
        "_object_model, _action_model = load_model()\n",
        "\n",
        "# ----------------------------------------------------\n",
        "# Action Recognition  Using TimeSformer from MMAction\n",
        "# ----------------------------------------------------\n",
        "\n",
        "\n",
        "with open(label_map_path) as f:\n",
        "    LABEL_MAP = [line.strip() for line in f.readlines()]\n",
        "\n",
        "\n",
        "def run_action_recognition(clip_path: str) -> List[Dict[str, Any]]:\n",
        "    \"\"\"Return top-5 action predictions from MMAction2 model.\"\"\"\n",
        "    results = inference_recognizer(_action_model, clip_path)\n",
        "    top5_scores, top5_labels = results.pred_score.topk(5)\n",
        "    return [\n",
        "        {\"label\": LABEL_MAP[int(label)], \"score\": float(score)}\n",
        "        for label, score in zip(top5_labels, top5_scores)\n",
        "    ]\n",
        "\n",
        "# ----------------------\n",
        "# clip Analysis\n",
        "# ----------------------\n",
        "def analyze_clip(clip_path: str, start_time: float):\n",
        "    obj_dets = run_object_detection(clip_path)\n",
        "    act_dets = run_action_recognition(clip_path)\n",
        "    return {\n",
        "        \"clip\": os.path.basename(clip_path),\n",
        "        \"start_time\": start_time,\n",
        "        \"object_detections\": obj_dets,\n",
        "        \"action_detections\": act_dets\n",
        "    }\n",
        "\n",
        "\n",
        "# -------------------------------------------\n",
        "# Violation Rules for both Action and Object\n",
        "# -------------------------------------------\n",
        "violation_rules = {\n",
        "    \"driving car\": {\n",
        "        \"required_objects\": [\"traffic light\", \"car\"],\n",
        "        \"threshold\": 0.05,\n",
        "        \"description\": \"Vehicle driving – check for red-light violation\"\n",
        "    },\n",
        "    \"riding a bike\": {\n",
        "        \"required_objects\": [\"bicycle\", \"person\"],\n",
        "        \"threshold\": 0.25,\n",
        "        \"description\": \"Bike riding – check for helmet use\"\n",
        "    },\n",
        "    \"motorcycling\": {\n",
        "        \"required_objects\": [\"motorcycle\", \"person\"],\n",
        "        \"threshold\": 0.25,\n",
        "        \"description\": \"Motorcycle detected – possible no helmet\"\n",
        "    },\n",
        "    \"running\": {\n",
        "        \"required_objects\": [\"person\", \"car\"],  # 'car' used as traffic context proxy\n",
        "        \"threshold\": 0.30,\n",
        "        \"description\": \"Jaywalking or unsafe crossing\"\n",
        "    },\n",
        "    \"sitting\": {\n",
        "        \"required_objects\": [\"person\", \"bus stop\"],  # logical name; will map to proxy\n",
        "        \"threshold\": 0.15,\n",
        "        \"description\": \"Loitering at bus stop\"\n",
        "    },\n",
        "    \"standing\": {\n",
        "        \"required_objects\": [\"person\"],  # removed 'road' (not detected by COCO)\n",
        "        \"threshold\": 0.20,\n",
        "        \"description\": \"Pedestrian blocking road\"\n",
        "    },\n",
        "}\n",
        "\n",
        "# Map logical -> detector labels (yolov8 was trained on COCO with 80 objects)\n",
        "OBJECT_SYNONYMS = {\n",
        "    \"bus stop\": [\"bench\", \"stop sign\"],\n",
        "}\n",
        "\n",
        "\n",
        "def _expand_required_objects(required: Set[str], detected_objects: Set[str]) -> Set[str]:\n",
        "    \"\"\"Expand logical rule objects into actual detector class names where needed.\"\"\"\n",
        "    expanded = set()\n",
        "    for obj_name in required:\n",
        "        if obj_name in detected_objects:\n",
        "            expanded.add(obj_name)\n",
        "            continue\n",
        "        for syn in OBJECT_SYNONYMS.get(obj_name, []):\n",
        "            if syn in detected_objects:\n",
        "                expanded.add(syn)\n",
        "                break\n",
        "        else:\n",
        "            expanded.add(obj_name)  # keep; may remain missing\n",
        "    return expanded\n",
        "\n",
        "\n",
        "# --------------------------\n",
        "# Violation Detection Logic\n",
        "# -------------------------\n",
        "def detect_violations(result: Dict[str, Any]):\n",
        "    violations = []\n",
        "    obj_dets = result[\"object_detections\"]\n",
        "    detected_objects = set(obj[\"class\"] for obj in obj_dets)\n",
        "\n",
        "    # Aggregate traffic-light colors (any RED beats others)\n",
        "    tl_colors = [obj.get(\"color\", \"unknown\") for obj in obj_dets if obj[\"class\"] == \"traffic light\"]\n",
        "    traffic_light_status = \"unknown\"\n",
        "    if any(c == \"red\" for c in tl_colors):\n",
        "        traffic_light_status = \"red\"\n",
        "    elif any(c == \"yellow\" for c in tl_colors):\n",
        "        traffic_light_status = \"yellow\"\n",
        "    elif any(c == \"green\" for c in tl_colors):\n",
        "        traffic_light_status = \"green\"\n",
        "\n",
        "    for action in result[\"action_detections\"]:\n",
        "        label, score = action[\"label\"], action[\"score\"]\n",
        "        if label not in violation_rules:\n",
        "            continue\n",
        "        rule = violation_rules[label]\n",
        "\n",
        "        if score < rule[\"threshold\"]:\n",
        "            print(f\"⚠️ Action '{label}' below threshold: {score:.2f} < {rule['threshold']}\")\n",
        "            continue\n",
        "\n",
        "        logical_required = set(rule[\"required_objects\"])\n",
        "        required = _expand_required_objects(logical_required, detected_objects)\n",
        "        missing = {r for r in required if r not in detected_objects}\n",
        "\n",
        "\n",
        "        # Specialized red-light violation\n",
        "        if label == \"driving car\":\n",
        "            if (\"car\" in detected_objects) and (\"traffic light\" in detected_objects) \\\n",
        "               and (traffic_light_status == \"red\") and not missing:\n",
        "                violations.append({\n",
        "                    \"clip\": result[\"clip\"],\n",
        "                    \"start_time\": result[\"start_time\"],\n",
        "                    \"violation_type\": \"Red Light Violation\",\n",
        "                    \"description\": \"Vehicle crossed / moved during RED light.\",\n",
        "                    \"score\": score,\n",
        "                    \"objects\": list(logical_required),\n",
        "                    \"light\": traffic_light_status\n",
        "                })\n",
        "                print(\"🚨 RED LIGHT VIOLATION Detected.\")\n",
        "            else:\n",
        "                print(f\"❌ No red-light violation: light={traffic_light_status} missing={missing}\")\n",
        "            continue\n",
        "        # Generic rule-based violation (non red-light)\n",
        "        if not missing:\n",
        "            violations.append({\n",
        "                \"clip\": result[\"clip\"],\n",
        "                \"start_time\": result[\"start_time\"],\n",
        "                \"violation_type\": label,\n",
        "                \"description\": rule[\"description\"],\n",
        "                \"score\": score,\n",
        "                \"objects\": list(logical_required)\n",
        "            })\n",
        "            print(f\"⚠️ Violation Detected: {label}.\")\n",
        "        else:\n",
        "            print(f\"❌ Missing required objects for {label}: {missing}\")\n",
        "\n",
        "    return violations\n",
        "\n",
        "\n",
        "# -----------------------------------------\n",
        "# Run Violation Engine on All Clip Results\n",
        "# ----------------------------------------\n",
        "def run_violation_engine(processed_results: List[Dict[str, Any]]):\n",
        "    all_violations = []\n",
        "    for result in processed_results:\n",
        "        v = detect_violations(result)\n",
        "        if v:\n",
        "            all_violations.extend(v)\n",
        "    return all_violations\n",
        "\n",
        "\n",
        "# --------------------------------\n",
        "# Extract Violation Evidence Clip\n",
        "# --------------------------------\n",
        "def extract_violation_clip(input_path: str, output_path: str, start: float = 0, clip_duration: int = 5):\n",
        "    video = VideoFileClip(input_path)\n",
        "    video_duration = video.duration\n",
        "\n",
        "    # Clamp start\n",
        "    if start >= video_duration:\n",
        "        start = max(0, video_duration - clip_duration)\n",
        "\n",
        "    end = min(start + clip_duration, video_duration)\n",
        "    print(f\"Extracting from {start:.2f}s to {end:.2f}s (clip is {video_duration:.2f}s long)\")\n",
        "\n",
        "    clip = video.subclip(start, end)\n",
        "    os.makedirs(os.path.dirname(output_path), exist_ok=True)\n",
        "    clip.write_videofile(output_path, codec=\"libx264\", audio_codec=\"aac\")\n",
        "    clip.close()\n",
        "    video.close()\n",
        "\n",
        "\n",
        "# -----------------\n",
        "# Email Alert Stub\n",
        "# ------------------\n",
        "def send_violation_email():\n",
        "    # Implement Sending Email Algorithm that report violators to authority and may also send automated alert with fine to the violator but with license plate reognition\n",
        "    pass\n",
        "\n",
        "\n",
        "# ---------------\n",
        "# Main Funtion\n",
        "# ---------------\n",
        "def main_func(video_path: str):\n",
        "\n",
        "    #  Preprocess video into tubelet\n",
        "    clips = split_video_into_clips(video_path, output_dir=os.path.join(work_dir,\"clips\"))\n",
        "    processed_results = []\n",
        "\n",
        "    # Detect objects + actions per tubelet\n",
        "    for clip_path, start in clips:\n",
        "        print(f\"Analyzing {clip_path} (start at {start}s)...\")\n",
        "        result = analyze_clip(clip_path, start)\n",
        "        processed_results.append(result)\n",
        "\n",
        "    # Save analysed reult\n",
        "    analysed_path = os.path.join(work_dir, \"analysed_results.json\")\n",
        "    with open(analysed_path, \"w\") as f:\n",
        "        json.dump(processed_results, f, indent=2)\n",
        "    print(f\"Analysis saved: {analysed_path}\")\n",
        "\n",
        "    # Check  for vioaltions\n",
        "    violations = run_violation_engine(processed_results)\n",
        "\n",
        "    # Extract evidence clips\n",
        "    for violation in violations:\n",
        "        clip = violation[\"clip\"]\n",
        "        start_time = violation[\"start_time\"]\n",
        "        violation_type = violation[\"violation_type\"]\n",
        "        violation_clip_name = os.path.join(work_dir, f\"clips/{violation_type.replace(' ', '_').lower()}_{clip}\")\n",
        "        print(f\"Saving violation clip as: {violation_clip_name}\")\n",
        "        input_clip_path = f\"/content/smart_traffic_detector/clips/{clip}\"\n",
        "        extract_violation_clip(input_clip_path, violation_clip_name, start_time, clip_duration=5)\n",
        "\n",
        "    # Save violation log\n",
        "    violation_log_path = os.path.join(work_dir,\"violations\", \"violation_log.json\")\n",
        "    with open(violation_log_path, \"w\") as f:\n",
        "        json.dump(violations, f, indent=2)\n",
        "    print(f\"Violation log saved: {violation_log_path}\")\n",
        "\n",
        "    print(\"Pipeline complete.\")\n",
        "    return processed_results, violations\n",
        "\n",
        "\n",
        "# ----------\n",
        "# CLI Entry\n",
        "# ----------\n",
        "\n",
        "if __name__ == \"__main__\":\n",
        "    import argparse\n",
        "    parser = argparse.ArgumentParser(description=\"Smart Traffic Violation Detection Pipeline\")\n",
        "    parser.add_argument(\"--video\", type=str, required=True, help=\"Path to the input video file\")\n",
        "    args = parser.parse_args()\n",
        "    main_func(args.video)\n"
      ],
      "metadata": {
        "colab": {
          "base_uri": "https://localhost:8080/"
        },
        "id": "DIysQCDzolR8",
        "outputId": "801d273f-589e-4bdf-e0d5-a3f02d97cb9d"
      },
      "execution_count": 48,
      "outputs": [
        {
          "output_type": "stream",
          "name": "stdout",
          "text": [
            "Overwriting /content/smart_traffic_detector/main/main_app.py\n"
          ]
        }
      ]
    },
    {
      "cell_type": "markdown",
      "source": [
        "#### 4. Write Streamlit App"
      ],
      "metadata": {
        "id": "EeXxDdepCpPC"
      }
    },
    {
      "cell_type": "code",
      "execution_count": 18,
      "metadata": {
        "colab": {
          "base_uri": "https://localhost:8080/"
        },
        "id": "DshcYxuKoAqx",
        "outputId": "7fcbcb68-fbdb-491c-f1a4-ab59a46616f0"
      },
      "outputs": [
        {
          "output_type": "stream",
          "name": "stdout",
          "text": [
            "Writing /content/smart_traffic_detector/streamlit_app.py\n"
          ]
        }
      ],
      "source": [
        "%%writefile /content/smart_traffic_detector/streamlit_app.py\n",
        "\n",
        "from pathlib import Path\n",
        "import tempfile\n",
        "import os\n",
        "import json\n",
        "import streamlit as st\n",
        "from main.main_app import main_func\n",
        "\n",
        "# Streamlit config\n",
        "st.set_page_config(page_title=\"Smart Traffic Violation Detector\", layout=\"centered\")\n",
        "\n",
        "st.title(\"🚦 Smart Traffic Violation Detector\")\n",
        "st.markdown(\"Upload a video to check for any traffic violations.\")\n",
        "\n",
        "uploaded_video = st.file_uploader(\"📤 Upload a video file to analyze\", type=[\"mp4\", \"avi\", \"mov\",\"webm\"])\n",
        "\n",
        "if uploaded_video:\n",
        "    st.video(uploaded_video)\n",
        "\n",
        "    temp_video = tempfile.NamedTemporaryFile(delete=False, suffix=\".mp4\")\n",
        "    temp_video.write(uploaded_video.read())\n",
        "    temp_video_path = temp_video.name\n",
        "\n",
        "    if st.button(\"🚨 Check Violation\"):\n",
        "        with st.spinner(\"Analyzing video...\"):\n",
        "            processed_result, violations = main_pipeline(temp_video_path, \"example@gmail.com\")\n",
        "\n",
        "                        # Save violation log\n",
        "            log_path = \"/content/smart_traffic_detector/violations/violation_log.json\"\n",
        "            with open(log_path, \"w\") as f:\n",
        "                json.dump(violations, f, indent=2)\n",
        "\n",
        "            # View log checkbox\n",
        "            view_log = st.checkbox(\"📄 View Violation Log\")\n",
        "            if view_log:\n",
        "                with open(log_path, \"r\") as f:\n",
        "                    log_content = f.read()\n",
        "                    st.code(log_content, language=\"json\")\n",
        "\n",
        "            # Download log button\n",
        "            if st.button(\"⬇️ Download Violation Log\"):\n",
        "                with open(log_path, \"rb\") as f:\n",
        "                    log_bytes = f.read()\n",
        "                    st.download_button(\n",
        "                        label=\"⬇️ Download Violation Log\",\n",
        "                        data=log_bytes,\n",
        "                        file_name=\"violation_log.json\",\n",
        "                        mime=\"application/json\",\n",
        "                        key=\"download_log\"\n",
        "                    )\n",
        "\n",
        "            if len(violations) > 0:\n",
        "                st.success(f\"✅ {len(violations)} violation(s) detected.\")\n",
        "\n",
        "                for i, violation in enumerate(violations):\n",
        "                    clip_path = f\"/content/smart_traffic_detector/violations/{violation['clip']}\"\n",
        "                    if os.path.exists(clip_path):\n",
        "                        with open(clip_path, \"rb\") as f:\n",
        "                            clip_bytes = f.read()\n",
        "\n",
        "                        st.markdown(f\"### 📹 Violation Clip {i+1}\")\n",
        "                        st.video(clip_bytes)\n",
        "\n",
        "                        st.download_button(\n",
        "                            label=f\"⬇️ Download Clip {i+1}\",\n",
        "                            data=clip_bytes,\n",
        "                            file_name=violation[\"clip\"],\n",
        "                            mime=\"video/mp4\",\n",
        "                            key=f\"download_clip_{i}\"\n",
        "                        )\n",
        "                    else:\n",
        "                        st.warning(f\"⚠️ Clip not found: {clip_path}\")\n",
        "            else:\n",
        "                st.info(\"✅ No violations detected.\")\n",
        "\n",
        "        os.remove(temp_video_path)\n",
        "\n",
        "else:\n",
        "    st.warning(\"⚠️ Please upload a video to get started.\")\n"
      ]
    },
    {
      "cell_type": "markdown",
      "source": [
        "#### Write ` __init__file`"
      ],
      "metadata": {
        "id": "rmGXDP9vDFmM"
      }
    },
    {
      "cell_type": "code",
      "execution_count": 19,
      "metadata": {
        "id": "j5mWrRgLm9ty",
        "colab": {
          "base_uri": "https://localhost:8080/"
        },
        "outputId": "d474e544-e8f1-493b-827a-a5c424fa4cd7"
      },
      "outputs": [
        {
          "output_type": "stream",
          "name": "stdout",
          "text": [
            "Writing /content/smart_traffic_detector/main/__init__.py\n"
          ]
        }
      ],
      "source": [
        "%%writefile /content/smart_traffic_detector/main/__init__.py\n",
        "\n",
        "from .main_app import main_func\n",
        "\n"
      ]
    },
    {
      "cell_type": "code",
      "source": [
        "!rm -rf __pycache__ main/__pycache__\n"
      ],
      "metadata": {
        "id": "OPxDEIh3bHkf"
      },
      "execution_count": 20,
      "outputs": []
    },
    {
      "cell_type": "markdown",
      "metadata": {
        "id": "dQ_CjDqvHY3R"
      },
      "source": [
        "#### 4. Install Requirements"
      ]
    },
    {
      "cell_type": "code",
      "execution_count": 21,
      "metadata": {
        "collapsed": true,
        "id": "4GS0bnqSMPcI",
        "colab": {
          "base_uri": "https://localhost:8080/"
        },
        "outputId": "b4b3d388-480e-4f95-8c99-5ef1ebd33cf1"
      },
      "outputs": [
        {
          "output_type": "stream",
          "name": "stdout",
          "text": [
            "\u001b[2K     \u001b[90m━━━━━━━━━━━━━━━━━━━━━━━━━━━━━━━━━━━━━━━━\u001b[0m \u001b[32m40.2/40.2 kB\u001b[0m \u001b[31m3.5 MB/s\u001b[0m eta \u001b[36m0:00:00\u001b[0m\n",
            "\u001b[2K     \u001b[90m━━━━━━━━━━━━━━━━━━━━━━━━━━━━━━━━━━━━━━\u001b[0m \u001b[32m174.3/174.3 kB\u001b[0m \u001b[31m15.9 MB/s\u001b[0m eta \u001b[36m0:00:00\u001b[0m\n",
            "\u001b[2K     \u001b[90m━━━━━━━━━━━━━━━━━━━━━━━━━━━━━━━━━━━━━━━━\u001b[0m \u001b[32m44.3/44.3 kB\u001b[0m \u001b[31m3.7 MB/s\u001b[0m eta \u001b[36m0:00:00\u001b[0m\n",
            "\u001b[2K   \u001b[90m━━━━━━━━━━━━━━━━━━━━━━━━━━━━━━━━━━━━━━━━\u001b[0m \u001b[32m7.6/7.6 MB\u001b[0m \u001b[31m93.5 MB/s\u001b[0m eta \u001b[36m0:00:00\u001b[0m\n",
            "\u001b[2K   \u001b[90m━━━━━━━━━━━━━━━━━━━━━━━━━━━━━━━━━━━━━━━━\u001b[0m \u001b[32m702.8/702.8 kB\u001b[0m \u001b[31m45.1 MB/s\u001b[0m eta \u001b[36m0:00:00\u001b[0m\n",
            "\u001b[2K   \u001b[90m━━━━━━━━━━━━━━━━━━━━━━━━━━━━━━━━━━━━━━━━\u001b[0m \u001b[32m62.2/62.2 MB\u001b[0m \u001b[31m15.0 MB/s\u001b[0m eta \u001b[36m0:00:00\u001b[0m\n",
            "\u001b[2K   \u001b[90m━━━━━━━━━━━━━━━━━━━━━━━━━━━━━━━━━━━━━━━━\u001b[0m \u001b[32m757.9/757.9 kB\u001b[0m \u001b[31m40.2 MB/s\u001b[0m eta \u001b[36m0:00:00\u001b[0m\n",
            "\u001b[2K   \u001b[90m━━━━━━━━━━━━━━━━━━━━━━━━━━━━━━━━━━━━━━━━\u001b[0m \u001b[32m3.3/3.3 MB\u001b[0m \u001b[31m28.7 MB/s\u001b[0m eta \u001b[36m0:00:00\u001b[0m\n",
            "\u001b[2K   \u001b[90m━━━━━━━━━━━━━━━━━━━━━━━━━━━━━━━━━━━━━━━━\u001b[0m \u001b[32m313.6/313.6 kB\u001b[0m \u001b[31m23.9 MB/s\u001b[0m eta \u001b[36m0:00:00\u001b[0m\n",
            "\u001b[2K   \u001b[90m━━━━━━━━━━━━━━━━━━━━━━━━━━━━━━━━━━━━━━━━\u001b[0m \u001b[32m53.0/53.0 kB\u001b[0m \u001b[31m4.4 MB/s\u001b[0m eta \u001b[36m0:00:00\u001b[0m\n",
            "\u001b[2K   \u001b[90m━━━━━━━━━━━━━━━━━━━━━━━━━━━━━━━━━━━━━━━━\u001b[0m \u001b[32m4.5/4.5 MB\u001b[0m \u001b[31m39.0 MB/s\u001b[0m eta \u001b[36m0:00:00\u001b[0m\n",
            "\u001b[2K   \u001b[90m━━━━━━━━━━━━━━━━━━━━━━━━━━━━━━━━━━━━━━━━\u001b[0m \u001b[32m294.9/294.9 kB\u001b[0m \u001b[31m25.4 MB/s\u001b[0m eta \u001b[36m0:00:00\u001b[0m\n",
            "\u001b[2K   \u001b[90m━━━━━━━━━━━━━━━━━━━━━━━━━━━━━━━━━━━━━━━━\u001b[0m \u001b[32m6.9/6.9 MB\u001b[0m \u001b[31m33.3 MB/s\u001b[0m eta \u001b[36m0:00:00\u001b[0m\n",
            "\u001b[2K   \u001b[90m━━━━━━━━━━━━━━━━━━━━━━━━━━━━━━━━━━━━━━━━\u001b[0m \u001b[32m44.7/44.7 kB\u001b[0m \u001b[31m3.2 MB/s\u001b[0m eta \u001b[36m0:00:00\u001b[0m\n",
            "\u001b[2K   \u001b[90m━━━━━━━━━━━━━━━━━━━━━━━━━━━━━━━━━━━━━━━━\u001b[0m \u001b[32m79.1/79.1 kB\u001b[0m \u001b[31m5.2 MB/s\u001b[0m eta \u001b[36m0:00:00\u001b[0m\n",
            "\u001b[2K   \u001b[90m━━━━━━━━━━━━━━━━━━━━━━━━━━━━━━━━━━━━━━━━\u001b[0m \u001b[32m302.8/302.8 kB\u001b[0m \u001b[31m12.0 MB/s\u001b[0m eta \u001b[36m0:00:00\u001b[0m\n",
            "\u001b[?25h\u001b[31mERROR: pip's dependency resolver does not currently take into account all the packages that are installed. This behaviour is the source of the following dependency conflicts.\n",
            "sentence-transformers 4.1.0 requires transformers<5.0.0,>=4.41.0, which is not installed.\n",
            "peft 0.16.0 requires transformers, which is not installed.\n",
            "grpcio-status 1.71.2 requires protobuf<6.0dev,>=5.26.1, but you have protobuf 4.25.8 which is incompatible.\n",
            "dataproc-spark-connect 0.8.2 requires tqdm>=4.67, but you have tqdm 4.65.2 which is incompatible.\n",
            "google-cloud-bigquery 3.34.0 requires packaging>=24.2.0, but you have packaging 23.2 which is incompatible.\n",
            "db-dtypes 1.4.3 requires packaging>=24.2.0, but you have packaging 23.2 which is incompatible.\n",
            "sphinx 8.2.3 requires requests>=2.30.0, but you have requests 2.28.2 which is incompatible.\n",
            "ydf 0.13.0 requires protobuf<7.0.0,>=5.29.1, but you have protobuf 4.25.8 which is incompatible.\n",
            "yfinance 0.2.65 requires requests>=2.31, but you have requests 2.28.2 which is incompatible.\n",
            "tensorflow 2.18.0 requires numpy<2.1.0,>=1.26.0, but you have numpy 1.24.4 which is incompatible.\n",
            "thinc 8.3.6 requires numpy<3.0.0,>=2.0.0, but you have numpy 1.24.4 which is incompatible.\u001b[0m\u001b[31m\n",
            "\u001b[0m"
          ]
        }
      ],
      "source": [
        "!pip install --q -r requirements.txt"
      ]
    },
    {
      "cell_type": "code",
      "execution_count": 22,
      "metadata": {
        "id": "Ux-dltNYmCPA"
      },
      "outputs": [],
      "source": [
        "!cp /content/mmaction2/tools/data/kinetics/label_map_k400.txt /content/smart_traffic_detector"
      ]
    },
    {
      "cell_type": "markdown",
      "metadata": {
        "id": "y5SURyYbvkeB"
      },
      "source": [
        "## `4. Local Testing`"
      ]
    },
    {
      "cell_type": "markdown",
      "source": [
        "#### 1. Download Youtube Video"
      ],
      "metadata": {
        "id": "-zZemTpfCC43"
      }
    },
    {
      "cell_type": "code",
      "execution_count": 23,
      "metadata": {
        "colab": {
          "base_uri": "https://localhost:8080/"
        },
        "id": "ALbeDhSEQUAu",
        "outputId": "f220688b-5677-4a5a-b59e-420be2299a4d",
        "collapsed": true
      },
      "outputs": [
        {
          "output_type": "stream",
          "name": "stdout",
          "text": [
            "[youtube] Extracting URL: https://youtu.be/lBRWEeuuMpE?si=AKzynUYzr0CcVQCq\n",
            "[youtube] lBRWEeuuMpE: Downloading webpage\n",
            "[youtube] lBRWEeuuMpE: Downloading tv client config\n",
            "[youtube] lBRWEeuuMpE: Downloading player 69b31e11-main\n",
            "[youtube] lBRWEeuuMpE: Downloading tv player API JSON\n",
            "[youtube] lBRWEeuuMpE: Downloading ios player API JSON\n",
            "[youtube] lBRWEeuuMpE: Downloading m3u8 information\n",
            "[info] lBRWEeuuMpE: Downloading 1 format(s): 248+251\n",
            "[download] Destination: /content/smart_traffic_detector/test_video_2.f248.webm\n",
            "\u001b[K[download] 100% of    2.02MiB in \u001b[1;37m00:00:00\u001b[0m at \u001b[0;32m21.05MiB/s\u001b[0m\n",
            "[download] Destination: /content/smart_traffic_detector/test_video_2.f251.webm\n",
            "\u001b[K[download] 100% of  187.52KiB in \u001b[1;37m00:00:00\u001b[0m at \u001b[0;32m5.21MiB/s\u001b[0m\n",
            "[Merger] Merging formats into \"/content/smart_traffic_detector/test_video_2.webm\"\n",
            "Deleting original file /content/smart_traffic_detector/test_video_2.f251.webm (pass -k to keep)\n",
            "Deleting original file /content/smart_traffic_detector/test_video_2.f248.webm (pass -k to keep)\n"
          ]
        }
      ],
      "source": [
        "!yt-dlp \"https://youtu.be/lBRWEeuuMpE?si=AKzynUYzr0CcVQCq\" -o /content/smart_traffic_detector/test_video_2\n"
      ]
    },
    {
      "cell_type": "markdown",
      "source": [
        "#### 2. Local Inferencing"
      ],
      "metadata": {
        "id": "Z-ZhsEBrCKG_"
      }
    },
    {
      "cell_type": "code",
      "execution_count": 49,
      "metadata": {
        "colab": {
          "base_uri": "https://localhost:8080/"
        },
        "id": "uggZ-CMSFj2T",
        "outputId": "4438f5b0-4c3a-49dc-ebd0-845666eed149"
      },
      "outputs": [
        {
          "output_type": "stream",
          "name": "stdout",
          "text": [
            "error: XDG_RUNTIME_DIR not set in the environment.\n",
            "ALSA lib confmisc.c:855:(parse_card) cannot find card '0'\n",
            "ALSA lib conf.c:5178:(_snd_config_evaluate) function snd_func_card_inum returned error: No such file or directory\n",
            "ALSA lib confmisc.c:422:(snd_func_concat) error evaluating strings\n",
            "ALSA lib conf.c:5178:(_snd_config_evaluate) function snd_func_concat returned error: No such file or directory\n",
            "ALSA lib confmisc.c:1334:(snd_func_refer) error evaluating name\n",
            "ALSA lib conf.c:5178:(_snd_config_evaluate) function snd_func_refer returned error: No such file or directory\n",
            "ALSA lib conf.c:5701:(snd_config_expand) Evaluate error: No such file or directory\n",
            "ALSA lib pcm.c:2664:(snd_pcm_open_noupdate) Unknown PCM default\n",
            "ALSA lib confmisc.c:855:(parse_card) cannot find card '0'\n",
            "ALSA lib conf.c:5178:(_snd_config_evaluate) function snd_func_card_inum returned error: No such file or directory\n",
            "ALSA lib confmisc.c:422:(snd_func_concat) error evaluating strings\n",
            "ALSA lib conf.c:5178:(_snd_config_evaluate) function snd_func_concat returned error: No such file or directory\n",
            "ALSA lib confmisc.c:1334:(snd_func_refer) error evaluating name\n",
            "ALSA lib conf.c:5178:(_snd_config_evaluate) function snd_func_refer returned error: No such file or directory\n",
            "ALSA lib conf.c:5701:(snd_config_expand) Evaluate error: No such file or directory\n",
            "ALSA lib pcm.c:2664:(snd_pcm_open_noupdate) Unknown PCM default\n",
            "Loads checkpoint by local backend from path: /content/smart_traffic_detector/checkpoints/timesformer_spaceOnly_8xb8-8x32x1-15e_kinetics400-rgb_20220815-78f05367.pth\n",
            "Analyzing /content/smart_traffic_detector/clips/clip_0000.mp4 (start at 0s)...\n",
            "\n",
            "video 1/1 (1/300) /content/smart_traffic_detector/clips/clip_0000.mp4: 384x640 7 cars, 6 traffic lights, 1 fire hydrant, 110.4ms\n",
            "video 1/1 (2/300) /content/smart_traffic_detector/clips/clip_0000.mp4: 384x640 5 cars, 6 traffic lights, 1 fire hydrant, 7.3ms\n",
            "video 1/1 (3/300) /content/smart_traffic_detector/clips/clip_0000.mp4: 384x640 5 cars, 5 traffic lights, 1 fire hydrant, 6.9ms\n",
            "video 1/1 (4/300) /content/smart_traffic_detector/clips/clip_0000.mp4: 384x640 5 cars, 5 traffic lights, 1 fire hydrant, 7.0ms\n",
            "video 1/1 (5/300) /content/smart_traffic_detector/clips/clip_0000.mp4: 384x640 4 cars, 6 traffic lights, 1 fire hydrant, 6.9ms\n",
            "video 1/1 (6/300) /content/smart_traffic_detector/clips/clip_0000.mp4: 384x640 4 cars, 4 traffic lights, 1 fire hydrant, 6.7ms\n",
            "video 1/1 (7/300) /content/smart_traffic_detector/clips/clip_0000.mp4: 384x640 4 cars, 4 traffic lights, 1 fire hydrant, 7.0ms\n",
            "video 1/1 (8/300) /content/smart_traffic_detector/clips/clip_0000.mp4: 384x640 4 cars, 4 traffic lights, 1 fire hydrant, 6.5ms\n",
            "video 1/1 (9/300) /content/smart_traffic_detector/clips/clip_0000.mp4: 384x640 4 cars, 4 traffic lights, 1 fire hydrant, 6.5ms\n",
            "video 1/1 (10/300) /content/smart_traffic_detector/clips/clip_0000.mp4: 384x640 4 cars, 4 traffic lights, 1 fire hydrant, 7.8ms\n",
            "video 1/1 (11/300) /content/smart_traffic_detector/clips/clip_0000.mp4: 384x640 4 cars, 4 traffic lights, 1 fire hydrant, 6.6ms\n",
            "video 1/1 (12/300) /content/smart_traffic_detector/clips/clip_0000.mp4: 384x640 4 cars, 4 traffic lights, 1 fire hydrant, 6.4ms\n",
            "video 1/1 (13/300) /content/smart_traffic_detector/clips/clip_0000.mp4: 384x640 4 cars, 4 traffic lights, 1 fire hydrant, 6.5ms\n",
            "video 1/1 (14/300) /content/smart_traffic_detector/clips/clip_0000.mp4: 384x640 4 cars, 4 traffic lights, 1 fire hydrant, 7.0ms\n",
            "video 1/1 (15/300) /content/smart_traffic_detector/clips/clip_0000.mp4: 384x640 3 cars, 4 traffic lights, 1 fire hydrant, 6.5ms\n",
            "video 1/1 (16/300) /content/smart_traffic_detector/clips/clip_0000.mp4: 384x640 4 cars, 4 traffic lights, 1 fire hydrant, 6.3ms\n",
            "video 1/1 (17/300) /content/smart_traffic_detector/clips/clip_0000.mp4: 384x640 4 cars, 4 traffic lights, 1 fire hydrant, 6.9ms\n",
            "video 1/1 (18/300) /content/smart_traffic_detector/clips/clip_0000.mp4: 384x640 4 cars, 4 traffic lights, 1 fire hydrant, 8.1ms\n",
            "video 1/1 (19/300) /content/smart_traffic_detector/clips/clip_0000.mp4: 384x640 4 cars, 4 traffic lights, 1 fire hydrant, 6.1ms\n",
            "video 1/1 (20/300) /content/smart_traffic_detector/clips/clip_0000.mp4: 384x640 4 cars, 4 traffic lights, 1 fire hydrant, 7.7ms\n",
            "video 1/1 (21/300) /content/smart_traffic_detector/clips/clip_0000.mp4: 384x640 3 cars, 4 traffic lights, 1 fire hydrant, 6.3ms\n",
            "video 1/1 (22/300) /content/smart_traffic_detector/clips/clip_0000.mp4: 384x640 3 cars, 4 traffic lights, 1 fire hydrant, 6.4ms\n",
            "video 1/1 (23/300) /content/smart_traffic_detector/clips/clip_0000.mp4: 384x640 3 cars, 4 traffic lights, 1 fire hydrant, 6.6ms\n",
            "video 1/1 (24/300) /content/smart_traffic_detector/clips/clip_0000.mp4: 384x640 4 cars, 4 traffic lights, 1 fire hydrant, 8.3ms\n",
            "video 1/1 (25/300) /content/smart_traffic_detector/clips/clip_0000.mp4: 384x640 4 cars, 4 traffic lights, 1 fire hydrant, 6.4ms\n",
            "video 1/1 (26/300) /content/smart_traffic_detector/clips/clip_0000.mp4: 384x640 5 cars, 4 traffic lights, 1 fire hydrant, 6.7ms\n",
            "video 1/1 (27/300) /content/smart_traffic_detector/clips/clip_0000.mp4: 384x640 5 cars, 4 traffic lights, 1 fire hydrant, 6.4ms\n",
            "video 1/1 (28/300) /content/smart_traffic_detector/clips/clip_0000.mp4: 384x640 4 cars, 4 traffic lights, 1 fire hydrant, 6.3ms\n",
            "video 1/1 (29/300) /content/smart_traffic_detector/clips/clip_0000.mp4: 384x640 4 cars, 4 traffic lights, 1 fire hydrant, 6.6ms\n",
            "video 1/1 (30/300) /content/smart_traffic_detector/clips/clip_0000.mp4: 384x640 4 cars, 4 traffic lights, 1 fire hydrant, 6.2ms\n",
            "video 1/1 (31/300) /content/smart_traffic_detector/clips/clip_0000.mp4: 384x640 4 cars, 4 traffic lights, 1 fire hydrant, 6.5ms\n",
            "video 1/1 (32/300) /content/smart_traffic_detector/clips/clip_0000.mp4: 384x640 3 cars, 4 traffic lights, 1 fire hydrant, 8.6ms\n",
            "video 1/1 (33/300) /content/smart_traffic_detector/clips/clip_0000.mp4: 384x640 4 cars, 4 traffic lights, 1 fire hydrant, 6.2ms\n",
            "video 1/1 (34/300) /content/smart_traffic_detector/clips/clip_0000.mp4: 384x640 4 cars, 4 traffic lights, 1 fire hydrant, 6.2ms\n",
            "video 1/1 (35/300) /content/smart_traffic_detector/clips/clip_0000.mp4: 384x640 4 cars, 4 traffic lights, 1 fire hydrant, 6.5ms\n",
            "video 1/1 (36/300) /content/smart_traffic_detector/clips/clip_0000.mp4: 384x640 5 cars, 4 traffic lights, 1 fire hydrant, 6.2ms\n",
            "video 1/1 (37/300) /content/smart_traffic_detector/clips/clip_0000.mp4: 384x640 5 cars, 5 traffic lights, 1 fire hydrant, 6.3ms\n",
            "video 1/1 (38/300) /content/smart_traffic_detector/clips/clip_0000.mp4: 384x640 4 cars, 5 traffic lights, 1 fire hydrant, 6.4ms\n",
            "video 1/1 (39/300) /content/smart_traffic_detector/clips/clip_0000.mp4: 384x640 5 cars, 5 traffic lights, 6.4ms\n",
            "video 1/1 (40/300) /content/smart_traffic_detector/clips/clip_0000.mp4: 384x640 5 cars, 4 traffic lights, 6.5ms\n",
            "video 1/1 (41/300) /content/smart_traffic_detector/clips/clip_0000.mp4: 384x640 5 cars, 4 traffic lights, 7.0ms\n",
            "video 1/1 (42/300) /content/smart_traffic_detector/clips/clip_0000.mp4: 384x640 5 cars, 4 traffic lights, 6.2ms\n",
            "video 1/1 (43/300) /content/smart_traffic_detector/clips/clip_0000.mp4: 384x640 5 cars, 4 traffic lights, 1 fire hydrant, 13.2ms\n",
            "video 1/1 (44/300) /content/smart_traffic_detector/clips/clip_0000.mp4: 384x640 5 cars, 4 traffic lights, 1 fire hydrant, 11.8ms\n",
            "video 1/1 (45/300) /content/smart_traffic_detector/clips/clip_0000.mp4: 384x640 5 cars, 4 traffic lights, 1 fire hydrant, 6.6ms\n",
            "video 1/1 (46/300) /content/smart_traffic_detector/clips/clip_0000.mp4: 384x640 6 cars, 4 traffic lights, 1 fire hydrant, 6.6ms\n",
            "video 1/1 (47/300) /content/smart_traffic_detector/clips/clip_0000.mp4: 384x640 5 cars, 4 traffic lights, 1 fire hydrant, 6.3ms\n",
            "video 1/1 (48/300) /content/smart_traffic_detector/clips/clip_0000.mp4: 384x640 5 cars, 4 traffic lights, 1 fire hydrant, 6.3ms\n",
            "video 1/1 (49/300) /content/smart_traffic_detector/clips/clip_0000.mp4: 384x640 5 cars, 4 traffic lights, 1 fire hydrant, 6.3ms\n",
            "video 1/1 (50/300) /content/smart_traffic_detector/clips/clip_0000.mp4: 384x640 6 cars, 4 traffic lights, 1 fire hydrant, 6.1ms\n",
            "video 1/1 (51/300) /content/smart_traffic_detector/clips/clip_0000.mp4: 384x640 4 cars, 4 traffic lights, 1 fire hydrant, 6.2ms\n",
            "video 1/1 (52/300) /content/smart_traffic_detector/clips/clip_0000.mp4: 384x640 5 cars, 4 traffic lights, 1 fire hydrant, 6.4ms\n",
            "video 1/1 (53/300) /content/smart_traffic_detector/clips/clip_0000.mp4: 384x640 5 cars, 4 traffic lights, 1 fire hydrant, 6.3ms\n",
            "video 1/1 (54/300) /content/smart_traffic_detector/clips/clip_0000.mp4: 384x640 5 cars, 4 traffic lights, 1 fire hydrant, 6.5ms\n",
            "video 1/1 (55/300) /content/smart_traffic_detector/clips/clip_0000.mp4: 384x640 5 cars, 4 traffic lights, 1 fire hydrant, 6.4ms\n",
            "video 1/1 (56/300) /content/smart_traffic_detector/clips/clip_0000.mp4: 384x640 5 cars, 5 traffic lights, 1 fire hydrant, 6.1ms\n",
            "video 1/1 (57/300) /content/smart_traffic_detector/clips/clip_0000.mp4: 384x640 6 cars, 5 traffic lights, 1 fire hydrant, 6.1ms\n",
            "video 1/1 (58/300) /content/smart_traffic_detector/clips/clip_0000.mp4: 384x640 4 cars, 5 traffic lights, 1 fire hydrant, 6.6ms\n",
            "video 1/1 (59/300) /content/smart_traffic_detector/clips/clip_0000.mp4: 384x640 4 cars, 5 traffic lights, 1 fire hydrant, 6.2ms\n",
            "video 1/1 (60/300) /content/smart_traffic_detector/clips/clip_0000.mp4: 384x640 4 cars, 4 traffic lights, 1 fire hydrant, 215.8ms\n",
            "video 1/1 (61/300) /content/smart_traffic_detector/clips/clip_0000.mp4: 384x640 4 cars, 4 traffic lights, 1 fire hydrant, 6.7ms\n",
            "video 1/1 (62/300) /content/smart_traffic_detector/clips/clip_0000.mp4: 384x640 4 cars, 4 traffic lights, 1 fire hydrant, 6.8ms\n",
            "video 1/1 (63/300) /content/smart_traffic_detector/clips/clip_0000.mp4: 384x640 4 cars, 4 traffic lights, 1 fire hydrant, 7.6ms\n",
            "video 1/1 (64/300) /content/smart_traffic_detector/clips/clip_0000.mp4: 384x640 4 cars, 4 traffic lights, 1 fire hydrant, 6.9ms\n",
            "video 1/1 (65/300) /content/smart_traffic_detector/clips/clip_0000.mp4: 384x640 6 cars, 4 traffic lights, 1 fire hydrant, 7.0ms\n",
            "video 1/1 (66/300) /content/smart_traffic_detector/clips/clip_0000.mp4: 384x640 4 cars, 4 traffic lights, 6.2ms\n",
            "video 1/1 (67/300) /content/smart_traffic_detector/clips/clip_0000.mp4: 384x640 6 cars, 4 traffic lights, 1 fire hydrant, 6.4ms\n",
            "video 1/1 (68/300) /content/smart_traffic_detector/clips/clip_0000.mp4: 384x640 6 cars, 4 traffic lights, 1 fire hydrant, 6.1ms\n",
            "video 1/1 (69/300) /content/smart_traffic_detector/clips/clip_0000.mp4: 384x640 6 cars, 4 traffic lights, 1 fire hydrant, 6.3ms\n",
            "video 1/1 (70/300) /content/smart_traffic_detector/clips/clip_0000.mp4: 384x640 6 cars, 4 traffic lights, 1 fire hydrant, 6.2ms\n",
            "video 1/1 (71/300) /content/smart_traffic_detector/clips/clip_0000.mp4: 384x640 6 cars, 4 traffic lights, 1 fire hydrant, 6.4ms\n",
            "video 1/1 (72/300) /content/smart_traffic_detector/clips/clip_0000.mp4: 384x640 6 cars, 4 traffic lights, 1 fire hydrant, 6.1ms\n",
            "video 1/1 (73/300) /content/smart_traffic_detector/clips/clip_0000.mp4: 384x640 5 cars, 4 traffic lights, 1 fire hydrant, 6.1ms\n",
            "video 1/1 (74/300) /content/smart_traffic_detector/clips/clip_0000.mp4: 384x640 7 cars, 5 traffic lights, 1 fire hydrant, 6.0ms\n",
            "video 1/1 (75/300) /content/smart_traffic_detector/clips/clip_0000.mp4: 384x640 5 cars, 5 traffic lights, 1 fire hydrant, 6.0ms\n",
            "video 1/1 (76/300) /content/smart_traffic_detector/clips/clip_0000.mp4: 384x640 5 cars, 4 traffic lights, 1 fire hydrant, 5.9ms\n",
            "video 1/1 (77/300) /content/smart_traffic_detector/clips/clip_0000.mp4: 384x640 6 cars, 5 traffic lights, 1 fire hydrant, 6.2ms\n",
            "video 1/1 (78/300) /content/smart_traffic_detector/clips/clip_0000.mp4: 384x640 7 cars, 4 traffic lights, 1 fire hydrant, 9.7ms\n",
            "video 1/1 (79/300) /content/smart_traffic_detector/clips/clip_0000.mp4: 384x640 6 cars, 5 traffic lights, 1 fire hydrant, 7.8ms\n",
            "video 1/1 (80/300) /content/smart_traffic_detector/clips/clip_0000.mp4: 384x640 6 cars, 5 traffic lights, 1 fire hydrant, 6.5ms\n",
            "video 1/1 (81/300) /content/smart_traffic_detector/clips/clip_0000.mp4: 384x640 5 cars, 4 traffic lights, 1 fire hydrant, 6.3ms\n",
            "video 1/1 (82/300) /content/smart_traffic_detector/clips/clip_0000.mp4: 384x640 5 cars, 5 traffic lights, 1 fire hydrant, 6.3ms\n",
            "video 1/1 (83/300) /content/smart_traffic_detector/clips/clip_0000.mp4: 384x640 4 cars, 5 traffic lights, 1 fire hydrant, 6.4ms\n",
            "video 1/1 (84/300) /content/smart_traffic_detector/clips/clip_0000.mp4: 384x640 4 cars, 4 traffic lights, 1 fire hydrant, 7.1ms\n",
            "video 1/1 (85/300) /content/smart_traffic_detector/clips/clip_0000.mp4: 384x640 4 cars, 4 traffic lights, 1 fire hydrant, 6.3ms\n",
            "video 1/1 (86/300) /content/smart_traffic_detector/clips/clip_0000.mp4: 384x640 4 cars, 4 traffic lights, 1 fire hydrant, 6.8ms\n",
            "video 1/1 (87/300) /content/smart_traffic_detector/clips/clip_0000.mp4: 384x640 2 cars, 4 traffic lights, 1 fire hydrant, 6.2ms\n",
            "video 1/1 (88/300) /content/smart_traffic_detector/clips/clip_0000.mp4: 384x640 3 cars, 4 traffic lights, 1 fire hydrant, 6.5ms\n",
            "video 1/1 (89/300) /content/smart_traffic_detector/clips/clip_0000.mp4: 384x640 3 cars, 4 traffic lights, 1 fire hydrant, 6.3ms\n",
            "video 1/1 (90/300) /content/smart_traffic_detector/clips/clip_0000.mp4: 384x640 3 cars, 4 traffic lights, 1 fire hydrant, 6.1ms\n",
            "video 1/1 (91/300) /content/smart_traffic_detector/clips/clip_0000.mp4: 384x640 4 cars, 4 traffic lights, 1 fire hydrant, 6.8ms\n",
            "video 1/1 (92/300) /content/smart_traffic_detector/clips/clip_0000.mp4: 384x640 4 cars, 4 traffic lights, 1 fire hydrant, 6.4ms\n",
            "video 1/1 (93/300) /content/smart_traffic_detector/clips/clip_0000.mp4: 384x640 3 cars, 4 traffic lights, 1 fire hydrant, 6.7ms\n",
            "video 1/1 (94/300) /content/smart_traffic_detector/clips/clip_0000.mp4: 384x640 5 cars, 4 traffic lights, 1 fire hydrant, 6.8ms\n",
            "video 1/1 (95/300) /content/smart_traffic_detector/clips/clip_0000.mp4: 384x640 5 cars, 4 traffic lights, 1 fire hydrant, 6.1ms\n",
            "video 1/1 (96/300) /content/smart_traffic_detector/clips/clip_0000.mp4: 384x640 7 cars, 4 traffic lights, 1 fire hydrant, 6.7ms\n",
            "video 1/1 (97/300) /content/smart_traffic_detector/clips/clip_0000.mp4: 384x640 7 cars, 4 traffic lights, 1 fire hydrant, 6.4ms\n",
            "video 1/1 (98/300) /content/smart_traffic_detector/clips/clip_0000.mp4: 384x640 5 cars, 4 traffic lights, 1 fire hydrant, 10.9ms\n",
            "video 1/1 (99/300) /content/smart_traffic_detector/clips/clip_0000.mp4: 384x640 5 cars, 4 traffic lights, 1 fire hydrant, 11.5ms\n",
            "video 1/1 (100/300) /content/smart_traffic_detector/clips/clip_0000.mp4: 384x640 6 cars, 4 traffic lights, 1 fire hydrant, 6.3ms\n",
            "video 1/1 (101/300) /content/smart_traffic_detector/clips/clip_0000.mp4: 384x640 5 cars, 4 traffic lights, 1 fire hydrant, 6.4ms\n",
            "video 1/1 (102/300) /content/smart_traffic_detector/clips/clip_0000.mp4: 384x640 4 cars, 4 traffic lights, 1 fire hydrant, 6.2ms\n",
            "video 1/1 (103/300) /content/smart_traffic_detector/clips/clip_0000.mp4: 384x640 5 cars, 4 traffic lights, 1 fire hydrant, 6.3ms\n",
            "video 1/1 (104/300) /content/smart_traffic_detector/clips/clip_0000.mp4: 384x640 5 cars, 4 traffic lights, 1 fire hydrant, 6.0ms\n",
            "video 1/1 (105/300) /content/smart_traffic_detector/clips/clip_0000.mp4: 384x640 5 cars, 1 bus, 4 traffic lights, 1 fire hydrant, 6.1ms\n",
            "video 1/1 (106/300) /content/smart_traffic_detector/clips/clip_0000.mp4: 384x640 5 cars, 1 bus, 4 traffic lights, 1 fire hydrant, 5.7ms\n",
            "video 1/1 (107/300) /content/smart_traffic_detector/clips/clip_0000.mp4: 384x640 6 cars, 1 bus, 4 traffic lights, 1 fire hydrant, 5.9ms\n",
            "video 1/1 (108/300) /content/smart_traffic_detector/clips/clip_0000.mp4: 384x640 4 cars, 1 bus, 5 traffic lights, 1 fire hydrant, 5.8ms\n",
            "video 1/1 (109/300) /content/smart_traffic_detector/clips/clip_0000.mp4: 384x640 4 cars, 1 bus, 5 traffic lights, 1 fire hydrant, 5.9ms\n",
            "video 1/1 (110/300) /content/smart_traffic_detector/clips/clip_0000.mp4: 384x640 4 cars, 1 bus, 5 traffic lights, 1 fire hydrant, 6.0ms\n",
            "video 1/1 (111/300) /content/smart_traffic_detector/clips/clip_0000.mp4: 384x640 5 cars, 1 bus, 5 traffic lights, 1 fire hydrant, 8.0ms\n",
            "video 1/1 (112/300) /content/smart_traffic_detector/clips/clip_0000.mp4: 384x640 5 cars, 1 bus, 5 traffic lights, 1 fire hydrant, 6.9ms\n",
            "video 1/1 (113/300) /content/smart_traffic_detector/clips/clip_0000.mp4: 384x640 6 cars, 1 bus, 5 traffic lights, 1 fire hydrant, 6.7ms\n",
            "video 1/1 (114/300) /content/smart_traffic_detector/clips/clip_0000.mp4: 384x640 6 cars, 1 bus, 5 traffic lights, 1 fire hydrant, 6.4ms\n",
            "video 1/1 (115/300) /content/smart_traffic_detector/clips/clip_0000.mp4: 384x640 5 cars, 1 bus, 5 traffic lights, 1 fire hydrant, 6.1ms\n",
            "video 1/1 (116/300) /content/smart_traffic_detector/clips/clip_0000.mp4: 384x640 5 cars, 5 traffic lights, 1 fire hydrant, 7.5ms\n",
            "video 1/1 (117/300) /content/smart_traffic_detector/clips/clip_0000.mp4: 384x640 6 cars, 1 bus, 5 traffic lights, 1 fire hydrant, 7.0ms\n",
            "video 1/1 (118/300) /content/smart_traffic_detector/clips/clip_0000.mp4: 384x640 6 cars, 5 traffic lights, 1 fire hydrant, 6.2ms\n",
            "video 1/1 (119/300) /content/smart_traffic_detector/clips/clip_0000.mp4: 384x640 6 cars, 5 traffic lights, 1 fire hydrant, 6.4ms\n",
            "video 1/1 (120/300) /content/smart_traffic_detector/clips/clip_0000.mp4: 384x640 6 cars, 5 traffic lights, 1 fire hydrant, 6.2ms\n",
            "video 1/1 (121/300) /content/smart_traffic_detector/clips/clip_0000.mp4: 384x640 7 cars, 5 traffic lights, 1 fire hydrant, 6.1ms\n",
            "video 1/1 (122/300) /content/smart_traffic_detector/clips/clip_0000.mp4: 384x640 7 cars, 1 bus, 4 traffic lights, 1 fire hydrant, 6.2ms\n",
            "video 1/1 (123/300) /content/smart_traffic_detector/clips/clip_0000.mp4: 384x640 6 cars, 4 traffic lights, 1 fire hydrant, 6.1ms\n",
            "video 1/1 (124/300) /content/smart_traffic_detector/clips/clip_0000.mp4: 384x640 6 cars, 4 traffic lights, 1 fire hydrant, 6.3ms\n",
            "video 1/1 (125/300) /content/smart_traffic_detector/clips/clip_0000.mp4: 384x640 7 cars, 4 traffic lights, 1 fire hydrant, 6.4ms\n",
            "video 1/1 (126/300) /content/smart_traffic_detector/clips/clip_0000.mp4: 384x640 7 cars, 4 traffic lights, 1 fire hydrant, 6.3ms\n",
            "video 1/1 (127/300) /content/smart_traffic_detector/clips/clip_0000.mp4: 384x640 7 cars, 4 traffic lights, 1 fire hydrant, 6.2ms\n",
            "video 1/1 (128/300) /content/smart_traffic_detector/clips/clip_0000.mp4: 384x640 6 cars, 4 traffic lights, 1 fire hydrant, 7.0ms\n",
            "video 1/1 (129/300) /content/smart_traffic_detector/clips/clip_0000.mp4: 384x640 6 cars, 5 traffic lights, 1 fire hydrant, 8.0ms\n",
            "video 1/1 (130/300) /content/smart_traffic_detector/clips/clip_0000.mp4: 384x640 5 cars, 4 traffic lights, 1 fire hydrant, 6.5ms\n",
            "video 1/1 (131/300) /content/smart_traffic_detector/clips/clip_0000.mp4: 384x640 5 cars, 4 traffic lights, 1 fire hydrant, 5.9ms\n",
            "video 1/1 (132/300) /content/smart_traffic_detector/clips/clip_0000.mp4: 384x640 6 cars, 4 traffic lights, 1 fire hydrant, 6.3ms\n",
            "video 1/1 (133/300) /content/smart_traffic_detector/clips/clip_0000.mp4: 384x640 6 cars, 4 traffic lights, 1 fire hydrant, 6.3ms\n",
            "video 1/1 (134/300) /content/smart_traffic_detector/clips/clip_0000.mp4: 384x640 6 cars, 4 traffic lights, 1 fire hydrant, 6.2ms\n",
            "video 1/1 (135/300) /content/smart_traffic_detector/clips/clip_0000.mp4: 384x640 9 cars, 4 traffic lights, 1 fire hydrant, 6.3ms\n",
            "video 1/1 (136/300) /content/smart_traffic_detector/clips/clip_0000.mp4: 384x640 8 cars, 4 traffic lights, 1 fire hydrant, 6.2ms\n",
            "video 1/1 (137/300) /content/smart_traffic_detector/clips/clip_0000.mp4: 384x640 7 cars, 4 traffic lights, 1 fire hydrant, 7.0ms\n",
            "video 1/1 (138/300) /content/smart_traffic_detector/clips/clip_0000.mp4: 384x640 8 cars, 4 traffic lights, 1 fire hydrant, 5.8ms\n",
            "video 1/1 (139/300) /content/smart_traffic_detector/clips/clip_0000.mp4: 384x640 8 cars, 4 traffic lights, 1 fire hydrant, 6.0ms\n",
            "video 1/1 (140/300) /content/smart_traffic_detector/clips/clip_0000.mp4: 384x640 7 cars, 4 traffic lights, 1 fire hydrant, 5.9ms\n",
            "video 1/1 (141/300) /content/smart_traffic_detector/clips/clip_0000.mp4: 384x640 7 cars, 4 traffic lights, 1 fire hydrant, 6.3ms\n",
            "video 1/1 (142/300) /content/smart_traffic_detector/clips/clip_0000.mp4: 384x640 6 cars, 4 traffic lights, 1 fire hydrant, 5.9ms\n",
            "video 1/1 (143/300) /content/smart_traffic_detector/clips/clip_0000.mp4: 384x640 7 cars, 4 traffic lights, 1 fire hydrant, 6.1ms\n",
            "video 1/1 (144/300) /content/smart_traffic_detector/clips/clip_0000.mp4: 384x640 6 cars, 4 traffic lights, 1 fire hydrant, 5.9ms\n",
            "video 1/1 (145/300) /content/smart_traffic_detector/clips/clip_0000.mp4: 384x640 6 cars, 4 traffic lights, 1 fire hydrant, 5.8ms\n",
            "video 1/1 (146/300) /content/smart_traffic_detector/clips/clip_0000.mp4: 384x640 7 cars, 4 traffic lights, 1 fire hydrant, 6.0ms\n",
            "video 1/1 (147/300) /content/smart_traffic_detector/clips/clip_0000.mp4: 384x640 8 cars, 4 traffic lights, 1 fire hydrant, 6.4ms\n",
            "video 1/1 (148/300) /content/smart_traffic_detector/clips/clip_0000.mp4: 384x640 7 cars, 4 traffic lights, 1 fire hydrant, 6.3ms\n",
            "video 1/1 (149/300) /content/smart_traffic_detector/clips/clip_0000.mp4: 384x640 6 cars, 3 traffic lights, 1 fire hydrant, 6.3ms\n",
            "video 1/1 (150/300) /content/smart_traffic_detector/clips/clip_0000.mp4: 384x640 6 cars, 3 traffic lights, 1 fire hydrant, 6.1ms\n",
            "video 1/1 (151/300) /content/smart_traffic_detector/clips/clip_0000.mp4: 384x640 7 cars, 3 traffic lights, 1 fire hydrant, 5.8ms\n",
            "video 1/1 (152/300) /content/smart_traffic_detector/clips/clip_0000.mp4: 384x640 6 cars, 3 traffic lights, 1 fire hydrant, 7.9ms\n",
            "video 1/1 (153/300) /content/smart_traffic_detector/clips/clip_0000.mp4: 384x640 6 cars, 3 traffic lights, 1 fire hydrant, 7.3ms\n",
            "video 1/1 (154/300) /content/smart_traffic_detector/clips/clip_0000.mp4: 384x640 5 cars, 3 traffic lights, 1 fire hydrant, 6.2ms\n",
            "video 1/1 (155/300) /content/smart_traffic_detector/clips/clip_0000.mp4: 384x640 4 cars, 3 traffic lights, 1 fire hydrant, 6.2ms\n",
            "video 1/1 (156/300) /content/smart_traffic_detector/clips/clip_0000.mp4: 384x640 4 cars, 3 traffic lights, 1 fire hydrant, 6.1ms\n",
            "video 1/1 (157/300) /content/smart_traffic_detector/clips/clip_0000.mp4: 384x640 4 cars, 3 traffic lights, 1 fire hydrant, 6.3ms\n",
            "video 1/1 (158/300) /content/smart_traffic_detector/clips/clip_0000.mp4: 384x640 4 cars, 3 traffic lights, 1 fire hydrant, 6.4ms\n",
            "video 1/1 (159/300) /content/smart_traffic_detector/clips/clip_0000.mp4: 384x640 6 cars, 5 traffic lights, 1 fire hydrant, 6.2ms\n",
            "video 1/1 (160/300) /content/smart_traffic_detector/clips/clip_0000.mp4: 384x640 5 cars, 5 traffic lights, 1 fire hydrant, 7.6ms\n",
            "video 1/1 (161/300) /content/smart_traffic_detector/clips/clip_0000.mp4: 384x640 5 cars, 4 traffic lights, 1 fire hydrant, 6.2ms\n",
            "video 1/1 (162/300) /content/smart_traffic_detector/clips/clip_0000.mp4: 384x640 5 cars, 4 traffic lights, 1 fire hydrant, 6.2ms\n",
            "video 1/1 (163/300) /content/smart_traffic_detector/clips/clip_0000.mp4: 384x640 5 cars, 4 traffic lights, 1 fire hydrant, 6.8ms\n",
            "video 1/1 (164/300) /content/smart_traffic_detector/clips/clip_0000.mp4: 384x640 5 cars, 4 traffic lights, 1 fire hydrant, 6.4ms\n",
            "video 1/1 (165/300) /content/smart_traffic_detector/clips/clip_0000.mp4: 384x640 5 cars, 4 traffic lights, 1 fire hydrant, 6.7ms\n",
            "video 1/1 (166/300) /content/smart_traffic_detector/clips/clip_0000.mp4: 384x640 5 cars, 4 traffic lights, 1 fire hydrant, 6.3ms\n",
            "video 1/1 (167/300) /content/smart_traffic_detector/clips/clip_0000.mp4: 384x640 5 cars, 4 traffic lights, 1 fire hydrant, 6.1ms\n",
            "video 1/1 (168/300) /content/smart_traffic_detector/clips/clip_0000.mp4: 384x640 4 cars, 4 traffic lights, 1 fire hydrant, 11.2ms\n",
            "video 1/1 (169/300) /content/smart_traffic_detector/clips/clip_0000.mp4: 384x640 5 cars, 4 traffic lights, 1 fire hydrant, 6.7ms\n",
            "video 1/1 (170/300) /content/smart_traffic_detector/clips/clip_0000.mp4: 384x640 5 cars, 4 traffic lights, 1 fire hydrant, 6.6ms\n",
            "video 1/1 (171/300) /content/smart_traffic_detector/clips/clip_0000.mp4: 384x640 5 cars, 4 traffic lights, 1 fire hydrant, 6.6ms\n",
            "video 1/1 (172/300) /content/smart_traffic_detector/clips/clip_0000.mp4: 384x640 5 cars, 4 traffic lights, 1 fire hydrant, 6.1ms\n",
            "video 1/1 (173/300) /content/smart_traffic_detector/clips/clip_0000.mp4: 384x640 6 cars, 4 traffic lights, 1 fire hydrant, 6.7ms\n",
            "video 1/1 (174/300) /content/smart_traffic_detector/clips/clip_0000.mp4: 384x640 6 cars, 4 traffic lights, 1 fire hydrant, 6.2ms\n",
            "video 1/1 (175/300) /content/smart_traffic_detector/clips/clip_0000.mp4: 384x640 5 cars, 4 traffic lights, 1 fire hydrant, 6.2ms\n",
            "video 1/1 (176/300) /content/smart_traffic_detector/clips/clip_0000.mp4: 384x640 5 cars, 5 traffic lights, 1 fire hydrant, 6.1ms\n",
            "video 1/1 (177/300) /content/smart_traffic_detector/clips/clip_0000.mp4: 384x640 5 cars, 5 traffic lights, 1 fire hydrant, 6.2ms\n",
            "video 1/1 (178/300) /content/smart_traffic_detector/clips/clip_0000.mp4: 384x640 5 cars, 4 traffic lights, 1 fire hydrant, 6.2ms\n",
            "video 1/1 (179/300) /content/smart_traffic_detector/clips/clip_0000.mp4: 384x640 5 cars, 4 traffic lights, 1 fire hydrant, 7.3ms\n",
            "video 1/1 (180/300) /content/smart_traffic_detector/clips/clip_0000.mp4: 384x640 5 cars, 4 traffic lights, 1 fire hydrant, 6.3ms\n",
            "video 1/1 (181/300) /content/smart_traffic_detector/clips/clip_0000.mp4: 384x640 6 cars, 4 traffic lights, 1 fire hydrant, 6.1ms\n",
            "video 1/1 (182/300) /content/smart_traffic_detector/clips/clip_0000.mp4: 384x640 5 cars, 4 traffic lights, 1 fire hydrant, 6.2ms\n",
            "video 1/1 (183/300) /content/smart_traffic_detector/clips/clip_0000.mp4: 384x640 6 cars, 4 traffic lights, 1 fire hydrant, 7.7ms\n",
            "video 1/1 (184/300) /content/smart_traffic_detector/clips/clip_0000.mp4: 384x640 6 cars, 4 traffic lights, 1 fire hydrant, 6.4ms\n",
            "video 1/1 (185/300) /content/smart_traffic_detector/clips/clip_0000.mp4: 384x640 6 cars, 4 traffic lights, 1 fire hydrant, 6.8ms\n",
            "video 1/1 (186/300) /content/smart_traffic_detector/clips/clip_0000.mp4: 384x640 6 cars, 4 traffic lights, 1 fire hydrant, 6.2ms\n",
            "video 1/1 (187/300) /content/smart_traffic_detector/clips/clip_0000.mp4: 384x640 4 cars, 4 traffic lights, 1 fire hydrant, 6.8ms\n",
            "video 1/1 (188/300) /content/smart_traffic_detector/clips/clip_0000.mp4: 384x640 6 cars, 4 traffic lights, 1 fire hydrant, 6.2ms\n",
            "video 1/1 (189/300) /content/smart_traffic_detector/clips/clip_0000.mp4: 384x640 6 cars, 5 traffic lights, 1 fire hydrant, 6.1ms\n",
            "video 1/1 (190/300) /content/smart_traffic_detector/clips/clip_0000.mp4: 384x640 5 cars, 4 traffic lights, 1 fire hydrant, 6.2ms\n",
            "video 1/1 (191/300) /content/smart_traffic_detector/clips/clip_0000.mp4: 384x640 5 cars, 5 traffic lights, 1 fire hydrant, 6.4ms\n",
            "video 1/1 (192/300) /content/smart_traffic_detector/clips/clip_0000.mp4: 384x640 5 cars, 5 traffic lights, 1 fire hydrant, 6.0ms\n",
            "video 1/1 (193/300) /content/smart_traffic_detector/clips/clip_0000.mp4: 384x640 5 cars, 4 traffic lights, 1 fire hydrant, 6.0ms\n",
            "video 1/1 (194/300) /content/smart_traffic_detector/clips/clip_0000.mp4: 384x640 5 cars, 4 traffic lights, 1 fire hydrant, 5.8ms\n",
            "video 1/1 (195/300) /content/smart_traffic_detector/clips/clip_0000.mp4: 384x640 1 person, 5 cars, 4 traffic lights, 1 fire hydrant, 7.4ms\n",
            "video 1/1 (196/300) /content/smart_traffic_detector/clips/clip_0000.mp4: 384x640 1 person, 6 cars, 4 traffic lights, 1 fire hydrant, 6.2ms\n",
            "video 1/1 (197/300) /content/smart_traffic_detector/clips/clip_0000.mp4: 384x640 1 person, 6 cars, 4 traffic lights, 1 fire hydrant, 7.2ms\n",
            "video 1/1 (198/300) /content/smart_traffic_detector/clips/clip_0000.mp4: 384x640 6 cars, 4 traffic lights, 1 fire hydrant, 6.8ms\n",
            "video 1/1 (199/300) /content/smart_traffic_detector/clips/clip_0000.mp4: 384x640 6 cars, 5 traffic lights, 1 fire hydrant, 6.4ms\n",
            "video 1/1 (200/300) /content/smart_traffic_detector/clips/clip_0000.mp4: 384x640 6 cars, 4 traffic lights, 1 fire hydrant, 6.7ms\n",
            "video 1/1 (201/300) /content/smart_traffic_detector/clips/clip_0000.mp4: 384x640 1 person, 6 cars, 4 traffic lights, 1 fire hydrant, 6.0ms\n",
            "video 1/1 (202/300) /content/smart_traffic_detector/clips/clip_0000.mp4: 384x640 1 person, 6 cars, 4 traffic lights, 1 fire hydrant, 6.0ms\n",
            "video 1/1 (203/300) /content/smart_traffic_detector/clips/clip_0000.mp4: 384x640 1 person, 6 cars, 5 traffic lights, 1 fire hydrant, 6.8ms\n",
            "video 1/1 (204/300) /content/smart_traffic_detector/clips/clip_0000.mp4: 384x640 1 person, 6 cars, 5 traffic lights, 1 fire hydrant, 6.4ms\n",
            "video 1/1 (205/300) /content/smart_traffic_detector/clips/clip_0000.mp4: 384x640 1 person, 6 cars, 4 traffic lights, 1 fire hydrant, 10.0ms\n",
            "video 1/1 (206/300) /content/smart_traffic_detector/clips/clip_0000.mp4: 384x640 6 cars, 4 traffic lights, 1 fire hydrant, 7.8ms\n",
            "video 1/1 (207/300) /content/smart_traffic_detector/clips/clip_0000.mp4: 384x640 6 cars, 4 traffic lights, 1 fire hydrant, 6.0ms\n",
            "video 1/1 (208/300) /content/smart_traffic_detector/clips/clip_0000.mp4: 384x640 5 cars, 5 traffic lights, 1 fire hydrant, 6.1ms\n",
            "video 1/1 (209/300) /content/smart_traffic_detector/clips/clip_0000.mp4: 384x640 5 cars, 5 traffic lights, 1 fire hydrant, 5.9ms\n",
            "video 1/1 (210/300) /content/smart_traffic_detector/clips/clip_0000.mp4: 384x640 5 cars, 5 traffic lights, 1 fire hydrant, 6.3ms\n",
            "video 1/1 (211/300) /content/smart_traffic_detector/clips/clip_0000.mp4: 384x640 5 cars, 5 traffic lights, 1 fire hydrant, 6.3ms\n",
            "video 1/1 (212/300) /content/smart_traffic_detector/clips/clip_0000.mp4: 384x640 1 person, 6 cars, 5 traffic lights, 1 fire hydrant, 6.5ms\n",
            "video 1/1 (213/300) /content/smart_traffic_detector/clips/clip_0000.mp4: 384x640 1 person, 6 cars, 5 traffic lights, 1 fire hydrant, 6.1ms\n",
            "video 1/1 (214/300) /content/smart_traffic_detector/clips/clip_0000.mp4: 384x640 1 person, 5 cars, 5 traffic lights, 1 fire hydrant, 6.1ms\n",
            "video 1/1 (215/300) /content/smart_traffic_detector/clips/clip_0000.mp4: 384x640 1 person, 5 cars, 5 traffic lights, 1 fire hydrant, 6.2ms\n",
            "video 1/1 (216/300) /content/smart_traffic_detector/clips/clip_0000.mp4: 384x640 4 cars, 5 traffic lights, 1 fire hydrant, 6.2ms\n",
            "video 1/1 (217/300) /content/smart_traffic_detector/clips/clip_0000.mp4: 384x640 4 cars, 4 traffic lights, 1 fire hydrant, 6.1ms\n",
            "video 1/1 (218/300) /content/smart_traffic_detector/clips/clip_0000.mp4: 384x640 1 person, 4 cars, 4 traffic lights, 1 fire hydrant, 6.3ms\n",
            "video 1/1 (219/300) /content/smart_traffic_detector/clips/clip_0000.mp4: 384x640 4 cars, 4 traffic lights, 1 fire hydrant, 5.9ms\n",
            "video 1/1 (220/300) /content/smart_traffic_detector/clips/clip_0000.mp4: 384x640 4 cars, 4 traffic lights, 1 fire hydrant, 6.4ms\n",
            "video 1/1 (221/300) /content/smart_traffic_detector/clips/clip_0000.mp4: 384x640 4 cars, 4 traffic lights, 1 fire hydrant, 6.2ms\n",
            "video 1/1 (222/300) /content/smart_traffic_detector/clips/clip_0000.mp4: 384x640 4 cars, 4 traffic lights, 1 fire hydrant, 6.0ms\n",
            "video 1/1 (223/300) /content/smart_traffic_detector/clips/clip_0000.mp4: 384x640 4 cars, 4 traffic lights, 1 fire hydrant, 6.2ms\n",
            "video 1/1 (224/300) /content/smart_traffic_detector/clips/clip_0000.mp4: 384x640 4 cars, 5 traffic lights, 1 fire hydrant, 6.1ms\n",
            "video 1/1 (225/300) /content/smart_traffic_detector/clips/clip_0000.mp4: 384x640 5 cars, 5 traffic lights, 1 fire hydrant, 10.4ms\n",
            "video 1/1 (226/300) /content/smart_traffic_detector/clips/clip_0000.mp4: 384x640 6 cars, 5 traffic lights, 1 fire hydrant, 6.0ms\n",
            "video 1/1 (227/300) /content/smart_traffic_detector/clips/clip_0000.mp4: 384x640 5 cars, 5 traffic lights, 1 fire hydrant, 6.3ms\n",
            "video 1/1 (228/300) /content/smart_traffic_detector/clips/clip_0000.mp4: 384x640 5 cars, 5 traffic lights, 1 fire hydrant, 6.8ms\n",
            "video 1/1 (229/300) /content/smart_traffic_detector/clips/clip_0000.mp4: 384x640 5 cars, 5 traffic lights, 1 fire hydrant, 9.4ms\n",
            "video 1/1 (230/300) /content/smart_traffic_detector/clips/clip_0000.mp4: 384x640 5 cars, 6 traffic lights, 1 fire hydrant, 10.4ms\n",
            "video 1/1 (231/300) /content/smart_traffic_detector/clips/clip_0000.mp4: 384x640 6 cars, 5 traffic lights, 1 fire hydrant, 9.4ms\n",
            "video 1/1 (232/300) /content/smart_traffic_detector/clips/clip_0000.mp4: 384x640 5 cars, 5 traffic lights, 1 fire hydrant, 6.4ms\n",
            "video 1/1 (233/300) /content/smart_traffic_detector/clips/clip_0000.mp4: 384x640 5 cars, 5 traffic lights, 1 fire hydrant, 6.8ms\n",
            "video 1/1 (234/300) /content/smart_traffic_detector/clips/clip_0000.mp4: 384x640 5 cars, 5 traffic lights, 1 fire hydrant, 10.9ms\n",
            "video 1/1 (235/300) /content/smart_traffic_detector/clips/clip_0000.mp4: 384x640 5 cars, 5 traffic lights, 1 fire hydrant, 12.0ms\n",
            "video 1/1 (236/300) /content/smart_traffic_detector/clips/clip_0000.mp4: 384x640 5 cars, 5 traffic lights, 1 fire hydrant, 6.4ms\n",
            "video 1/1 (237/300) /content/smart_traffic_detector/clips/clip_0000.mp4: 384x640 5 cars, 5 traffic lights, 1 fire hydrant, 6.6ms\n",
            "video 1/1 (238/300) /content/smart_traffic_detector/clips/clip_0000.mp4: 384x640 5 cars, 5 traffic lights, 1 fire hydrant, 6.3ms\n",
            "video 1/1 (239/300) /content/smart_traffic_detector/clips/clip_0000.mp4: 384x640 5 cars, 5 traffic lights, 1 fire hydrant, 5.7ms\n",
            "video 1/1 (240/300) /content/smart_traffic_detector/clips/clip_0000.mp4: 384x640 6 cars, 5 traffic lights, 1 fire hydrant, 5.8ms\n",
            "video 1/1 (241/300) /content/smart_traffic_detector/clips/clip_0000.mp4: 384x640 6 cars, 5 traffic lights, 1 fire hydrant, 5.8ms\n",
            "video 1/1 (242/300) /content/smart_traffic_detector/clips/clip_0000.mp4: 384x640 6 cars, 5 traffic lights, 1 fire hydrant, 7.1ms\n",
            "video 1/1 (243/300) /content/smart_traffic_detector/clips/clip_0000.mp4: 384x640 5 cars, 5 traffic lights, 1 fire hydrant, 6.6ms\n",
            "video 1/1 (244/300) /content/smart_traffic_detector/clips/clip_0000.mp4: 384x640 6 cars, 5 traffic lights, 1 fire hydrant, 6.2ms\n",
            "video 1/1 (245/300) /content/smart_traffic_detector/clips/clip_0000.mp4: 384x640 6 cars, 5 traffic lights, 1 fire hydrant, 5.9ms\n",
            "video 1/1 (246/300) /content/smart_traffic_detector/clips/clip_0000.mp4: 384x640 6 cars, 5 traffic lights, 1 fire hydrant, 5.9ms\n",
            "video 1/1 (247/300) /content/smart_traffic_detector/clips/clip_0000.mp4: 384x640 7 cars, 5 traffic lights, 1 fire hydrant, 7.9ms\n",
            "video 1/1 (248/300) /content/smart_traffic_detector/clips/clip_0000.mp4: 384x640 7 cars, 5 traffic lights, 1 fire hydrant, 7.4ms\n",
            "video 1/1 (249/300) /content/smart_traffic_detector/clips/clip_0000.mp4: 384x640 7 cars, 5 traffic lights, 1 fire hydrant, 6.5ms\n",
            "video 1/1 (250/300) /content/smart_traffic_detector/clips/clip_0000.mp4: 384x640 7 cars, 4 traffic lights, 1 fire hydrant, 6.0ms\n",
            "video 1/1 (251/300) /content/smart_traffic_detector/clips/clip_0000.mp4: 384x640 7 cars, 3 traffic lights, 1 fire hydrant, 6.2ms\n",
            "video 1/1 (252/300) /content/smart_traffic_detector/clips/clip_0000.mp4: 384x640 7 cars, 3 traffic lights, 1 fire hydrant, 6.1ms\n",
            "video 1/1 (253/300) /content/smart_traffic_detector/clips/clip_0000.mp4: 384x640 5 cars, 4 traffic lights, 1 fire hydrant, 6.0ms\n",
            "video 1/1 (254/300) /content/smart_traffic_detector/clips/clip_0000.mp4: 384x640 5 cars, 4 traffic lights, 1 fire hydrant, 6.5ms\n",
            "video 1/1 (255/300) /content/smart_traffic_detector/clips/clip_0000.mp4: 384x640 6 cars, 4 traffic lights, 1 fire hydrant, 6.1ms\n",
            "video 1/1 (256/300) /content/smart_traffic_detector/clips/clip_0000.mp4: 384x640 6 cars, 4 traffic lights, 1 fire hydrant, 8.5ms\n",
            "video 1/1 (257/300) /content/smart_traffic_detector/clips/clip_0000.mp4: 384x640 6 cars, 4 traffic lights, 1 fire hydrant, 6.8ms\n",
            "video 1/1 (258/300) /content/smart_traffic_detector/clips/clip_0000.mp4: 384x640 5 cars, 4 traffic lights, 1 fire hydrant, 6.2ms\n",
            "video 1/1 (259/300) /content/smart_traffic_detector/clips/clip_0000.mp4: 384x640 4 cars, 5 traffic lights, 1 fire hydrant, 6.4ms\n",
            "video 1/1 (260/300) /content/smart_traffic_detector/clips/clip_0000.mp4: 384x640 4 cars, 5 traffic lights, 1 fire hydrant, 6.4ms\n",
            "video 1/1 (261/300) /content/smart_traffic_detector/clips/clip_0000.mp4: 384x640 5 cars, 5 traffic lights, 1 fire hydrant, 6.2ms\n",
            "video 1/1 (262/300) /content/smart_traffic_detector/clips/clip_0000.mp4: 384x640 3 cars, 5 traffic lights, 1 fire hydrant, 6.1ms\n",
            "video 1/1 (263/300) /content/smart_traffic_detector/clips/clip_0000.mp4: 384x640 3 cars, 5 traffic lights, 1 fire hydrant, 6.6ms\n",
            "video 1/1 (264/300) /content/smart_traffic_detector/clips/clip_0000.mp4: 384x640 4 cars, 4 traffic lights, 1 fire hydrant, 6.0ms\n",
            "video 1/1 (265/300) /content/smart_traffic_detector/clips/clip_0000.mp4: 384x640 4 cars, 4 traffic lights, 1 fire hydrant, 6.2ms\n",
            "video 1/1 (266/300) /content/smart_traffic_detector/clips/clip_0000.mp4: 384x640 3 cars, 4 traffic lights, 1 fire hydrant, 6.2ms\n",
            "video 1/1 (267/300) /content/smart_traffic_detector/clips/clip_0000.mp4: 384x640 3 cars, 4 traffic lights, 1 fire hydrant, 6.2ms\n",
            "video 1/1 (268/300) /content/smart_traffic_detector/clips/clip_0000.mp4: 384x640 3 cars, 4 traffic lights, 1 fire hydrant, 6.3ms\n",
            "video 1/1 (269/300) /content/smart_traffic_detector/clips/clip_0000.mp4: 384x640 3 cars, 5 traffic lights, 1 fire hydrant, 7.4ms\n",
            "video 1/1 (270/300) /content/smart_traffic_detector/clips/clip_0000.mp4: 384x640 2 cars, 5 traffic lights, 1 fire hydrant, 6.2ms\n",
            "video 1/1 (271/300) /content/smart_traffic_detector/clips/clip_0000.mp4: 384x640 2 cars, 5 traffic lights, 1 fire hydrant, 6.1ms\n",
            "video 1/1 (272/300) /content/smart_traffic_detector/clips/clip_0000.mp4: 384x640 2 cars, 5 traffic lights, 1 fire hydrant, 6.0ms\n",
            "video 1/1 (273/300) /content/smart_traffic_detector/clips/clip_0000.mp4: 384x640 2 cars, 5 traffic lights, 1 fire hydrant, 5.9ms\n",
            "video 1/1 (274/300) /content/smart_traffic_detector/clips/clip_0000.mp4: 384x640 2 cars, 5 traffic lights, 1 fire hydrant, 6.0ms\n",
            "video 1/1 (275/300) /content/smart_traffic_detector/clips/clip_0000.mp4: 384x640 2 cars, 5 traffic lights, 1 fire hydrant, 6.1ms\n",
            "video 1/1 (276/300) /content/smart_traffic_detector/clips/clip_0000.mp4: 384x640 2 cars, 5 traffic lights, 1 fire hydrant, 6.4ms\n",
            "video 1/1 (277/300) /content/smart_traffic_detector/clips/clip_0000.mp4: 384x640 3 cars, 5 traffic lights, 1 fire hydrant, 6.7ms\n",
            "video 1/1 (278/300) /content/smart_traffic_detector/clips/clip_0000.mp4: 384x640 3 cars, 5 traffic lights, 1 fire hydrant, 6.1ms\n",
            "video 1/1 (279/300) /content/smart_traffic_detector/clips/clip_0000.mp4: 384x640 4 cars, 5 traffic lights, 1 fire hydrant, 6.1ms\n",
            "video 1/1 (280/300) /content/smart_traffic_detector/clips/clip_0000.mp4: 384x640 2 cars, 5 traffic lights, 1 fire hydrant, 6.2ms\n",
            "video 1/1 (281/300) /content/smart_traffic_detector/clips/clip_0000.mp4: 384x640 2 cars, 5 traffic lights, 1 fire hydrant, 6.2ms\n",
            "video 1/1 (282/300) /content/smart_traffic_detector/clips/clip_0000.mp4: 384x640 2 cars, 5 traffic lights, 1 fire hydrant, 6.3ms\n",
            "video 1/1 (283/300) /content/smart_traffic_detector/clips/clip_0000.mp4: 384x640 2 cars, 5 traffic lights, 1 fire hydrant, 6.1ms\n",
            "video 1/1 (284/300) /content/smart_traffic_detector/clips/clip_0000.mp4: 384x640 2 cars, 5 traffic lights, 1 fire hydrant, 6.3ms\n",
            "video 1/1 (285/300) /content/smart_traffic_detector/clips/clip_0000.mp4: 384x640 2 cars, 5 traffic lights, 1 fire hydrant, 6.1ms\n",
            "video 1/1 (286/300) /content/smart_traffic_detector/clips/clip_0000.mp4: 384x640 3 cars, 5 traffic lights, 1 fire hydrant, 6.5ms\n",
            "video 1/1 (287/300) /content/smart_traffic_detector/clips/clip_0000.mp4: 384x640 3 cars, 5 traffic lights, 1 fire hydrant, 6.2ms\n",
            "video 1/1 (288/300) /content/smart_traffic_detector/clips/clip_0000.mp4: 384x640 2 cars, 5 traffic lights, 1 fire hydrant, 6.4ms\n",
            "video 1/1 (289/300) /content/smart_traffic_detector/clips/clip_0000.mp4: 384x640 2 cars, 5 traffic lights, 1 fire hydrant, 9.0ms\n",
            "video 1/1 (290/300) /content/smart_traffic_detector/clips/clip_0000.mp4: 384x640 2 cars, 4 traffic lights, 1 fire hydrant, 12.9ms\n",
            "video 1/1 (291/300) /content/smart_traffic_detector/clips/clip_0000.mp4: 384x640 4 cars, 4 traffic lights, 1 fire hydrant, 6.6ms\n",
            "video 1/1 (292/300) /content/smart_traffic_detector/clips/clip_0000.mp4: 384x640 4 cars, 5 traffic lights, 1 fire hydrant, 6.5ms\n",
            "video 1/1 (293/300) /content/smart_traffic_detector/clips/clip_0000.mp4: 384x640 4 cars, 5 traffic lights, 1 fire hydrant, 6.7ms\n",
            "video 1/1 (294/300) /content/smart_traffic_detector/clips/clip_0000.mp4: 384x640 4 cars, 4 traffic lights, 1 fire hydrant, 6.4ms\n",
            "video 1/1 (295/300) /content/smart_traffic_detector/clips/clip_0000.mp4: 384x640 3 cars, 4 traffic lights, 1 fire hydrant, 6.9ms\n",
            "video 1/1 (296/300) /content/smart_traffic_detector/clips/clip_0000.mp4: 384x640 3 cars, 4 traffic lights, 1 fire hydrant, 6.2ms\n",
            "video 1/1 (297/300) /content/smart_traffic_detector/clips/clip_0000.mp4: 384x640 2 cars, 4 traffic lights, 1 fire hydrant, 6.4ms\n",
            "video 1/1 (298/300) /content/smart_traffic_detector/clips/clip_0000.mp4: 384x640 2 cars, 4 traffic lights, 1 fire hydrant, 6.4ms\n",
            "video 1/1 (299/300) /content/smart_traffic_detector/clips/clip_0000.mp4: 384x640 2 cars, 4 traffic lights, 1 fire hydrant, 6.1ms\n",
            "video 1/1 (300/300) /content/smart_traffic_detector/clips/clip_0000.mp4: 384x640 3 cars, 4 traffic lights, 1 fire hydrant, 6.2ms\n",
            "Speed: 1.1ms preprocess, 7.7ms inference, 1.5ms postprocess per image at shape (1, 3, 384, 640)\n",
            "07/20 18:44:44 - mmengine - \u001b[5m\u001b[4m\u001b[33mWARNING\u001b[0m - \"FileClient\" will be deprecated in future. Please use io functions in https://mmengine.readthedocs.io/en/latest/api/fileio.html#file-io\n",
            "07/20 18:44:44 - mmengine - \u001b[5m\u001b[4m\u001b[33mWARNING\u001b[0m - \"HardDiskBackend\" is the alias of \"LocalBackend\" and the former will be deprecated in future.\n",
            "Analyzing /content/smart_traffic_detector/clips/clip_0010.mp4 (start at 10s)...\n",
            "\n",
            "video 1/1 (1/183) /content/smart_traffic_detector/clips/clip_0010.mp4: 384x640 3 cars, 4 traffic lights, 1 fire hydrant, 8.3ms\n",
            "video 1/1 (2/183) /content/smart_traffic_detector/clips/clip_0010.mp4: 384x640 3 cars, 4 traffic lights, 1 fire hydrant, 6.7ms\n",
            "video 1/1 (3/183) /content/smart_traffic_detector/clips/clip_0010.mp4: 384x640 3 cars, 4 traffic lights, 1 fire hydrant, 6.5ms\n",
            "video 1/1 (4/183) /content/smart_traffic_detector/clips/clip_0010.mp4: 384x640 3 cars, 4 traffic lights, 1 fire hydrant, 6.5ms\n",
            "video 1/1 (5/183) /content/smart_traffic_detector/clips/clip_0010.mp4: 384x640 3 cars, 4 traffic lights, 1 fire hydrant, 7.6ms\n",
            "video 1/1 (6/183) /content/smart_traffic_detector/clips/clip_0010.mp4: 384x640 2 cars, 4 traffic lights, 1 fire hydrant, 6.5ms\n",
            "video 1/1 (7/183) /content/smart_traffic_detector/clips/clip_0010.mp4: 384x640 3 cars, 4 traffic lights, 1 fire hydrant, 6.5ms\n",
            "video 1/1 (8/183) /content/smart_traffic_detector/clips/clip_0010.mp4: 384x640 4 cars, 4 traffic lights, 1 fire hydrant, 6.7ms\n",
            "video 1/1 (9/183) /content/smart_traffic_detector/clips/clip_0010.mp4: 384x640 3 cars, 4 traffic lights, 1 fire hydrant, 6.2ms\n",
            "video 1/1 (10/183) /content/smart_traffic_detector/clips/clip_0010.mp4: 384x640 3 cars, 4 traffic lights, 1 fire hydrant, 6.4ms\n",
            "video 1/1 (11/183) /content/smart_traffic_detector/clips/clip_0010.mp4: 384x640 3 cars, 4 traffic lights, 1 fire hydrant, 6.5ms\n",
            "video 1/1 (12/183) /content/smart_traffic_detector/clips/clip_0010.mp4: 384x640 3 cars, 4 traffic lights, 1 fire hydrant, 10.3ms\n",
            "video 1/1 (13/183) /content/smart_traffic_detector/clips/clip_0010.mp4: 384x640 3 cars, 5 traffic lights, 1 fire hydrant, 10.7ms\n",
            "video 1/1 (14/183) /content/smart_traffic_detector/clips/clip_0010.mp4: 384x640 4 cars, 5 traffic lights, 1 fire hydrant, 6.3ms\n",
            "video 1/1 (15/183) /content/smart_traffic_detector/clips/clip_0010.mp4: 384x640 4 cars, 4 traffic lights, 1 fire hydrant, 7.2ms\n",
            "video 1/1 (16/183) /content/smart_traffic_detector/clips/clip_0010.mp4: 384x640 3 cars, 4 traffic lights, 1 fire hydrant, 6.5ms\n",
            "video 1/1 (17/183) /content/smart_traffic_detector/clips/clip_0010.mp4: 384x640 3 cars, 4 traffic lights, 1 fire hydrant, 10.3ms\n",
            "video 1/1 (18/183) /content/smart_traffic_detector/clips/clip_0010.mp4: 384x640 4 cars, 4 traffic lights, 1 fire hydrant, 8.5ms\n",
            "video 1/1 (19/183) /content/smart_traffic_detector/clips/clip_0010.mp4: 384x640 4 cars, 4 traffic lights, 1 fire hydrant, 6.5ms\n",
            "video 1/1 (20/183) /content/smart_traffic_detector/clips/clip_0010.mp4: 384x640 4 cars, 5 traffic lights, 1 fire hydrant, 6.7ms\n",
            "video 1/1 (21/183) /content/smart_traffic_detector/clips/clip_0010.mp4: 384x640 5 cars, 4 traffic lights, 1 fire hydrant, 6.8ms\n",
            "video 1/1 (22/183) /content/smart_traffic_detector/clips/clip_0010.mp4: 384x640 5 cars, 4 traffic lights, 1 fire hydrant, 7.3ms\n",
            "video 1/1 (23/183) /content/smart_traffic_detector/clips/clip_0010.mp4: 384x640 3 cars, 4 traffic lights, 1 fire hydrant, 6.5ms\n",
            "video 1/1 (24/183) /content/smart_traffic_detector/clips/clip_0010.mp4: 384x640 3 cars, 4 traffic lights, 1 fire hydrant, 6.9ms\n",
            "video 1/1 (25/183) /content/smart_traffic_detector/clips/clip_0010.mp4: 384x640 3 cars, 4 traffic lights, 1 fire hydrant, 6.4ms\n",
            "video 1/1 (26/183) /content/smart_traffic_detector/clips/clip_0010.mp4: 384x640 4 cars, 4 traffic lights, 1 fire hydrant, 6.7ms\n",
            "video 1/1 (27/183) /content/smart_traffic_detector/clips/clip_0010.mp4: 384x640 4 cars, 4 traffic lights, 1 fire hydrant, 6.3ms\n",
            "video 1/1 (28/183) /content/smart_traffic_detector/clips/clip_0010.mp4: 384x640 4 cars, 4 traffic lights, 1 fire hydrant, 6.4ms\n",
            "video 1/1 (29/183) /content/smart_traffic_detector/clips/clip_0010.mp4: 384x640 4 cars, 4 traffic lights, 1 fire hydrant, 6.4ms\n",
            "video 1/1 (30/183) /content/smart_traffic_detector/clips/clip_0010.mp4: 384x640 4 cars, 4 traffic lights, 1 fire hydrant, 7.0ms\n",
            "video 1/1 (31/183) /content/smart_traffic_detector/clips/clip_0010.mp4: 384x640 4 cars, 4 traffic lights, 1 fire hydrant, 6.9ms\n",
            "video 1/1 (32/183) /content/smart_traffic_detector/clips/clip_0010.mp4: 384x640 5 cars, 4 traffic lights, 1 fire hydrant, 6.4ms\n",
            "video 1/1 (33/183) /content/smart_traffic_detector/clips/clip_0010.mp4: 384x640 5 cars, 4 traffic lights, 1 fire hydrant, 13.0ms\n",
            "video 1/1 (34/183) /content/smart_traffic_detector/clips/clip_0010.mp4: 384x640 4 cars, 4 traffic lights, 1 fire hydrant, 6.6ms\n",
            "video 1/1 (35/183) /content/smart_traffic_detector/clips/clip_0010.mp4: 384x640 5 cars, 4 traffic lights, 1 fire hydrant, 6.2ms\n",
            "video 1/1 (36/183) /content/smart_traffic_detector/clips/clip_0010.mp4: 384x640 5 cars, 4 traffic lights, 1 fire hydrant, 7.7ms\n",
            "video 1/1 (37/183) /content/smart_traffic_detector/clips/clip_0010.mp4: 384x640 6 cars, 4 traffic lights, 1 fire hydrant, 6.4ms\n",
            "video 1/1 (38/183) /content/smart_traffic_detector/clips/clip_0010.mp4: 384x640 5 cars, 4 traffic lights, 1 fire hydrant, 6.2ms\n",
            "video 1/1 (39/183) /content/smart_traffic_detector/clips/clip_0010.mp4: 384x640 5 cars, 4 traffic lights, 1 fire hydrant, 6.1ms\n",
            "video 1/1 (40/183) /content/smart_traffic_detector/clips/clip_0010.mp4: 384x640 6 cars, 4 traffic lights, 1 fire hydrant, 6.5ms\n",
            "video 1/1 (41/183) /content/smart_traffic_detector/clips/clip_0010.mp4: 384x640 5 cars, 4 traffic lights, 1 fire hydrant, 6.9ms\n",
            "video 1/1 (42/183) /content/smart_traffic_detector/clips/clip_0010.mp4: 384x640 4 cars, 4 traffic lights, 1 fire hydrant, 6.4ms\n",
            "video 1/1 (43/183) /content/smart_traffic_detector/clips/clip_0010.mp4: 384x640 4 cars, 4 traffic lights, 1 fire hydrant, 6.2ms\n",
            "video 1/1 (44/183) /content/smart_traffic_detector/clips/clip_0010.mp4: 384x640 3 cars, 4 traffic lights, 1 fire hydrant, 6.4ms\n",
            "video 1/1 (45/183) /content/smart_traffic_detector/clips/clip_0010.mp4: 384x640 4 cars, 4 traffic lights, 1 fire hydrant, 6.5ms\n",
            "video 1/1 (46/183) /content/smart_traffic_detector/clips/clip_0010.mp4: 384x640 3 cars, 4 traffic lights, 1 fire hydrant, 6.3ms\n",
            "video 1/1 (47/183) /content/smart_traffic_detector/clips/clip_0010.mp4: 384x640 4 cars, 4 traffic lights, 1 fire hydrant, 7.4ms\n",
            "video 1/1 (48/183) /content/smart_traffic_detector/clips/clip_0010.mp4: 384x640 4 cars, 4 traffic lights, 1 fire hydrant, 7.7ms\n",
            "video 1/1 (49/183) /content/smart_traffic_detector/clips/clip_0010.mp4: 384x640 4 cars, 4 traffic lights, 1 fire hydrant, 10.8ms\n",
            "video 1/1 (50/183) /content/smart_traffic_detector/clips/clip_0010.mp4: 384x640 4 cars, 4 traffic lights, 1 fire hydrant, 7.6ms\n",
            "video 1/1 (51/183) /content/smart_traffic_detector/clips/clip_0010.mp4: 384x640 6 cars, 4 traffic lights, 1 fire hydrant, 7.2ms\n",
            "video 1/1 (52/183) /content/smart_traffic_detector/clips/clip_0010.mp4: 384x640 4 cars, 4 traffic lights, 1 fire hydrant, 7.7ms\n",
            "video 1/1 (53/183) /content/smart_traffic_detector/clips/clip_0010.mp4: 384x640 6 cars, 4 traffic lights, 1 fire hydrant, 9.1ms\n",
            "video 1/1 (54/183) /content/smart_traffic_detector/clips/clip_0010.mp4: 384x640 3 cars, 4 traffic lights, 1 fire hydrant, 7.3ms\n",
            "video 1/1 (55/183) /content/smart_traffic_detector/clips/clip_0010.mp4: 384x640 3 cars, 4 traffic lights, 1 fire hydrant, 7.4ms\n",
            "video 1/1 (56/183) /content/smart_traffic_detector/clips/clip_0010.mp4: 384x640 2 cars, 4 traffic lights, 1 fire hydrant, 7.2ms\n",
            "video 1/1 (57/183) /content/smart_traffic_detector/clips/clip_0010.mp4: 384x640 2 cars, 4 traffic lights, 1 fire hydrant, 7.8ms\n",
            "video 1/1 (58/183) /content/smart_traffic_detector/clips/clip_0010.mp4: 384x640 4 cars, 4 traffic lights, 1 fire hydrant, 7.2ms\n",
            "video 1/1 (59/183) /content/smart_traffic_detector/clips/clip_0010.mp4: 384x640 5 cars, 4 traffic lights, 1 fire hydrant, 7.5ms\n",
            "video 1/1 (60/183) /content/smart_traffic_detector/clips/clip_0010.mp4: 384x640 3 cars, 4 traffic lights, 1 fire hydrant, 7.7ms\n",
            "video 1/1 (61/183) /content/smart_traffic_detector/clips/clip_0010.mp4: 384x640 3 cars, 4 traffic lights, 1 fire hydrant, 7.3ms\n",
            "video 1/1 (62/183) /content/smart_traffic_detector/clips/clip_0010.mp4: 384x640 5 cars, 5 traffic lights, 1 fire hydrant, 6.7ms\n",
            "video 1/1 (63/183) /content/smart_traffic_detector/clips/clip_0010.mp4: 384x640 5 cars, 5 traffic lights, 1 fire hydrant, 7.1ms\n",
            "video 1/1 (64/183) /content/smart_traffic_detector/clips/clip_0010.mp4: 384x640 5 cars, 5 traffic lights, 1 fire hydrant, 7.8ms\n",
            "video 1/1 (65/183) /content/smart_traffic_detector/clips/clip_0010.mp4: 384x640 4 cars, 5 traffic lights, 1 fire hydrant, 6.7ms\n",
            "video 1/1 (66/183) /content/smart_traffic_detector/clips/clip_0010.mp4: 384x640 4 cars, 5 traffic lights, 1 fire hydrant, 6.7ms\n",
            "video 1/1 (67/183) /content/smart_traffic_detector/clips/clip_0010.mp4: 384x640 5 cars, 5 traffic lights, 1 fire hydrant, 9.1ms\n",
            "video 1/1 (68/183) /content/smart_traffic_detector/clips/clip_0010.mp4: 384x640 4 cars, 5 traffic lights, 1 fire hydrant, 6.5ms\n",
            "video 1/1 (69/183) /content/smart_traffic_detector/clips/clip_0010.mp4: 384x640 4 cars, 5 traffic lights, 1 fire hydrant, 6.4ms\n",
            "video 1/1 (70/183) /content/smart_traffic_detector/clips/clip_0010.mp4: 384x640 4 cars, 5 traffic lights, 1 fire hydrant, 6.5ms\n",
            "video 1/1 (71/183) /content/smart_traffic_detector/clips/clip_0010.mp4: 384x640 4 cars, 5 traffic lights, 1 fire hydrant, 6.4ms\n",
            "video 1/1 (72/183) /content/smart_traffic_detector/clips/clip_0010.mp4: 384x640 4 cars, 5 traffic lights, 1 fire hydrant, 6.1ms\n",
            "video 1/1 (73/183) /content/smart_traffic_detector/clips/clip_0010.mp4: 384x640 5 cars, 5 traffic lights, 1 fire hydrant, 6.2ms\n",
            "video 1/1 (74/183) /content/smart_traffic_detector/clips/clip_0010.mp4: 384x640 5 cars, 5 traffic lights, 1 fire hydrant, 6.3ms\n",
            "video 1/1 (75/183) /content/smart_traffic_detector/clips/clip_0010.mp4: 384x640 6 cars, 5 traffic lights, 1 fire hydrant, 10.0ms\n",
            "video 1/1 (76/183) /content/smart_traffic_detector/clips/clip_0010.mp4: 384x640 6 cars, 5 traffic lights, 1 fire hydrant, 12.4ms\n",
            "video 1/1 (77/183) /content/smart_traffic_detector/clips/clip_0010.mp4: 384x640 6 cars, 5 traffic lights, 1 fire hydrant, 6.6ms\n",
            "video 1/1 (78/183) /content/smart_traffic_detector/clips/clip_0010.mp4: 384x640 6 cars, 5 traffic lights, 1 fire hydrant, 6.7ms\n",
            "video 1/1 (79/183) /content/smart_traffic_detector/clips/clip_0010.mp4: 384x640 5 cars, 5 traffic lights, 1 fire hydrant, 7.1ms\n",
            "video 1/1 (80/183) /content/smart_traffic_detector/clips/clip_0010.mp4: 384x640 4 cars, 5 traffic lights, 1 fire hydrant, 6.7ms\n",
            "video 1/1 (81/183) /content/smart_traffic_detector/clips/clip_0010.mp4: 384x640 4 cars, 5 traffic lights, 1 fire hydrant, 6.3ms\n",
            "video 1/1 (82/183) /content/smart_traffic_detector/clips/clip_0010.mp4: 384x640 4 cars, 4 traffic lights, 1 fire hydrant, 6.4ms\n",
            "video 1/1 (83/183) /content/smart_traffic_detector/clips/clip_0010.mp4: 384x640 5 cars, 4 traffic lights, 1 fire hydrant, 6.6ms\n",
            "video 1/1 (84/183) /content/smart_traffic_detector/clips/clip_0010.mp4: 384x640 1 person, 5 cars, 4 traffic lights, 1 fire hydrant, 6.8ms\n",
            "video 1/1 (85/183) /content/smart_traffic_detector/clips/clip_0010.mp4: 384x640 1 person, 5 cars, 4 traffic lights, 9.2ms\n",
            "video 1/1 (86/183) /content/smart_traffic_detector/clips/clip_0010.mp4: 384x640 6 cars, 4 traffic lights, 1 fire hydrant, 7.7ms\n",
            "video 1/1 (87/183) /content/smart_traffic_detector/clips/clip_0010.mp4: 384x640 6 cars, 4 traffic lights, 1 fire hydrant, 6.4ms\n",
            "video 1/1 (88/183) /content/smart_traffic_detector/clips/clip_0010.mp4: 384x640 6 cars, 4 traffic lights, 1 fire hydrant, 7.6ms\n",
            "video 1/1 (89/183) /content/smart_traffic_detector/clips/clip_0010.mp4: 384x640 6 cars, 4 traffic lights, 1 fire hydrant, 6.7ms\n",
            "video 1/1 (90/183) /content/smart_traffic_detector/clips/clip_0010.mp4: 384x640 6 cars, 4 traffic lights, 1 fire hydrant, 6.6ms\n",
            "video 1/1 (91/183) /content/smart_traffic_detector/clips/clip_0010.mp4: 384x640 6 cars, 4 traffic lights, 1 fire hydrant, 6.6ms\n",
            "video 1/1 (92/183) /content/smart_traffic_detector/clips/clip_0010.mp4: 384x640 7 cars, 4 traffic lights, 1 fire hydrant, 7.1ms\n",
            "video 1/1 (93/183) /content/smart_traffic_detector/clips/clip_0010.mp4: 384x640 9 cars, 4 traffic lights, 1 fire hydrant, 6.5ms\n",
            "video 1/1 (94/183) /content/smart_traffic_detector/clips/clip_0010.mp4: 384x640 8 cars, 4 traffic lights, 1 fire hydrant, 6.7ms\n",
            "video 1/1 (95/183) /content/smart_traffic_detector/clips/clip_0010.mp4: 384x640 7 cars, 4 traffic lights, 1 fire hydrant, 6.4ms\n",
            "video 1/1 (96/183) /content/smart_traffic_detector/clips/clip_0010.mp4: 384x640 6 cars, 4 traffic lights, 1 fire hydrant, 6.5ms\n",
            "video 1/1 (97/183) /content/smart_traffic_detector/clips/clip_0010.mp4: 384x640 6 cars, 4 traffic lights, 1 fire hydrant, 7.1ms\n",
            "video 1/1 (98/183) /content/smart_traffic_detector/clips/clip_0010.mp4: 384x640 7 cars, 4 traffic lights, 1 fire hydrant, 6.8ms\n",
            "video 1/1 (99/183) /content/smart_traffic_detector/clips/clip_0010.mp4: 384x640 7 cars, 4 traffic lights, 1 fire hydrant, 6.4ms\n",
            "video 1/1 (100/183) /content/smart_traffic_detector/clips/clip_0010.mp4: 384x640 7 cars, 4 traffic lights, 1 fire hydrant, 6.3ms\n",
            "video 1/1 (101/183) /content/smart_traffic_detector/clips/clip_0010.mp4: 384x640 10 cars, 4 traffic lights, 1 fire hydrant, 6.4ms\n",
            "video 1/1 (102/183) /content/smart_traffic_detector/clips/clip_0010.mp4: 384x640 8 cars, 4 traffic lights, 1 fire hydrant, 6.8ms\n",
            "video 1/1 (103/183) /content/smart_traffic_detector/clips/clip_0010.mp4: 384x640 9 cars, 4 traffic lights, 1 fire hydrant, 6.4ms\n",
            "video 1/1 (104/183) /content/smart_traffic_detector/clips/clip_0010.mp4: 384x640 8 cars, 4 traffic lights, 1 fire hydrant, 8.4ms\n",
            "video 1/1 (105/183) /content/smart_traffic_detector/clips/clip_0010.mp4: 384x640 7 cars, 4 traffic lights, 1 fire hydrant, 6.3ms\n",
            "video 1/1 (106/183) /content/smart_traffic_detector/clips/clip_0010.mp4: 384x640 8 cars, 4 traffic lights, 1 fire hydrant, 6.3ms\n",
            "video 1/1 (107/183) /content/smart_traffic_detector/clips/clip_0010.mp4: 384x640 8 cars, 4 traffic lights, 1 fire hydrant, 6.1ms\n",
            "video 1/1 (108/183) /content/smart_traffic_detector/clips/clip_0010.mp4: 384x640 8 cars, 4 traffic lights, 1 fire hydrant, 7.8ms\n",
            "video 1/1 (109/183) /content/smart_traffic_detector/clips/clip_0010.mp4: 384x640 6 cars, 4 traffic lights, 1 fire hydrant, 6.5ms\n",
            "video 1/1 (110/183) /content/smart_traffic_detector/clips/clip_0010.mp4: 384x640 7 cars, 4 traffic lights, 1 fire hydrant, 6.3ms\n",
            "video 1/1 (111/183) /content/smart_traffic_detector/clips/clip_0010.mp4: 384x640 6 cars, 4 traffic lights, 6.4ms\n",
            "video 1/1 (112/183) /content/smart_traffic_detector/clips/clip_0010.mp4: 384x640 6 cars, 4 traffic lights, 1 fire hydrant, 6.3ms\n",
            "video 1/1 (113/183) /content/smart_traffic_detector/clips/clip_0010.mp4: 384x640 6 cars, 4 traffic lights, 1 fire hydrant, 6.3ms\n",
            "video 1/1 (114/183) /content/smart_traffic_detector/clips/clip_0010.mp4: 384x640 7 cars, 4 traffic lights, 1 fire hydrant, 6.4ms\n",
            "video 1/1 (115/183) /content/smart_traffic_detector/clips/clip_0010.mp4: 384x640 8 cars, 4 traffic lights, 1 fire hydrant, 8.1ms\n",
            "video 1/1 (116/183) /content/smart_traffic_detector/clips/clip_0010.mp4: 384x640 7 cars, 4 traffic lights, 1 fire hydrant, 6.5ms\n",
            "video 1/1 (117/183) /content/smart_traffic_detector/clips/clip_0010.mp4: 384x640 7 cars, 4 traffic lights, 1 fire hydrant, 7.5ms\n",
            "video 1/1 (118/183) /content/smart_traffic_detector/clips/clip_0010.mp4: 384x640 7 cars, 4 traffic lights, 1 fire hydrant, 6.7ms\n",
            "video 1/1 (119/183) /content/smart_traffic_detector/clips/clip_0010.mp4: 384x640 7 cars, 4 traffic lights, 1 fire hydrant, 6.6ms\n",
            "video 1/1 (120/183) /content/smart_traffic_detector/clips/clip_0010.mp4: 384x640 7 cars, 4 traffic lights, 1 fire hydrant, 6.5ms\n",
            "video 1/1 (121/183) /content/smart_traffic_detector/clips/clip_0010.mp4: 384x640 7 cars, 4 traffic lights, 1 fire hydrant, 6.2ms\n",
            "video 1/1 (122/183) /content/smart_traffic_detector/clips/clip_0010.mp4: 384x640 7 cars, 4 traffic lights, 1 fire hydrant, 6.6ms\n",
            "video 1/1 (123/183) /content/smart_traffic_detector/clips/clip_0010.mp4: 384x640 7 cars, 4 traffic lights, 1 fire hydrant, 6.4ms\n",
            "video 1/1 (124/183) /content/smart_traffic_detector/clips/clip_0010.mp4: 384x640 7 cars, 4 traffic lights, 1 fire hydrant, 6.6ms\n",
            "video 1/1 (125/183) /content/smart_traffic_detector/clips/clip_0010.mp4: 384x640 7 cars, 4 traffic lights, 1 fire hydrant, 6.5ms\n",
            "video 1/1 (126/183) /content/smart_traffic_detector/clips/clip_0010.mp4: 384x640 7 cars, 4 traffic lights, 1 fire hydrant, 6.5ms\n",
            "video 1/1 (127/183) /content/smart_traffic_detector/clips/clip_0010.mp4: 384x640 9 cars, 4 traffic lights, 1 fire hydrant, 6.4ms\n",
            "video 1/1 (128/183) /content/smart_traffic_detector/clips/clip_0010.mp4: 384x640 8 cars, 4 traffic lights, 1 fire hydrant, 6.2ms\n",
            "video 1/1 (129/183) /content/smart_traffic_detector/clips/clip_0010.mp4: 384x640 7 cars, 4 traffic lights, 1 fire hydrant, 6.3ms\n",
            "video 1/1 (130/183) /content/smart_traffic_detector/clips/clip_0010.mp4: 384x640 8 cars, 4 traffic lights, 1 fire hydrant, 6.8ms\n",
            "video 1/1 (131/183) /content/smart_traffic_detector/clips/clip_0010.mp4: 384x640 6 cars, 4 traffic lights, 1 fire hydrant, 8.9ms\n",
            "video 1/1 (132/183) /content/smart_traffic_detector/clips/clip_0010.mp4: 384x640 7 cars, 4 traffic lights, 1 fire hydrant, 6.9ms\n",
            "video 1/1 (133/183) /content/smart_traffic_detector/clips/clip_0010.mp4: 384x640 7 cars, 4 traffic lights, 1 fire hydrant, 6.2ms\n",
            "video 1/1 (134/183) /content/smart_traffic_detector/clips/clip_0010.mp4: 384x640 7 cars, 4 traffic lights, 1 fire hydrant, 6.5ms\n",
            "video 1/1 (135/183) /content/smart_traffic_detector/clips/clip_0010.mp4: 384x640 6 cars, 4 traffic lights, 1 fire hydrant, 6.2ms\n",
            "video 1/1 (136/183) /content/smart_traffic_detector/clips/clip_0010.mp4: 384x640 6 cars, 4 traffic lights, 1 fire hydrant, 6.4ms\n",
            "video 1/1 (137/183) /content/smart_traffic_detector/clips/clip_0010.mp4: 384x640 6 cars, 4 traffic lights, 1 fire hydrant, 6.5ms\n",
            "video 1/1 (138/183) /content/smart_traffic_detector/clips/clip_0010.mp4: 384x640 5 cars, 4 traffic lights, 1 fire hydrant, 6.8ms\n",
            "video 1/1 (139/183) /content/smart_traffic_detector/clips/clip_0010.mp4: 384x640 6 cars, 4 traffic lights, 1 fire hydrant, 6.5ms\n",
            "video 1/1 (140/183) /content/smart_traffic_detector/clips/clip_0010.mp4: 384x640 5 cars, 4 traffic lights, 1 fire hydrant, 7.5ms\n",
            "video 1/1 (141/183) /content/smart_traffic_detector/clips/clip_0010.mp4: 384x640 5 cars, 4 traffic lights, 1 fire hydrant, 7.0ms\n",
            "video 1/1 (142/183) /content/smart_traffic_detector/clips/clip_0010.mp4: 384x640 5 cars, 4 traffic lights, 1 fire hydrant, 10.9ms\n",
            "video 1/1 (143/183) /content/smart_traffic_detector/clips/clip_0010.mp4: 384x640 5 cars, 4 traffic lights, 1 fire hydrant, 8.6ms\n",
            "video 1/1 (144/183) /content/smart_traffic_detector/clips/clip_0010.mp4: 384x640 5 cars, 4 traffic lights, 1 fire hydrant, 6.9ms\n",
            "video 1/1 (145/183) /content/smart_traffic_detector/clips/clip_0010.mp4: 384x640 5 cars, 4 traffic lights, 1 fire hydrant, 6.4ms\n",
            "video 1/1 (146/183) /content/smart_traffic_detector/clips/clip_0010.mp4: 384x640 5 cars, 4 traffic lights, 1 fire hydrant, 6.5ms\n",
            "video 1/1 (147/183) /content/smart_traffic_detector/clips/clip_0010.mp4: 384x640 4 cars, 4 traffic lights, 1 fire hydrant, 6.5ms\n",
            "video 1/1 (148/183) /content/smart_traffic_detector/clips/clip_0010.mp4: 384x640 4 cars, 4 traffic lights, 1 fire hydrant, 6.5ms\n",
            "video 1/1 (149/183) /content/smart_traffic_detector/clips/clip_0010.mp4: 384x640 4 cars, 4 traffic lights, 1 fire hydrant, 9.3ms\n",
            "video 1/1 (150/183) /content/smart_traffic_detector/clips/clip_0010.mp4: 384x640 4 cars, 4 traffic lights, 1 fire hydrant, 6.5ms\n",
            "video 1/1 (151/183) /content/smart_traffic_detector/clips/clip_0010.mp4: 384x640 4 cars, 4 traffic lights, 1 fire hydrant, 6.5ms\n",
            "video 1/1 (152/183) /content/smart_traffic_detector/clips/clip_0010.mp4: 384x640 4 cars, 4 traffic lights, 1 fire hydrant, 6.5ms\n",
            "video 1/1 (153/183) /content/smart_traffic_detector/clips/clip_0010.mp4: 384x640 4 cars, 4 traffic lights, 1 fire hydrant, 6.4ms\n",
            "video 1/1 (154/183) /content/smart_traffic_detector/clips/clip_0010.mp4: 384x640 4 cars, 4 traffic lights, 1 fire hydrant, 6.7ms\n",
            "video 1/1 (155/183) /content/smart_traffic_detector/clips/clip_0010.mp4: 384x640 4 cars, 4 traffic lights, 1 fire hydrant, 6.4ms\n",
            "video 1/1 (156/183) /content/smart_traffic_detector/clips/clip_0010.mp4: 384x640 4 cars, 4 traffic lights, 1 fire hydrant, 8.4ms\n",
            "video 1/1 (157/183) /content/smart_traffic_detector/clips/clip_0010.mp4: 384x640 4 cars, 4 traffic lights, 1 fire hydrant, 6.3ms\n",
            "video 1/1 (158/183) /content/smart_traffic_detector/clips/clip_0010.mp4: 384x640 4 cars, 4 traffic lights, 1 fire hydrant, 6.2ms\n",
            "video 1/1 (159/183) /content/smart_traffic_detector/clips/clip_0010.mp4: 384x640 4 cars, 4 traffic lights, 1 fire hydrant, 6.3ms\n",
            "video 1/1 (160/183) /content/smart_traffic_detector/clips/clip_0010.mp4: 384x640 4 cars, 4 traffic lights, 1 fire hydrant, 6.0ms\n",
            "video 1/1 (161/183) /content/smart_traffic_detector/clips/clip_0010.mp4: 384x640 4 cars, 4 traffic lights, 1 fire hydrant, 6.1ms\n",
            "video 1/1 (162/183) /content/smart_traffic_detector/clips/clip_0010.mp4: 384x640 4 cars, 4 traffic lights, 1 fire hydrant, 6.2ms\n",
            "video 1/1 (163/183) /content/smart_traffic_detector/clips/clip_0010.mp4: 384x640 5 cars, 4 traffic lights, 1 fire hydrant, 11.1ms\n",
            "video 1/1 (164/183) /content/smart_traffic_detector/clips/clip_0010.mp4: 384x640 4 cars, 4 traffic lights, 1 fire hydrant, 6.1ms\n",
            "video 1/1 (165/183) /content/smart_traffic_detector/clips/clip_0010.mp4: 384x640 4 cars, 4 traffic lights, 1 fire hydrant, 6.5ms\n",
            "video 1/1 (166/183) /content/smart_traffic_detector/clips/clip_0010.mp4: 384x640 4 cars, 4 traffic lights, 1 fire hydrant, 6.1ms\n",
            "video 1/1 (167/183) /content/smart_traffic_detector/clips/clip_0010.mp4: 384x640 5 cars, 4 traffic lights, 1 fire hydrant, 6.1ms\n",
            "video 1/1 (168/183) /content/smart_traffic_detector/clips/clip_0010.mp4: 384x640 6 cars, 4 traffic lights, 1 fire hydrant, 6.2ms\n",
            "video 1/1 (169/183) /content/smart_traffic_detector/clips/clip_0010.mp4: 384x640 4 cars, 4 traffic lights, 1 fire hydrant, 7.2ms\n",
            "video 1/1 (170/183) /content/smart_traffic_detector/clips/clip_0010.mp4: 384x640 4 cars, 4 traffic lights, 1 fire hydrant, 6.4ms\n",
            "video 1/1 (171/183) /content/smart_traffic_detector/clips/clip_0010.mp4: 384x640 4 cars, 4 traffic lights, 1 fire hydrant, 6.9ms\n",
            "video 1/1 (172/183) /content/smart_traffic_detector/clips/clip_0010.mp4: 384x640 5 cars, 4 traffic lights, 1 fire hydrant, 6.3ms\n",
            "video 1/1 (173/183) /content/smart_traffic_detector/clips/clip_0010.mp4: 384x640 4 cars, 4 traffic lights, 1 fire hydrant, 8.1ms\n",
            "video 1/1 (174/183) /content/smart_traffic_detector/clips/clip_0010.mp4: 384x640 4 cars, 4 traffic lights, 1 fire hydrant, 7.7ms\n",
            "video 1/1 (175/183) /content/smart_traffic_detector/clips/clip_0010.mp4: 384x640 4 cars, 4 traffic lights, 1 fire hydrant, 7.2ms\n",
            "video 1/1 (176/183) /content/smart_traffic_detector/clips/clip_0010.mp4: 384x640 4 cars, 4 traffic lights, 1 fire hydrant, 7.4ms\n",
            "video 1/1 (177/183) /content/smart_traffic_detector/clips/clip_0010.mp4: 384x640 4 cars, 4 traffic lights, 1 fire hydrant, 6.8ms\n",
            "video 1/1 (178/183) /content/smart_traffic_detector/clips/clip_0010.mp4: 384x640 4 cars, 4 traffic lights, 1 fire hydrant, 6.1ms\n",
            "video 1/1 (179/183) /content/smart_traffic_detector/clips/clip_0010.mp4: 384x640 4 cars, 4 traffic lights, 1 fire hydrant, 6.3ms\n",
            "video 1/1 (180/183) /content/smart_traffic_detector/clips/clip_0010.mp4: 384x640 4 cars, 4 traffic lights, 1 fire hydrant, 6.5ms\n",
            "video 1/1 (181/183) /content/smart_traffic_detector/clips/clip_0010.mp4: 384x640 4 cars, 4 traffic lights, 1 fire hydrant, 6.4ms\n",
            "video 1/1 (182/183) /content/smart_traffic_detector/clips/clip_0010.mp4: 384x640 4 cars, 4 traffic lights, 1 fire hydrant, 9.5ms\n",
            "video 1/1 (183/183) /content/smart_traffic_detector/clips/clip_0010.mp4: 384x640 4 cars, 4 traffic lights, 1 fire hydrant, 6.1ms\n",
            "Speed: 1.2ms preprocess, 7.0ms inference, 1.2ms postprocess per image at shape (1, 3, 384, 640)\n",
            "Analysis saved: /content/smart_traffic_detector/analysed_results.json\n",
            "🚨 RED LIGHT VIOLATION Detected.\n",
            "⚠️ Action 'motorcycling' below threshold: 0.14 < 0.25\n",
            "⚠️ Action 'riding a bike' below threshold: 0.09 < 0.25\n",
            "🚨 RED LIGHT VIOLATION Detected.\n",
            "⚠️ Action 'motorcycling' below threshold: 0.13 < 0.25\n",
            "⚠️ Action 'riding a bike' below threshold: 0.07 < 0.25\n",
            "Saving violation clip as: /content/smart_traffic_detector/clips/red_light_violation_clip_0000.mp4\n",
            "Extracting from 0.00s to 5.00s (clip is 10.01s long)\n",
            "Moviepy - Building video /content/smart_traffic_detector/clips/red_light_violation_clip_0000.mp4.\n",
            "MoviePy - Writing audio in red_light_violation_clip_0000TEMP_MPY_wvf_snd.mp4\n",
            "MoviePy - Done.\n",
            "Moviepy - Writing video /content/smart_traffic_detector/clips/red_light_violation_clip_0000.mp4\n",
            "\n",
            "Moviepy - Done !\n",
            "Moviepy - video ready /content/smart_traffic_detector/clips/red_light_violation_clip_0000.mp4\n",
            "Saving violation clip as: /content/smart_traffic_detector/clips/red_light_violation_clip_0010.mp4\n",
            "Extracting from 1.23s to 6.23s (clip is 6.23s long)\n",
            "Moviepy - Building video /content/smart_traffic_detector/clips/red_light_violation_clip_0010.mp4.\n",
            "MoviePy - Writing audio in red_light_violation_clip_0010TEMP_MPY_wvf_snd.mp4\n",
            "MoviePy - Done.\n",
            "Moviepy - Writing video /content/smart_traffic_detector/clips/red_light_violation_clip_0010.mp4\n",
            "\n",
            "Moviepy - Done !\n",
            "Moviepy - video ready /content/smart_traffic_detector/clips/red_light_violation_clip_0010.mp4\n",
            "Violation log saved: /content/smart_traffic_detector/violations/violation_log.json\n",
            "Pipeline complete.\n"
          ]
        }
      ],
      "source": [
        "\n",
        " !python /content/smart_traffic_detector/main/main_app.py  --video /content/smart_traffic_detector/test_video_2.webm"
      ]
    },
    {
      "cell_type": "code",
      "source": [],
      "metadata": {
        "id": "EdVRb5_Q1aWF"
      },
      "execution_count": null,
      "outputs": []
    },
    {
      "cell_type": "code",
      "source": [],
      "metadata": {
        "id": "ST8Pom1X1alZ"
      },
      "execution_count": null,
      "outputs": []
    },
    {
      "cell_type": "markdown",
      "source": [
        "#  ***Frontend Setup***"
      ],
      "metadata": {
        "id": "f07luw5mH3aO"
      }
    },
    {
      "cell_type": "markdown",
      "source": [
        "#### 1. Get Local tunnel Password"
      ],
      "metadata": {
        "id": "EtAZFU5HGUHg"
      }
    },
    {
      "cell_type": "code",
      "execution_count": 50,
      "metadata": {
        "id": "VDnWgmS1k2To",
        "colab": {
          "base_uri": "https://localhost:8080/"
        },
        "outputId": "3fd71afd-6668-4654-e941-2a80764ba7f2"
      },
      "outputs": [
        {
          "output_type": "stream",
          "name": "stdout",
          "text": [
            "34.126.88.169"
          ]
        }
      ],
      "source": [
        "!curl ifconfig.me"
      ]
    },
    {
      "cell_type": "markdown",
      "source": [
        "#### 2. Deploy Streamlit Prototype"
      ],
      "metadata": {
        "id": "snqazxVdGhnQ"
      }
    },
    {
      "cell_type": "code",
      "execution_count": null,
      "metadata": {
        "id": "EIQioFGIsgD8",
        "collapsed": true,
        "colab": {
          "base_uri": "https://localhost:8080/"
        },
        "outputId": "c63be4f6-c186-4051-c983-64ca3c5ae012"
      },
      "outputs": [
        {
          "output_type": "stream",
          "name": "stdout",
          "text": [
            "\u001b[1G\u001b[0K⠙\u001b[1G\u001b[0K⠹\u001b[1G\u001b[0K⠸\u001b[1G\u001b[0K⠼\u001b[1G\u001b[0K⠴\u001b[1G\u001b[0K⠦\u001b[1G\u001b[0K⠧\u001b[1G\u001b[0K⠇Usage: streamlit run [OPTIONS] TARGET [ARGS]...\n",
            "Try 'streamlit run --help' for help.\n",
            "\n",
            "Error: Invalid value: File does not exist: /content/smart-traffic-violation/streamlit_app.py\n",
            "\u001b[1G\u001b[0K⠏\u001b[1G\u001b[0K⠋\u001b[1G\u001b[0K⠙\u001b[1G\u001b[0K⠹\u001b[1G\u001b[0K\u001b[1G\u001b[0JNeed to install the following packages:\n",
            "localtunnel@2.0.2\n",
            "Ok to proceed? (y) \u001b[20Gy\n",
            "\n",
            "\u001b[1G\u001b[0K⠙\u001b[1G\u001b[0K⠹\u001b[1G\u001b[0K⠸\u001b[1G\u001b[0K⠼\u001b[1G\u001b[0K⠴\u001b[1G\u001b[0K⠦\u001b[1G\u001b[0K⠧\u001b[1G\u001b[0K⠇\u001b[1G\u001b[0K⠏\u001b[1G\u001b[0K⠋\u001b[1G\u001b[0K⠙\u001b[1G\u001b[0K⠹\u001b[1G\u001b[0K⠸\u001b[1G\u001b[0K⠼\u001b[1G\u001b[0K⠴\u001b[1G\u001b[0K⠦\u001b[1G\u001b[0K⠧\u001b[1G\u001b[0K⠇\u001b[1G\u001b[0K⠏\u001b[1G\u001b[0K⠋\u001b[1G\u001b[0K⠙\u001b[1G\u001b[0K⠹\u001b[1G\u001b[0K⠸\u001b[1G\u001b[0K⠼\u001b[1G\u001b[0K⠴\u001b[1G\u001b[0K⠦\u001b[1G\u001b[0K⠧\u001b[1G\u001b[0K⠇\u001b[1G\u001b[0K⠏\u001b[1G\u001b[0K⠋\u001b[1G\u001b[0Kyour url is: https://every-sheep-trade.loca.lt\n"
          ]
        }
      ],
      "source": [
        "!streamlit run /content/smart-traffic-violation/streamlit_app.py & npx localtunnel --port 8501\n"
      ]
    },
    {
      "cell_type": "code",
      "execution_count": null,
      "metadata": {
        "id": "4qvtwcdsFkd1"
      },
      "outputs": [],
      "source": [
        "!pip3 install streamlit --upgrade\n",
        "# THis should be able to get the plate number, fetch the mail to contatc with from DB and send the violation mail to both angent annd the  culprit"
      ]
    },
    {
      "cell_type": "code",
      "source": [],
      "metadata": {
        "id": "LZUivHVfXPmP"
      },
      "execution_count": null,
      "outputs": []
    }
  ],
  "metadata": {
    "accelerator": "GPU",
    "colab": {
      "collapsed_sections": [
        "-vooaEa-rSl4",
        "DqR0Y-0drcLB",
        "p5mGyQQ_HY3M",
        "LjxwwFHdHY3N",
        "M7jptMM1HY3O",
        "xPV7AdchHY3Q",
        "dQ_CjDqvHY3R"
      ],
      "gpuType": "T4",
      "provenance": [],
      "include_colab_link": true
    },
    "kernelspec": {
      "display_name": "Python 3",
      "name": "python3"
    },
    "language_info": {
      "name": "python"
    }
  },
  "nbformat": 4,
  "nbformat_minor": 0
}